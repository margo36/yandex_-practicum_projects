{
 "cells": [
  {
   "cell_type": "markdown",
   "metadata": {},
   "source": [
    "# Проверка гипотез по увеличению выручки в интернет-магазине —оценить результаты A/B теста"
   ]
  },
  {
   "cell_type": "markdown",
   "metadata": {},
   "source": [
    "## Загружаю данные и подготовливаю их к анализу"
   ]
  },
  {
   "cell_type": "code",
   "execution_count": 1,
   "metadata": {},
   "outputs": [],
   "source": [
    "# импорт библиотек\n",
    "import pandas as pd\n",
    "import datetime as dt\n",
    "import numpy as np\n",
    "import matplotlib.pyplot as plt\n",
    "import scipy.stats as stats"
   ]
  },
  {
   "cell_type": "markdown",
   "metadata": {},
   "source": [
    "### Данные о гипотезах"
   ]
  },
  {
   "cell_type": "code",
   "execution_count": 3,
   "metadata": {
    "scrolled": false
   },
   "outputs": [
    {
     "data": {
      "text/html": [
       "<div>\n",
       "<style scoped>\n",
       "    .dataframe tbody tr th:only-of-type {\n",
       "        vertical-align: middle;\n",
       "    }\n",
       "\n",
       "    .dataframe tbody tr th {\n",
       "        vertical-align: top;\n",
       "    }\n",
       "\n",
       "    .dataframe thead th {\n",
       "        text-align: right;\n",
       "    }\n",
       "</style>\n",
       "<table border=\"1\" class=\"dataframe\">\n",
       "  <thead>\n",
       "    <tr style=\"text-align: right;\">\n",
       "      <th></th>\n",
       "      <th>Hypothesis</th>\n",
       "      <th>Reach</th>\n",
       "      <th>Impact</th>\n",
       "      <th>Confidence</th>\n",
       "      <th>Efforts</th>\n",
       "    </tr>\n",
       "  </thead>\n",
       "  <tbody>\n",
       "    <tr>\n",
       "      <th>0</th>\n",
       "      <td>Добавить два новых канала привлечения трафика, что позволит привлекать на 30% больше пользователей</td>\n",
       "      <td>3</td>\n",
       "      <td>10</td>\n",
       "      <td>8</td>\n",
       "      <td>6</td>\n",
       "    </tr>\n",
       "    <tr>\n",
       "      <th>1</th>\n",
       "      <td>Запустить собственную службу доставки, что сократит срок доставки заказов</td>\n",
       "      <td>2</td>\n",
       "      <td>5</td>\n",
       "      <td>4</td>\n",
       "      <td>10</td>\n",
       "    </tr>\n",
       "    <tr>\n",
       "      <th>2</th>\n",
       "      <td>Добавить блоки рекомендаций товаров на сайт интернет магазина, чтобы повысить конверсию и средний чек заказа</td>\n",
       "      <td>8</td>\n",
       "      <td>3</td>\n",
       "      <td>7</td>\n",
       "      <td>3</td>\n",
       "    </tr>\n",
       "    <tr>\n",
       "      <th>3</th>\n",
       "      <td>Изменить структура категорий, что увеличит конверсию, т.к. пользователи быстрее найдут нужный товар</td>\n",
       "      <td>8</td>\n",
       "      <td>3</td>\n",
       "      <td>3</td>\n",
       "      <td>8</td>\n",
       "    </tr>\n",
       "    <tr>\n",
       "      <th>4</th>\n",
       "      <td>Изменить цвет фона главной страницы, чтобы увеличить вовлеченность пользователей</td>\n",
       "      <td>3</td>\n",
       "      <td>1</td>\n",
       "      <td>1</td>\n",
       "      <td>1</td>\n",
       "    </tr>\n",
       "    <tr>\n",
       "      <th>5</th>\n",
       "      <td>Добавить страницу отзывов клиентов о магазине, что позволит увеличить количество заказов</td>\n",
       "      <td>3</td>\n",
       "      <td>2</td>\n",
       "      <td>2</td>\n",
       "      <td>3</td>\n",
       "    </tr>\n",
       "    <tr>\n",
       "      <th>6</th>\n",
       "      <td>Показать на главной странице баннеры с актуальными акциями и распродажами, чтобы увеличить конверсию</td>\n",
       "      <td>5</td>\n",
       "      <td>3</td>\n",
       "      <td>8</td>\n",
       "      <td>3</td>\n",
       "    </tr>\n",
       "    <tr>\n",
       "      <th>7</th>\n",
       "      <td>Добавить форму подписки на все основные страницы, чтобы собрать базу клиентов для email-рассылок</td>\n",
       "      <td>10</td>\n",
       "      <td>7</td>\n",
       "      <td>8</td>\n",
       "      <td>5</td>\n",
       "    </tr>\n",
       "    <tr>\n",
       "      <th>8</th>\n",
       "      <td>Запустить акцию, дающую скидку на товар в день рождения</td>\n",
       "      <td>1</td>\n",
       "      <td>9</td>\n",
       "      <td>9</td>\n",
       "      <td>5</td>\n",
       "    </tr>\n",
       "  </tbody>\n",
       "</table>\n",
       "</div>"
      ],
      "text/plain": [
       "                                                                                                     Hypothesis  \\\n",
       "0            Добавить два новых канала привлечения трафика, что позволит привлекать на 30% больше пользователей   \n",
       "1                                     Запустить собственную службу доставки, что сократит срок доставки заказов   \n",
       "2  Добавить блоки рекомендаций товаров на сайт интернет магазина, чтобы повысить конверсию и средний чек заказа   \n",
       "3           Изменить структура категорий, что увеличит конверсию, т.к. пользователи быстрее найдут нужный товар   \n",
       "4                              Изменить цвет фона главной страницы, чтобы увеличить вовлеченность пользователей   \n",
       "5                      Добавить страницу отзывов клиентов о магазине, что позволит увеличить количество заказов   \n",
       "6          Показать на главной странице баннеры с актуальными акциями и распродажами, чтобы увеличить конверсию   \n",
       "7              Добавить форму подписки на все основные страницы, чтобы собрать базу клиентов для email-рассылок   \n",
       "8                                                       Запустить акцию, дающую скидку на товар в день рождения   \n",
       "\n",
       "   Reach  Impact  Confidence  Efforts  \n",
       "0      3      10           8        6  \n",
       "1      2       5           4       10  \n",
       "2      8       3           7        3  \n",
       "3      8       3           3        8  \n",
       "4      3       1           1        1  \n",
       "5      3       2           2        3  \n",
       "6      5       3           8        3  \n",
       "7     10       7           8        5  \n",
       "8      1       9           9        5  "
      ]
     },
     "metadata": {},
     "output_type": "display_data"
    },
    {
     "name": "stdout",
     "output_type": "stream",
     "text": [
      "<class 'pandas.core.frame.DataFrame'>\n",
      "RangeIndex: 9 entries, 0 to 8\n",
      "Data columns (total 5 columns):\n",
      " #   Column      Non-Null Count  Dtype \n",
      "---  ------      --------------  ----- \n",
      " 0   Hypothesis  9 non-null      object\n",
      " 1   Reach       9 non-null      int64 \n",
      " 2   Impact      9 non-null      int64 \n",
      " 3   Confidence  9 non-null      int64 \n",
      " 4   Efforts     9 non-null      int64 \n",
      "dtypes: int64(4), object(1)\n",
      "memory usage: 488.0+ bytes\n"
     ]
    }
   ],
   "source": [
    "# пишу код для полного вывода названий гипотез\n",
    "pd.set_option('display.max_colwidth', None)\n",
    "\n",
    "# вывожу на экран данные о всех 9 гипотез\n",
    "display(hypothesis)\n",
    "\n",
    "# изучаю информацию о датафрейме\n",
    "hypothesis.info()"
   ]
  },
  {
   "cell_type": "markdown",
   "metadata": {},
   "source": [
    "**Вывод:** Изучив полученную информацию о данных можно сказать следующее:\n",
    "\n",
    "- Наименования столбцов не соответствуют стилю кода. Необходимо привести их к нижнему регистру.\n",
    "- Пропущенных значений нет.\n",
    "- Явных дубликатов нет."
   ]
  },
  {
   "cell_type": "code",
   "execution_count": 4,
   "metadata": {},
   "outputs": [],
   "source": [
    "# привожу наименования столбцов к нижнему регистру\n",
    "hypothesis.columns = hypothesis.columns.str.lower()"
   ]
  },
  {
   "cell_type": "markdown",
   "metadata": {},
   "source": [
    "### Данные о заказах"
   ]
  },
  {
   "cell_type": "code",
   "execution_count": 5,
   "metadata": {
    "scrolled": false
   },
   "outputs": [
    {
     "data": {
      "text/html": [
       "<div>\n",
       "<style scoped>\n",
       "    .dataframe tbody tr th:only-of-type {\n",
       "        vertical-align: middle;\n",
       "    }\n",
       "\n",
       "    .dataframe tbody tr th {\n",
       "        vertical-align: top;\n",
       "    }\n",
       "\n",
       "    .dataframe thead th {\n",
       "        text-align: right;\n",
       "    }\n",
       "</style>\n",
       "<table border=\"1\" class=\"dataframe\">\n",
       "  <thead>\n",
       "    <tr style=\"text-align: right;\">\n",
       "      <th></th>\n",
       "      <th>transactionId</th>\n",
       "      <th>visitorId</th>\n",
       "      <th>date</th>\n",
       "      <th>revenue</th>\n",
       "      <th>group</th>\n",
       "    </tr>\n",
       "  </thead>\n",
       "  <tbody>\n",
       "    <tr>\n",
       "      <th>0</th>\n",
       "      <td>3667963787</td>\n",
       "      <td>3312258926</td>\n",
       "      <td>2019-08-15</td>\n",
       "      <td>1650</td>\n",
       "      <td>B</td>\n",
       "    </tr>\n",
       "    <tr>\n",
       "      <th>1</th>\n",
       "      <td>2804400009</td>\n",
       "      <td>3642806036</td>\n",
       "      <td>2019-08-15</td>\n",
       "      <td>730</td>\n",
       "      <td>B</td>\n",
       "    </tr>\n",
       "    <tr>\n",
       "      <th>2</th>\n",
       "      <td>2961555356</td>\n",
       "      <td>4069496402</td>\n",
       "      <td>2019-08-15</td>\n",
       "      <td>400</td>\n",
       "      <td>A</td>\n",
       "    </tr>\n",
       "    <tr>\n",
       "      <th>3</th>\n",
       "      <td>3797467345</td>\n",
       "      <td>1196621759</td>\n",
       "      <td>2019-08-15</td>\n",
       "      <td>9759</td>\n",
       "      <td>B</td>\n",
       "    </tr>\n",
       "    <tr>\n",
       "      <th>4</th>\n",
       "      <td>2282983706</td>\n",
       "      <td>2322279887</td>\n",
       "      <td>2019-08-15</td>\n",
       "      <td>2308</td>\n",
       "      <td>B</td>\n",
       "    </tr>\n",
       "  </tbody>\n",
       "</table>\n",
       "</div>"
      ],
      "text/plain": [
       "   transactionId   visitorId        date  revenue group\n",
       "0     3667963787  3312258926  2019-08-15     1650     B\n",
       "1     2804400009  3642806036  2019-08-15      730     B\n",
       "2     2961555356  4069496402  2019-08-15      400     A\n",
       "3     3797467345  1196621759  2019-08-15     9759     B\n",
       "4     2282983706  2322279887  2019-08-15     2308     B"
      ]
     },
     "metadata": {},
     "output_type": "display_data"
    },
    {
     "name": "stdout",
     "output_type": "stream",
     "text": [
      "<class 'pandas.core.frame.DataFrame'>\n",
      "RangeIndex: 1197 entries, 0 to 1196\n",
      "Data columns (total 5 columns):\n",
      " #   Column         Non-Null Count  Dtype \n",
      "---  ------         --------------  ----- \n",
      " 0   transactionId  1197 non-null   int64 \n",
      " 1   visitorId      1197 non-null   int64 \n",
      " 2   date           1197 non-null   object\n",
      " 3   revenue        1197 non-null   int64 \n",
      " 4   group          1197 non-null   object\n",
      "dtypes: int64(3), object(2)\n",
      "memory usage: 46.9+ KB\n"
     ]
    },
    {
     "data": {
      "text/plain": [
       "0"
      ]
     },
     "execution_count": 5,
     "metadata": {},
     "output_type": "execute_result"
    }
   ],
   "source": [
    "# вывожу на экран первые 5 строчек датафрейма\n",
    "display(orders.head())\n",
    "\n",
    "# изучаю информацию о датафрейме\n",
    "orders.info()\n",
    "\n",
    "# проверяю на наличие явных дубликатов\n",
    "orders.duplicated().sum()"
   ]
  },
  {
   "cell_type": "markdown",
   "metadata": {},
   "source": [
    "**Вывод:** Изучив полученную информацию о данных можно сказать следующее:\n",
    "\n",
    "- Наименования столбцов `transactionId` и `visitorId` не соответствуют стилю кода. Необходимо привести их к нижнему регистру и поставить пробелы между словами.\n",
    "- Данные столбца `date` необходимо преобразовать в нужный тип для работы со временем.\n",
    "- Пропущенных значений нет.\n",
    "- Явных дубликатов нет."
   ]
  },
  {
   "cell_type": "code",
   "execution_count": 6,
   "metadata": {},
   "outputs": [],
   "source": [
    "# преобразовываю данные о времени в необходимый для работы тип\n",
    "orders['date'] = orders['date'].map(lambda x: dt.datetime.strptime(x, '%Y-%m-%d')) \n",
    "\n",
    "# заменяю наименования столбцов в соответствии со стилем кода\n",
    "orders = orders.rename(columns={'transactionId':'transaction_id', 'visitorId':'visitor_id'})"
   ]
  },
  {
   "cell_type": "markdown",
   "metadata": {},
   "source": [
    "### Данные в визитах"
   ]
  },
  {
   "cell_type": "code",
   "execution_count": 7,
   "metadata": {
    "scrolled": false
   },
   "outputs": [
    {
     "data": {
      "text/html": [
       "<div>\n",
       "<style scoped>\n",
       "    .dataframe tbody tr th:only-of-type {\n",
       "        vertical-align: middle;\n",
       "    }\n",
       "\n",
       "    .dataframe tbody tr th {\n",
       "        vertical-align: top;\n",
       "    }\n",
       "\n",
       "    .dataframe thead th {\n",
       "        text-align: right;\n",
       "    }\n",
       "</style>\n",
       "<table border=\"1\" class=\"dataframe\">\n",
       "  <thead>\n",
       "    <tr style=\"text-align: right;\">\n",
       "      <th></th>\n",
       "      <th>date</th>\n",
       "      <th>group</th>\n",
       "      <th>visitors</th>\n",
       "    </tr>\n",
       "  </thead>\n",
       "  <tbody>\n",
       "    <tr>\n",
       "      <th>0</th>\n",
       "      <td>2019-08-01</td>\n",
       "      <td>A</td>\n",
       "      <td>719</td>\n",
       "    </tr>\n",
       "    <tr>\n",
       "      <th>1</th>\n",
       "      <td>2019-08-02</td>\n",
       "      <td>A</td>\n",
       "      <td>619</td>\n",
       "    </tr>\n",
       "    <tr>\n",
       "      <th>2</th>\n",
       "      <td>2019-08-03</td>\n",
       "      <td>A</td>\n",
       "      <td>507</td>\n",
       "    </tr>\n",
       "    <tr>\n",
       "      <th>3</th>\n",
       "      <td>2019-08-04</td>\n",
       "      <td>A</td>\n",
       "      <td>717</td>\n",
       "    </tr>\n",
       "    <tr>\n",
       "      <th>4</th>\n",
       "      <td>2019-08-05</td>\n",
       "      <td>A</td>\n",
       "      <td>756</td>\n",
       "    </tr>\n",
       "  </tbody>\n",
       "</table>\n",
       "</div>"
      ],
      "text/plain": [
       "         date group  visitors\n",
       "0  2019-08-01     A       719\n",
       "1  2019-08-02     A       619\n",
       "2  2019-08-03     A       507\n",
       "3  2019-08-04     A       717\n",
       "4  2019-08-05     A       756"
      ]
     },
     "metadata": {},
     "output_type": "display_data"
    },
    {
     "name": "stdout",
     "output_type": "stream",
     "text": [
      "<class 'pandas.core.frame.DataFrame'>\n",
      "RangeIndex: 62 entries, 0 to 61\n",
      "Data columns (total 3 columns):\n",
      " #   Column    Non-Null Count  Dtype \n",
      "---  ------    --------------  ----- \n",
      " 0   date      62 non-null     object\n",
      " 1   group     62 non-null     object\n",
      " 2   visitors  62 non-null     int64 \n",
      "dtypes: int64(1), object(2)\n",
      "memory usage: 1.6+ KB\n"
     ]
    },
    {
     "data": {
      "text/plain": [
       "0"
      ]
     },
     "execution_count": 7,
     "metadata": {},
     "output_type": "execute_result"
    }
   ],
   "source": [
    "# вывожу на экран первые 5 строчек датафрейма\n",
    "display(visitors.head())\n",
    "\n",
    "# изучаю информацию о датафрейме\n",
    "visitors.info()\n",
    "\n",
    "# проверяю на наличие явных дубликатов\n",
    "visitors.duplicated().sum()"
   ]
  },
  {
   "cell_type": "markdown",
   "metadata": {},
   "source": [
    "**Вывод:** Изучив полученную информацию о данных можно сказать следующее:\n",
    "\n",
    "- Данные столбца date необходимо преобразовать в нужный тип для работы со временем.\n",
    "- Пропущенных значений нет.\n",
    "- Явных дубликатов нет."
   ]
  },
  {
   "cell_type": "code",
   "execution_count": 8,
   "metadata": {},
   "outputs": [],
   "source": [
    "# преобразовываю данные о времени в необходимый для работы тип\n",
    "visitors['date'] = visitors['date'].map(lambda x: dt.datetime.strptime(x, '%Y-%m-%d'))"
   ]
  },
  {
   "cell_type": "markdown",
   "metadata": {},
   "source": [
    "**ВЫВОД: Данные загружены, изучены и произведены все необходимые преобразования. Данные готовы для дальнейшего анализа.**"
   ]
  },
  {
   "cell_type": "code",
   "execution_count": 9,
   "metadata": {},
   "outputs": [
    {
     "data": {
      "text/plain": [
       "['A', 'B']"
      ]
     },
     "execution_count": 9,
     "metadata": {},
     "output_type": "execute_result"
    }
   ],
   "source": [
    "# посмотрим сколько у нас групп в АВ-тесте\n",
    "sorted(visitors['group'].unique())"
   ]
  },
  {
   "cell_type": "markdown",
   "metadata": {},
   "source": [
    "В тесте у нас 2 группы - А и В"
   ]
  },
  {
   "cell_type": "code",
   "execution_count": 10,
   "metadata": {
    "scrolled": true
   },
   "outputs": [
    {
     "data": {
      "text/plain": [
       "Timestamp('2019-08-01 00:00:00')"
      ]
     },
     "metadata": {},
     "output_type": "display_data"
    },
    {
     "data": {
      "text/plain": [
       "Timestamp('2019-08-01 00:00:00')"
      ]
     },
     "metadata": {},
     "output_type": "display_data"
    },
    {
     "data": {
      "text/plain": [
       "Timestamp('2019-08-31 00:00:00')"
      ]
     },
     "metadata": {},
     "output_type": "display_data"
    },
    {
     "data": {
      "text/plain": [
       "Timestamp('2019-08-31 00:00:00')"
      ]
     },
     "execution_count": 10,
     "metadata": {},
     "output_type": "execute_result"
    }
   ],
   "source": [
    "# изучим временной интервал, узнав даты начала и окончания теста в таблицах с заказами и визитами\n",
    "display(orders['date'].min())\n",
    "display(visitors['date'].min())\n",
    "display(orders['date'].max())\n",
    "visitors['date'].max()"
   ]
  },
  {
   "cell_type": "markdown",
   "metadata": {},
   "source": [
    "Даты начала и окончания теста в обеих таблицах одинаковые. Тест проводился с 01.08.2019 по 31.08.2019."
   ]
  },
  {
   "cell_type": "code",
   "execution_count": 11,
   "metadata": {
    "scrolled": true
   },
   "outputs": [
    {
     "data": {
      "text/html": [
       "<div>\n",
       "<style scoped>\n",
       "    .dataframe tbody tr th:only-of-type {\n",
       "        vertical-align: middle;\n",
       "    }\n",
       "\n",
       "    .dataframe tbody tr th {\n",
       "        vertical-align: top;\n",
       "    }\n",
       "\n",
       "    .dataframe thead th {\n",
       "        text-align: right;\n",
       "    }\n",
       "</style>\n",
       "<table border=\"1\" class=\"dataframe\">\n",
       "  <thead>\n",
       "    <tr style=\"text-align: right;\">\n",
       "      <th></th>\n",
       "      <th>visitor_id</th>\n",
       "    </tr>\n",
       "    <tr>\n",
       "      <th>group</th>\n",
       "      <th></th>\n",
       "    </tr>\n",
       "  </thead>\n",
       "  <tbody>\n",
       "    <tr>\n",
       "      <th>A</th>\n",
       "      <td>557</td>\n",
       "    </tr>\n",
       "    <tr>\n",
       "      <th>B</th>\n",
       "      <td>640</td>\n",
       "    </tr>\n",
       "  </tbody>\n",
       "</table>\n",
       "</div>"
      ],
      "text/plain": [
       "       visitor_id\n",
       "group            \n",
       "A             557\n",
       "B             640"
      ]
     },
     "execution_count": 11,
     "metadata": {},
     "output_type": "execute_result"
    }
   ],
   "source": [
    "# рассмотрим количество пользователей в каждой группе\n",
    "orders.groupby(['group']).agg({'visitor_id':'count'})"
   ]
  },
  {
   "cell_type": "markdown",
   "metadata": {},
   "source": [
    "В группах разное количество пользователей. В группе А - 557, а в группе В - 640."
   ]
  },
  {
   "cell_type": "code",
   "execution_count": 12,
   "metadata": {
    "scrolled": true
   },
   "outputs": [
    {
     "data": {
      "text/plain": [
       "59"
      ]
     },
     "execution_count": 12,
     "metadata": {},
     "output_type": "execute_result"
    }
   ],
   "source": [
    "# посмотрим не попадают ли какие-то пользователи в обе группы\n",
    "orders[orders[['visitor_id', 'group']].duplicated()]['visitor_id'].nunique()"
   ]
  },
  {
   "cell_type": "markdown",
   "metadata": {},
   "source": [
    "Есть пользователи, которые попали в обе группы теста одновременно. Это говорит об ошибке в сборе данных. Удаление этих пользователей повлияет на конверсию, так как мы можем удалить их только из таблицы с заказами. А в таблице с визитами данные уже агрегированы по дням. Значит мы их не удаляем."
   ]
  },
  {
   "cell_type": "code",
   "execution_count": 13,
   "metadata": {
    "scrolled": true
   },
   "outputs": [
    {
     "data": {
      "image/png": "[encoded data removed]",
      "text/plain": [
       "<Figure size 1080x360 with 1 Axes>"
      ]
     },
     "metadata": {
      "needs_background": "light"
     },
     "output_type": "display_data"
    }
   ],
   "source": [
    "# посмотрим динамику посетителей по дням по группам (visitos)\n",
    "group_a = visitors[visitors['group']=='A'][['date','visitors']]\n",
    "group_b = visitors[visitors['group']=='B'][['date','visitors']]\n",
    "\n",
    "plt.figure(figsize=(15,5))\n",
    "plt.plot(group_a['date'], group_a['visitors'], label='A')\n",
    "plt.plot(group_b['date'], group_b['visitors'], label='B')\n",
    "\n",
    "plt.title('Динамика посетителей по дням по группам')\n",
    "plt.xlabel('Дата')\n",
    "plt.ylabel('Количество посетителей')\n",
    "plt.grid()\n",
    "plt.legend() \n",
    "plt.show()"
   ]
  },
  {
   "cell_type": "markdown",
   "metadata": {},
   "source": [
    "Динамика посещений по группах распределена практически равмномерно. С одинаковым увеличением и уменьшением, за исключением периода 04.08.2019-09.08.2019"
   ]
  },
  {
   "cell_type": "markdown",
   "metadata": {},
   "source": [
    "## Часть 1. Приоритизация гипотез."
   ]
  },
  {
   "cell_type": "markdown",
   "metadata": {},
   "source": [
    "9 гипотез по увеличению выручки интернет-магазина с указанными параметрами `Reach`, `Impact`, `Confidence`, `Effort`.\n",
    "    \n",
    "**Задача**\n",
    "- Применить фреймворк ICE для приоритизации гипотез.\n",
    "- Применить фреймворк RICE для приоритизации гипотез.\n",
    "- Изучить, как изменилась приоритизация гипотез при применении RICE вместо ICE."
   ]
  },
  {
   "cell_type": "markdown",
   "metadata": {},
   "source": [
    "### Применяю фреймворк ICE для приоритизации гипотез. "
   ]
  },
  {
   "cell_type": "code",
   "execution_count": 14,
   "metadata": {
    "scrolled": true
   },
   "outputs": [
    {
     "data": {
      "text/html": [
       "<div>\n",
       "<style scoped>\n",
       "    .dataframe tbody tr th:only-of-type {\n",
       "        vertical-align: middle;\n",
       "    }\n",
       "\n",
       "    .dataframe tbody tr th {\n",
       "        vertical-align: top;\n",
       "    }\n",
       "\n",
       "    .dataframe thead th {\n",
       "        text-align: right;\n",
       "    }\n",
       "</style>\n",
       "<table border=\"1\" class=\"dataframe\">\n",
       "  <thead>\n",
       "    <tr style=\"text-align: right;\">\n",
       "      <th></th>\n",
       "      <th>hypothesis</th>\n",
       "      <th>ice</th>\n",
       "    </tr>\n",
       "  </thead>\n",
       "  <tbody>\n",
       "    <tr>\n",
       "      <th>8</th>\n",
       "      <td>Запустить акцию, дающую скидку на товар в день рождения</td>\n",
       "      <td>16.20</td>\n",
       "    </tr>\n",
       "    <tr>\n",
       "      <th>0</th>\n",
       "      <td>Добавить два новых канала привлечения трафика, что позволит привлекать на 30% больше пользователей</td>\n",
       "      <td>13.33</td>\n",
       "    </tr>\n",
       "    <tr>\n",
       "      <th>7</th>\n",
       "      <td>Добавить форму подписки на все основные страницы, чтобы собрать базу клиентов для email-рассылок</td>\n",
       "      <td>11.20</td>\n",
       "    </tr>\n",
       "    <tr>\n",
       "      <th>6</th>\n",
       "      <td>Показать на главной странице баннеры с актуальными акциями и распродажами, чтобы увеличить конверсию</td>\n",
       "      <td>8.00</td>\n",
       "    </tr>\n",
       "    <tr>\n",
       "      <th>2</th>\n",
       "      <td>Добавить блоки рекомендаций товаров на сайт интернет магазина, чтобы повысить конверсию и средний чек заказа</td>\n",
       "      <td>7.00</td>\n",
       "    </tr>\n",
       "    <tr>\n",
       "      <th>1</th>\n",
       "      <td>Запустить собственную службу доставки, что сократит срок доставки заказов</td>\n",
       "      <td>2.00</td>\n",
       "    </tr>\n",
       "    <tr>\n",
       "      <th>5</th>\n",
       "      <td>Добавить страницу отзывов клиентов о магазине, что позволит увеличить количество заказов</td>\n",
       "      <td>1.33</td>\n",
       "    </tr>\n",
       "    <tr>\n",
       "      <th>3</th>\n",
       "      <td>Изменить структура категорий, что увеличит конверсию, т.к. пользователи быстрее найдут нужный товар</td>\n",
       "      <td>1.12</td>\n",
       "    </tr>\n",
       "    <tr>\n",
       "      <th>4</th>\n",
       "      <td>Изменить цвет фона главной страницы, чтобы увеличить вовлеченность пользователей</td>\n",
       "      <td>1.00</td>\n",
       "    </tr>\n",
       "  </tbody>\n",
       "</table>\n",
       "</div>"
      ],
      "text/plain": [
       "                                                                                                     hypothesis  \\\n",
       "8                                                       Запустить акцию, дающую скидку на товар в день рождения   \n",
       "0            Добавить два новых канала привлечения трафика, что позволит привлекать на 30% больше пользователей   \n",
       "7              Добавить форму подписки на все основные страницы, чтобы собрать базу клиентов для email-рассылок   \n",
       "6          Показать на главной странице баннеры с актуальными акциями и распродажами, чтобы увеличить конверсию   \n",
       "2  Добавить блоки рекомендаций товаров на сайт интернет магазина, чтобы повысить конверсию и средний чек заказа   \n",
       "1                                     Запустить собственную службу доставки, что сократит срок доставки заказов   \n",
       "5                      Добавить страницу отзывов клиентов о магазине, что позволит увеличить количество заказов   \n",
       "3           Изменить структура категорий, что увеличит конверсию, т.к. пользователи быстрее найдут нужный товар   \n",
       "4                              Изменить цвет фона главной страницы, чтобы увеличить вовлеченность пользователей   \n",
       "\n",
       "     ice  \n",
       "8  16.20  \n",
       "0  13.33  \n",
       "7  11.20  \n",
       "6   8.00  \n",
       "2   7.00  \n",
       "1   2.00  \n",
       "5   1.33  \n",
       "3   1.12  \n",
       "4   1.00  "
      ]
     },
     "execution_count": 14,
     "metadata": {},
     "output_type": "execute_result"
    }
   ],
   "source": [
    "# применяю фреймворк ICE для приоритизации гипотез\n",
    "hypothesis['ice'] = round(((hypothesis['impact']*hypothesis['confidence'])/hypothesis['efforts']), 2)\n",
    "hypothesis[['hypothesis', 'ice']].sort_values(by='ice', ascending=False)"
   ]
  },
  {
   "cell_type": "markdown",
   "metadata": {},
   "source": [
    "**Вывод:** Наиболее перспективные гипотезы по ICE: \"Запустить акцию, дающую скидку на товар в день рождения\", \"Добавить два новых канала привлечения трафика, что позволит привлекать на 30% больше пользователей\" и \"Добавить форму подписки на все основные страницы, чтобы собрать базу клиентов для email-рассылок\"."
   ]
  },
  {
   "cell_type": "markdown",
   "metadata": {},
   "source": [
    "### Применяю фреймворк RICE для приоритизации гипотез."
   ]
  },
  {
   "cell_type": "code",
   "execution_count": 15,
   "metadata": {},
   "outputs": [
    {
     "data": {
      "text/html": [
       "<div>\n",
       "<style scoped>\n",
       "    .dataframe tbody tr th:only-of-type {\n",
       "        vertical-align: middle;\n",
       "    }\n",
       "\n",
       "    .dataframe tbody tr th {\n",
       "        vertical-align: top;\n",
       "    }\n",
       "\n",
       "    .dataframe thead th {\n",
       "        text-align: right;\n",
       "    }\n",
       "</style>\n",
       "<table border=\"1\" class=\"dataframe\">\n",
       "  <thead>\n",
       "    <tr style=\"text-align: right;\">\n",
       "      <th></th>\n",
       "      <th>hypothesis</th>\n",
       "      <th>rice</th>\n",
       "    </tr>\n",
       "  </thead>\n",
       "  <tbody>\n",
       "    <tr>\n",
       "      <th>7</th>\n",
       "      <td>Добавить форму подписки на все основные страницы, чтобы собрать базу клиентов для email-рассылок</td>\n",
       "      <td>112.0</td>\n",
       "    </tr>\n",
       "    <tr>\n",
       "      <th>2</th>\n",
       "      <td>Добавить блоки рекомендаций товаров на сайт интернет магазина, чтобы повысить конверсию и средний чек заказа</td>\n",
       "      <td>56.0</td>\n",
       "    </tr>\n",
       "    <tr>\n",
       "      <th>0</th>\n",
       "      <td>Добавить два новых канала привлечения трафика, что позволит привлекать на 30% больше пользователей</td>\n",
       "      <td>40.0</td>\n",
       "    </tr>\n",
       "    <tr>\n",
       "      <th>6</th>\n",
       "      <td>Показать на главной странице баннеры с актуальными акциями и распродажами, чтобы увеличить конверсию</td>\n",
       "      <td>40.0</td>\n",
       "    </tr>\n",
       "    <tr>\n",
       "      <th>8</th>\n",
       "      <td>Запустить акцию, дающую скидку на товар в день рождения</td>\n",
       "      <td>16.2</td>\n",
       "    </tr>\n",
       "    <tr>\n",
       "      <th>3</th>\n",
       "      <td>Изменить структура категорий, что увеличит конверсию, т.к. пользователи быстрее найдут нужный товар</td>\n",
       "      <td>9.0</td>\n",
       "    </tr>\n",
       "    <tr>\n",
       "      <th>1</th>\n",
       "      <td>Запустить собственную службу доставки, что сократит срок доставки заказов</td>\n",
       "      <td>4.0</td>\n",
       "    </tr>\n",
       "    <tr>\n",
       "      <th>5</th>\n",
       "      <td>Добавить страницу отзывов клиентов о магазине, что позволит увеличить количество заказов</td>\n",
       "      <td>4.0</td>\n",
       "    </tr>\n",
       "    <tr>\n",
       "      <th>4</th>\n",
       "      <td>Изменить цвет фона главной страницы, чтобы увеличить вовлеченность пользователей</td>\n",
       "      <td>3.0</td>\n",
       "    </tr>\n",
       "  </tbody>\n",
       "</table>\n",
       "</div>"
      ],
      "text/plain": [
       "                                                                                                     hypothesis  \\\n",
       "7              Добавить форму подписки на все основные страницы, чтобы собрать базу клиентов для email-рассылок   \n",
       "2  Добавить блоки рекомендаций товаров на сайт интернет магазина, чтобы повысить конверсию и средний чек заказа   \n",
       "0            Добавить два новых канала привлечения трафика, что позволит привлекать на 30% больше пользователей   \n",
       "6          Показать на главной странице баннеры с актуальными акциями и распродажами, чтобы увеличить конверсию   \n",
       "8                                                       Запустить акцию, дающую скидку на товар в день рождения   \n",
       "3           Изменить структура категорий, что увеличит конверсию, т.к. пользователи быстрее найдут нужный товар   \n",
       "1                                     Запустить собственную службу доставки, что сократит срок доставки заказов   \n",
       "5                      Добавить страницу отзывов клиентов о магазине, что позволит увеличить количество заказов   \n",
       "4                              Изменить цвет фона главной страницы, чтобы увеличить вовлеченность пользователей   \n",
       "\n",
       "    rice  \n",
       "7  112.0  \n",
       "2   56.0  \n",
       "0   40.0  \n",
       "6   40.0  \n",
       "8   16.2  \n",
       "3    9.0  \n",
       "1    4.0  \n",
       "5    4.0  \n",
       "4    3.0  "
      ]
     },
     "execution_count": 15,
     "metadata": {},
     "output_type": "execute_result"
    }
   ],
   "source": [
    "# применяю фреймворк RICE для приоритизации гипотез\n",
    "hypothesis['rice'] = (hypothesis['reach']*hypothesis['impact']*hypothesis['confidence'])/hypothesis['efforts']\n",
    "hypothesis[['hypothesis', 'rice']].sort_values(by='rice', ascending=False)"
   ]
  },
  {
   "cell_type": "markdown",
   "metadata": {},
   "source": [
    "**Вывод:** Наиболее перспективные гипотезы по RICE:  \"Добавить форму подписки на все основные страницы, чтобы собрать базу клиентов для email-рассылок\", \"Добавить блоки рекомендаций товаров на сайт интернет магазина, чтобы повысить конверсию и средний чек заказа\", \"Добавить два новых канала привлечения трафика, что позволит привлекать на 30% больше пользователей\" и \"Показать на главной странице баннеры с актуальными акциями и распродажами, чтобы увеличить конверсию\"."
   ]
  },
  {
   "cell_type": "markdown",
   "metadata": {},
   "source": [
    "### Изучаю, как изменилась приоритизация гипотез при применении RICE вместо ICE и выясняю почему так произошло."
   ]
  },
  {
   "cell_type": "markdown",
   "metadata": {},
   "source": [
    "По полученным таблицам очень хорошо видна разница в результатах приоритизации. \n",
    "- По фреймворку ICE это гипотезы: \"Запустить акцию, дающую скидку на товар в день рождения\", \"Добавить два новых канала привлечения трафика, что позволит привлекать на 30% больше пользователей\" и \"Добавить форму подписки на все основные страницы, чтобы собрать базу клиентов для email-рассылок\".\n",
    "- По фреймворку RICE: \"Добавить форму подписки на все основные страницы, чтобы собрать базу клиентов для email-рассылок\", \"Добавить блоки рекомендаций товаров на сайт интернет магазина, чтобы повысить конверсию и средний чек заказа\", \"Добавить два новых канала привлечения трафика, что позволит привлекать на 30% больше пользователей\" и \"Показать на главной странице баннеры с актуальными акциями и распродажами, чтобы увеличить конверсию\".\n",
    "    \n",
    "В лидерах по двум фреймворках присутствуют гипотезы \"Добавить форму подписки на все основные страницы, чтобы собрать базу клиентов для email-рассылок\" и \"Добавить два новых канала привлечения трафика, что позволит привлекать на 30% больше пользователей\". \n",
    "Такая разница возникает благодаря компоненту Reach в фреймворке RICE: он показывает скольких пользователей затронет изменение. А у гипотезы \"Добавить форму подписки на все основные страницы, чтобы собрать базу клиентов для email-рассылок\" этот показатель максимальный и равен 10. **Поэтому для проведения А/В теста можно предложить гипотезу \"Добавить форму подписки на все основные страницы, чтобы собрать базу клиентов для email-рассылок\".**\n",
    "\n",
    "У гипотезы \"Добавить форму подписки на все основные страницы, чтобы собрать базу клиентов для email-рассылок\" показатели:\n",
    "- Reach - скольких пользователей затронет изменение, которое мы хотите внести - 10.\n",
    "- Impact - насколько сильно изменение повлияет на пользователей, их опыт и удовлетворение от продукта - 7.\n",
    "- Confidence - насколько мы уверены, что это изменение повлияет на пользователей именно так\t-8.\n",
    "- Efforts - сколько стоит протестировать эту гипотезу - 5."
   ]
  },
  {
   "cell_type": "markdown",
   "metadata": {},
   "source": [
    "## Часть 2. Анализ A/B-теста"
   ]
  },
  {
   "cell_type": "markdown",
   "metadata": {},
   "source": [
    "Мы провели A/B-тест и получили результаты"
   ]
  },
  {
   "cell_type": "markdown",
   "metadata": {},
   "source": [
    "### Построим график кумулятивной выручки по группам. "
   ]
  },
  {
   "cell_type": "markdown",
   "metadata": {},
   "source": [
    "Соберём агрегированные кумулятивные по дням данные о заказах в несколько действий. "
   ]
  },
  {
   "cell_type": "code",
   "execution_count": 16,
   "metadata": {},
   "outputs": [
    {
     "data": {
      "text/html": [
       "<div>\n",
       "<style scoped>\n",
       "    .dataframe tbody tr th:only-of-type {\n",
       "        vertical-align: middle;\n",
       "    }\n",
       "\n",
       "    .dataframe tbody tr th {\n",
       "        vertical-align: top;\n",
       "    }\n",
       "\n",
       "    .dataframe thead th {\n",
       "        text-align: right;\n",
       "    }\n",
       "</style>\n",
       "<table border=\"1\" class=\"dataframe\">\n",
       "  <thead>\n",
       "    <tr style=\"text-align: right;\">\n",
       "      <th></th>\n",
       "      <th>date</th>\n",
       "      <th>group</th>\n",
       "      <th>orders</th>\n",
       "      <th>buyers</th>\n",
       "      <th>revenue</th>\n",
       "      <th>visitors</th>\n",
       "    </tr>\n",
       "  </thead>\n",
       "  <tbody>\n",
       "    <tr>\n",
       "      <th>0</th>\n",
       "      <td>2019-08-01</td>\n",
       "      <td>A</td>\n",
       "      <td>24</td>\n",
       "      <td>20</td>\n",
       "      <td>148579</td>\n",
       "      <td>719</td>\n",
       "    </tr>\n",
       "    <tr>\n",
       "      <th>1</th>\n",
       "      <td>2019-08-01</td>\n",
       "      <td>B</td>\n",
       "      <td>21</td>\n",
       "      <td>20</td>\n",
       "      <td>101217</td>\n",
       "      <td>713</td>\n",
       "    </tr>\n",
       "    <tr>\n",
       "      <th>2</th>\n",
       "      <td>2019-08-02</td>\n",
       "      <td>A</td>\n",
       "      <td>44</td>\n",
       "      <td>38</td>\n",
       "      <td>242401</td>\n",
       "      <td>1338</td>\n",
       "    </tr>\n",
       "    <tr>\n",
       "      <th>3</th>\n",
       "      <td>2019-08-02</td>\n",
       "      <td>B</td>\n",
       "      <td>45</td>\n",
       "      <td>43</td>\n",
       "      <td>266748</td>\n",
       "      <td>1294</td>\n",
       "    </tr>\n",
       "    <tr>\n",
       "      <th>4</th>\n",
       "      <td>2019-08-03</td>\n",
       "      <td>A</td>\n",
       "      <td>68</td>\n",
       "      <td>62</td>\n",
       "      <td>354874</td>\n",
       "      <td>1845</td>\n",
       "    </tr>\n",
       "  </tbody>\n",
       "</table>\n",
       "</div>"
      ],
      "text/plain": [
       "        date group  orders  buyers  revenue  visitors\n",
       "0 2019-08-01     A      24      20   148579       719\n",
       "1 2019-08-01     B      21      20   101217       713\n",
       "2 2019-08-02     A      44      38   242401      1338\n",
       "3 2019-08-02     B      45      43   266748      1294\n",
       "4 2019-08-03     A      68      62   354874      1845"
      ]
     },
     "execution_count": 16,
     "metadata": {},
     "output_type": "execute_result"
    }
   ],
   "source": [
    "# создадим массив уникальных пар значений дат и групп теста\n",
    "datesGroups = orders[['date','group']].drop_duplicates()\n",
    "\n",
    "# соберём агрегированные кумулятивные по дням данные о заказах\n",
    "ordersAggregated = datesGroups.apply(\n",
    "    lambda x: orders[\n",
    "        np.logical_and(\n",
    "            orders['date'] <= x['date'], orders['group'] == x['group']\n",
    "        )\n",
    "    ].agg(\n",
    "        {\n",
    "            'date': 'max',\n",
    "            'group': 'max',\n",
    "            'transaction_id': 'nunique',\n",
    "            'visitor_id': 'nunique',\n",
    "            'revenue': 'sum',\n",
    "        }\n",
    "    ),\n",
    "    axis=1,\n",
    ").sort_values(by=['date', 'group'])\n",
    "\n",
    "# получим агрегированные кумулятивные по дням данные о посетителях интернет-магазина\n",
    "visitorsAggregated = datesGroups.apply(\n",
    "    lambda x: visitors[\n",
    "        np.logical_and(\n",
    "            visitors['date'] <= x['date'], visitors['group'] == x['group']\n",
    "        )\n",
    "    ].agg({'date': 'max', 'group': 'max', 'visitors': 'sum'}),\n",
    "    axis=1,\n",
    ").sort_values(by=['date', 'group'])\n",
    "\n",
    "# объединяем кумулятивные данные в одной таблице и присваиваем ее столбцам понятные названия\n",
    "cumulativeData = ordersAggregated.merge(visitorsAggregated, left_on=['date', 'group'], right_on=['date', 'group'])\n",
    "cumulativeData.columns = ['date', 'group', 'orders', 'buyers', 'revenue', 'visitors']\n",
    "\n",
    "cumulativeData.head(5)"
   ]
  },
  {
   "cell_type": "code",
   "execution_count": 17,
   "metadata": {},
   "outputs": [
    {
     "data": {
      "text/plain": [
       "Timestamp('2019-08-01 00:00:00')"
      ]
     },
     "metadata": {},
     "output_type": "display_data"
    },
    {
     "data": {
      "text/plain": [
       "Timestamp('2019-08-31 00:00:00')"
      ]
     },
     "execution_count": 17,
     "metadata": {},
     "output_type": "execute_result"
    }
   ],
   "source": [
    "# проверяем совпадают ли минимальная и максимальная даты в этом датафрейме с минимальной и максимальной датой в исходных данных\n",
    "display(cumulativeData['date'].min())\n",
    "cumulativeData['date'].max()"
   ]
  },
  {
   "cell_type": "markdown",
   "metadata": {},
   "source": [
    "Даты совпадают, датафрейм `cumulativeData` был создан корректно."
   ]
  },
  {
   "cell_type": "markdown",
   "metadata": {},
   "source": [
    "Построим графики кумулятивной выручки по дням и группам A/B-тестирования: "
   ]
  },
  {
   "cell_type": "code",
   "execution_count": 18,
   "metadata": {},
   "outputs": [
    {
     "data": {
      "image/png": "[encoded data removed]",
      "text/plain": [
       "<Figure size 1080x360 with 1 Axes>"
      ]
     },
     "metadata": {
      "needs_background": "light"
     },
     "output_type": "display_data"
    }
   ],
   "source": [
    "# датафрейм с кумулятивным количеством заказов и кумулятивной выручкой по дням в группе А\n",
    "cumulativeRevenueA = cumulativeData[cumulativeData['group']=='A'][['date','revenue', 'orders']]\n",
    "\n",
    "# датафрейм с кумулятивным количеством заказов и кумулятивной выручкой по дням в группе B\n",
    "cumulativeRevenueB = cumulativeData[cumulativeData['group']=='B'][['date','revenue', 'orders']]\n",
    "\n",
    "plt.figure(figsize=(15,5))\n",
    "# Строим график выручки группы А\n",
    "plt.plot(cumulativeRevenueA['date'], cumulativeRevenueA['revenue'], label='A')\n",
    "\n",
    "# Строим график выручки группы B\n",
    "plt.plot(cumulativeRevenueB['date'], cumulativeRevenueB['revenue'], label='B')\n",
    "\n",
    "plt.title('График кумулятивной выручки по дням и группам A/B-тестирования')\n",
    "plt.xlabel('Дата')\n",
    "plt.ylabel('Кумулятивная выручка')\n",
    "#plt.xticks(rotation=90)\n",
    "plt.grid()\n",
    "plt.legend() \n",
    "plt.show()"
   ]
  },
  {
   "cell_type": "markdown",
   "metadata": {},
   "source": [
    "**Вывод:** Выручка почти равномерно увеличивается в первой половине месяца. Выручка группы В немного опережала группу А, но 13 августа кумулятивные выручки сравнялись. \n",
    "Однако, 19 августа кумулятивная выручка группы В резко увеличилась и вывела её в лидеры теста. Это может сигнализировать о всплесках числа заказов, либо о появлении очень дорогих заказов в выборке."
   ]
  },
  {
   "cell_type": "markdown",
   "metadata": {},
   "source": [
    "### Построим график кумулятивного среднего чека по группам."
   ]
  },
  {
   "cell_type": "markdown",
   "metadata": {},
   "source": [
    "Построим графики среднего чека по группам — разделим кумулятивную выручку на кумулятивное число заказов."
   ]
  },
  {
   "cell_type": "code",
   "execution_count": 19,
   "metadata": {},
   "outputs": [
    {
     "data": {
      "image/png": "[encoded data removed]",
      "text/plain": [
       "<Figure size 1080x360 with 1 Axes>"
      ]
     },
     "metadata": {
      "needs_background": "light"
     },
     "output_type": "display_data"
    }
   ],
   "source": [
    "plt.figure(figsize=(15,5))\n",
    "# строим графики среднего чека по группам\n",
    "plt.plot(cumulativeRevenueA['date'], cumulativeRevenueA['revenue']/cumulativeRevenueA['orders'], label='A')\n",
    "plt.plot(cumulativeRevenueB['date'], cumulativeRevenueB['revenue']/cumulativeRevenueB['orders'], label='B')\n",
    "\n",
    "plt.title('График кумулятивного среднего чека по группам')\n",
    "plt.xlabel('Дата')\n",
    "plt.ylabel('Средний чек')\n",
    "#plt.xticks(rotation=90)\n",
    "plt.grid()\n",
    "plt.legend() \n",
    "plt.show()"
   ]
  },
  {
   "cell_type": "markdown",
   "metadata": {},
   "source": [
    "**Вывод:** На графике кумулятивного среднего чека виднеется схожесть с предыдущим графиком. В первой половине месяца в группе В средний чек приемущественно больше, за редким исключением (1 августа и 12-15 августа). И 19 агуста снова виден резкий скачек среднего чека в группе В. Из-за этого группа стала лидером, но далее видно, что средний чек начал снижение, в то время как в группе А наоблюдается небольшое увеличение."
   ]
  },
  {
   "cell_type": "code",
   "execution_count": 20,
   "metadata": {
    "scrolled": true
   },
   "outputs": [
    {
     "data": {
      "text/html": [
       "<div>\n",
       "<style scoped>\n",
       "    .dataframe tbody tr th:only-of-type {\n",
       "        vertical-align: middle;\n",
       "    }\n",
       "\n",
       "    .dataframe tbody tr th {\n",
       "        vertical-align: top;\n",
       "    }\n",
       "\n",
       "    .dataframe thead th {\n",
       "        text-align: right;\n",
       "    }\n",
       "</style>\n",
       "<table border=\"1\" class=\"dataframe\">\n",
       "  <thead>\n",
       "    <tr style=\"text-align: right;\">\n",
       "      <th></th>\n",
       "      <th>transaction_id</th>\n",
       "      <th>visitor_id</th>\n",
       "      <th>date</th>\n",
       "      <th>revenue</th>\n",
       "      <th>group</th>\n",
       "    </tr>\n",
       "  </thead>\n",
       "  <tbody>\n",
       "    <tr>\n",
       "      <th>425</th>\n",
       "      <td>590470918</td>\n",
       "      <td>1920142716</td>\n",
       "      <td>2019-08-19</td>\n",
       "      <td>1294500</td>\n",
       "      <td>B</td>\n",
       "    </tr>\n",
       "    <tr>\n",
       "      <th>530</th>\n",
       "      <td>3970235543</td>\n",
       "      <td>2912540959</td>\n",
       "      <td>2019-08-19</td>\n",
       "      <td>43990</td>\n",
       "      <td>A</td>\n",
       "    </tr>\n",
       "    <tr>\n",
       "      <th>527</th>\n",
       "      <td>1570513684</td>\n",
       "      <td>2837914161</td>\n",
       "      <td>2019-08-19</td>\n",
       "      <td>33405</td>\n",
       "      <td>B</td>\n",
       "    </tr>\n",
       "    <tr>\n",
       "      <th>421</th>\n",
       "      <td>3765974140</td>\n",
       "      <td>1357170471</td>\n",
       "      <td>2019-08-19</td>\n",
       "      <td>31680</td>\n",
       "      <td>A</td>\n",
       "    </tr>\n",
       "    <tr>\n",
       "      <th>461</th>\n",
       "      <td>2683113224</td>\n",
       "      <td>154576532</td>\n",
       "      <td>2019-08-19</td>\n",
       "      <td>26550</td>\n",
       "      <td>B</td>\n",
       "    </tr>\n",
       "  </tbody>\n",
       "</table>\n",
       "</div>"
      ],
      "text/plain": [
       "     transaction_id  visitor_id       date  revenue group\n",
       "425       590470918  1920142716 2019-08-19  1294500     B\n",
       "530      3970235543  2912540959 2019-08-19    43990     A\n",
       "527      1570513684  2837914161 2019-08-19    33405     B\n",
       "421      3765974140  1357170471 2019-08-19    31680     A\n",
       "461      2683113224   154576532 2019-08-19    26550     B"
      ]
     },
     "execution_count": 20,
     "metadata": {},
     "output_type": "execute_result"
    }
   ],
   "source": [
    "# сделаю срез по дате и посмотрю заказы 19 августа\n",
    "orders.query('date == \"2019-08-19\"').sort_values(by='revenue', ascending=False).head()"
   ]
  },
  {
   "cell_type": "markdown",
   "metadata": {},
   "source": [
    "Вот он, заказ №425 с аномальной стоимостью в 1 294 500 рублей."
   ]
  },
  {
   "cell_type": "markdown",
   "metadata": {},
   "source": [
    "### Построим график относительного изменения кумулятивного среднего чека группы B к группе A. "
   ]
  },
  {
   "cell_type": "markdown",
   "metadata": {},
   "source": [
    "Построим график относительного различия для среднего чека. Добавим горизонтальную ось методом axhline()."
   ]
  },
  {
   "cell_type": "code",
   "execution_count": 21,
   "metadata": {
    "scrolled": false
   },
   "outputs": [
    {
     "data": {
      "image/png": "[encoded data removed]",
      "text/plain": [
       "<Figure size 1080x360 with 1 Axes>"
      ]
     },
     "metadata": {
      "needs_background": "light"
     },
     "output_type": "display_data"
    }
   ],
   "source": [
    "# собираем данные в одном датафрейме\n",
    "mergedCumulativeRevenue = cumulativeRevenueA.merge(cumulativeRevenueB, left_on='date', right_on='date', how='left', suffixes=['A', 'B'])\n",
    "\n",
    "plt.figure(figsize=(15,5))\n",
    "# cтроим отношение средних чеков\n",
    "plt.plot(mergedCumulativeRevenue['date'], (mergedCumulativeRevenue['revenueB']/mergedCumulativeRevenue['ordersB'])/(mergedCumulativeRevenue['revenueA']/mergedCumulativeRevenue['ordersA'])-1)\n",
    "\n",
    "# добавляем ось X\n",
    "plt.axhline(y=0, color='black', linestyle='--') \n",
    "\n",
    "plt.title('График относительного различия для среднего чека')\n",
    "plt.xlabel('Дата')\n",
    "plt.grid()\n",
    "plt.show()"
   ]
  },
  {
   "cell_type": "markdown",
   "metadata": {},
   "source": [
    "В нескольких точках график различия между сегментами резко «скачет». Это подтверждает то, что в данных спрятались крупные заказы и выбросы."
   ]
  },
  {
   "cell_type": "markdown",
   "metadata": {},
   "source": [
    "### Построим график кумулятивного среднего количества заказов на посетителя по группам."
   ]
  },
  {
   "cell_type": "code",
   "execution_count": 22,
   "metadata": {
    "scrolled": true
   },
   "outputs": [
    {
     "data": {
      "image/png": "[encoded data removed]",
      "text/plain": [
       "<Figure size 720x360 with 1 Axes>"
      ]
     },
     "metadata": {
      "needs_background": "light"
     },
     "output_type": "display_data"
    }
   ],
   "source": [
    "# считаем кумулятивную конверсию\n",
    "cumulativeData['conversion'] = cumulativeData['orders']/cumulativeData['visitors']\n",
    "\n",
    "# отделяем данные по группе A\n",
    "cumulativeDataA = cumulativeData[cumulativeData['group']=='A']\n",
    "\n",
    "# отделяем данные по группе B\n",
    "cumulativeDataB = cumulativeData[cumulativeData['group']=='B']\n",
    "\n",
    "plt.figure(figsize=(10,5))\n",
    "# строим графики\n",
    "plt.plot(cumulativeDataA['date'], cumulativeDataA['conversion'], label='A')\n",
    "plt.plot(cumulativeDataB['date'], cumulativeDataB['conversion'], label='B')\n",
    "plt.legend()\n",
    "\n",
    "# задаем масштаб осей\n",
    "plt.title('График кумулятивного среднего количества заказов на посетителя по группам')\n",
    "plt.axis([dt.datetime(2019, 8, 1), dt.datetime(2019, 8, 31), 0, 0.05])\n",
    "plt.grid()\n",
    "plt.show()"
   ]
  },
  {
   "cell_type": "markdown",
   "metadata": {},
   "source": [
    "Симметричный график получился. Группы колебались около одного значения, но затем конверсия группы В вырвалась вперёд и зафиксировалась, а конверсия группы А просела и также зафиксировалась."
   ]
  },
  {
   "cell_type": "markdown",
   "metadata": {},
   "source": [
    "###  Построим график относительного изменения кумулятивного среднего количества заказов на посетителя группы B к группе A."
   ]
  },
  {
   "cell_type": "code",
   "execution_count": 23,
   "metadata": {
    "scrolled": true
   },
   "outputs": [
    {
     "data": {
      "image/png": "[encoded data removed]",
      "text/plain": [
       "<Figure size 720x360 with 1 Axes>"
      ]
     },
     "metadata": {
      "needs_background": "light"
     },
     "output_type": "display_data"
    }
   ],
   "source": [
    "# построим график относительного различия кумулятивных конверсий\n",
    "mergedCumulativeConversions = cumulativeDataA[['date','conversion']].merge(cumulativeDataB[['date','conversion']], left_on='date', right_on='date', how='left', suffixes=['A', 'B'])\n",
    "\n",
    "plt.figure(figsize=(10,5))\n",
    "plt.plot(mergedCumulativeConversions['date'], mergedCumulativeConversions['conversionB']/mergedCumulativeConversions['conversionA']-1, label=\"Относительный прирост конверсии группы B относительно группы A\")\n",
    "\n",
    "plt.axhline(y=0, color='black', linestyle='--')\n",
    "plt.axhline(y=-0.1, color='grey', linestyle='--')\n",
    "\n",
    "plt.title('График относительного изменения кумулятивного среднего количества заказов на посетителя группы B к группе A')\n",
    "plt.grid()\n",
    "plt.show()"
   ]
  },
  {
   "cell_type": "markdown",
   "metadata": {},
   "source": [
    "В начале теста наблюдается колебание, но начиная с 6 августа группа В выходит в лидеры и до конца периода показывает неплохие результаты, хоть и в конце конверсия начала немного снижаться. Максимальная разница была достигнута 15 августа."
   ]
  },
  {
   "cell_type": "markdown",
   "metadata": {},
   "source": [
    "### Построим точечный график количества заказов по пользователям."
   ]
  },
  {
   "cell_type": "code",
   "execution_count": 24,
   "metadata": {
    "scrolled": true
   },
   "outputs": [
    {
     "data": {
      "text/html": [
       "<div>\n",
       "<style scoped>\n",
       "    .dataframe tbody tr th:only-of-type {\n",
       "        vertical-align: middle;\n",
       "    }\n",
       "\n",
       "    .dataframe tbody tr th {\n",
       "        vertical-align: top;\n",
       "    }\n",
       "\n",
       "    .dataframe thead th {\n",
       "        text-align: right;\n",
       "    }\n",
       "</style>\n",
       "<table border=\"1\" class=\"dataframe\">\n",
       "  <thead>\n",
       "    <tr style=\"text-align: right;\">\n",
       "      <th></th>\n",
       "      <th>user_id</th>\n",
       "      <th>orders</th>\n",
       "    </tr>\n",
       "  </thead>\n",
       "  <tbody>\n",
       "    <tr>\n",
       "      <th>1023</th>\n",
       "      <td>4256040402</td>\n",
       "      <td>11</td>\n",
       "    </tr>\n",
       "    <tr>\n",
       "      <th>591</th>\n",
       "      <td>2458001652</td>\n",
       "      <td>11</td>\n",
       "    </tr>\n",
       "    <tr>\n",
       "      <th>569</th>\n",
       "      <td>2378935119</td>\n",
       "      <td>9</td>\n",
       "    </tr>\n",
       "    <tr>\n",
       "      <th>487</th>\n",
       "      <td>2038680547</td>\n",
       "      <td>8</td>\n",
       "    </tr>\n",
       "    <tr>\n",
       "      <th>44</th>\n",
       "      <td>199603092</td>\n",
       "      <td>5</td>\n",
       "    </tr>\n",
       "    <tr>\n",
       "      <th>744</th>\n",
       "      <td>3062433592</td>\n",
       "      <td>5</td>\n",
       "    </tr>\n",
       "    <tr>\n",
       "      <th>55</th>\n",
       "      <td>237748145</td>\n",
       "      <td>5</td>\n",
       "    </tr>\n",
       "    <tr>\n",
       "      <th>917</th>\n",
       "      <td>3803269165</td>\n",
       "      <td>5</td>\n",
       "    </tr>\n",
       "    <tr>\n",
       "      <th>299</th>\n",
       "      <td>1230306981</td>\n",
       "      <td>5</td>\n",
       "    </tr>\n",
       "    <tr>\n",
       "      <th>897</th>\n",
       "      <td>3717692402</td>\n",
       "      <td>5</td>\n",
       "    </tr>\n",
       "  </tbody>\n",
       "</table>\n",
       "</div>"
      ],
      "text/plain": [
       "         user_id  orders\n",
       "1023  4256040402      11\n",
       "591   2458001652      11\n",
       "569   2378935119       9\n",
       "487   2038680547       8\n",
       "44     199603092       5\n",
       "744   3062433592       5\n",
       "55     237748145       5\n",
       "917   3803269165       5\n",
       "299   1230306981       5\n",
       "897   3717692402       5"
      ]
     },
     "execution_count": 24,
     "metadata": {},
     "output_type": "execute_result"
    }
   ],
   "source": [
    "# подсчитаем количество заказов по пользователям\n",
    "ordersByUsers = (\n",
    "    orders.groupby('visitor_id', as_index=False)\n",
    "    .agg({'transaction_id': 'nunique'})\n",
    ")\n",
    "ordersByUsers.columns = ['user_id', 'orders']\n",
    "ordersByUsers.sort_values(by='orders', ascending=False).head(10)"
   ]
  },
  {
   "cell_type": "markdown",
   "metadata": {},
   "source": [
    "Есть пользователи, которые совершали 11,9,8 и 5 заказов. Значительно больше, чем обычный пользователь за неделю."
   ]
  },
  {
   "cell_type": "code",
   "execution_count": 25,
   "metadata": {},
   "outputs": [
    {
     "data": {
      "image/png": "[encoded data removed]",
      "text/plain": [
       "<Figure size 1080x360 with 1 Axes>"
      ]
     },
     "metadata": {
      "needs_background": "light"
     },
     "output_type": "display_data"
    }
   ],
   "source": [
    "# построим точечную диаграмму числа заказов на одного пользователя.\n",
    "x_values = pd.Series(range(0,len(ordersByUsers)))\n",
    "\n",
    "plt.figure(figsize=(15,5))\n",
    "plt.scatter(x_values, ordersByUsers['orders']) \n",
    "\n",
    "plt.title('Точечная диаграмма числа заказов на одного пользователя')\n",
    "plt.ylabel('Число заказов')\n",
    "plt.grid()\n",
    "plt.show()"
   ]
  },
  {
   "cell_type": "markdown",
   "metadata": {},
   "source": [
    "Большенство пользователей севершают только 1 заказ. Тех кто совершили 2 заказа уже не так много. А те кто совершил 3 заказа совсем мало, и пока не понятно, можно ли считать их аномалиями пока не ясно. Принято отсеивать от 1% до 5% наблюдений с крайними значениями."
   ]
  },
  {
   "cell_type": "markdown",
   "metadata": {},
   "source": [
    "### Посчитаем 95-й и 99-й перцентили количества заказов на пользователя. Выберем границу для определения аномальных пользователей."
   ]
  },
  {
   "cell_type": "code",
   "execution_count": 26,
   "metadata": {},
   "outputs": [
    {
     "data": {
      "text/plain": [
       "array([2., 4.])"
      ]
     },
     "execution_count": 26,
     "metadata": {},
     "output_type": "execute_result"
    }
   ],
   "source": [
    "# посчитаем выборочные перцентили количества заказов на одного пользователя\n",
    "np.percentile(ordersByUsers['orders'], [95, 99])"
   ]
  },
  {
   "cell_type": "markdown",
   "metadata": {},
   "source": [
    "Не более 5% пользователей заказали больше 2 раз и не более 1% пользователей больше 4 раз. Разумно выбрать 3 или 4 заказа на одного пользователя за верхнюю границу числа заказов, и отсеять аномальных пользователей по ней.\n",
    "А попробую посмотреть детальнее перцентили."
   ]
  },
  {
   "cell_type": "code",
   "execution_count": 27,
   "metadata": {
    "scrolled": true
   },
   "outputs": [
    {
     "data": {
      "text/plain": [
       "array([2., 2., 2., 3., 4.])"
      ]
     },
     "execution_count": 27,
     "metadata": {},
     "output_type": "execute_result"
    }
   ],
   "source": [
    "np.percentile(ordersByUsers['orders'], [95, 96, 97, 98, 99])"
   ]
  },
  {
   "cell_type": "markdown",
   "metadata": {},
   "source": [
    "При детальном рассметрении четко видно, что 3% пользователей совершали заказ более 2 раз. **Верхней границей будем считать 2 заказа.**"
   ]
  },
  {
   "cell_type": "markdown",
   "metadata": {},
   "source": [
    "### Построим точечный график стоимостей заказов."
   ]
  },
  {
   "cell_type": "code",
   "execution_count": 28,
   "metadata": {
    "scrolled": false
   },
   "outputs": [
    {
     "data": {
      "image/png": "[encoded data removed]",
      "text/plain": [
       "<Figure size 1080x360 with 1 Axes>"
      ]
     },
     "metadata": {
      "needs_background": "light"
     },
     "output_type": "display_data"
    }
   ],
   "source": [
    "# построим точечную диаграмму стоимости заказов.\n",
    "x_values = pd.Series(range(0, len(orders['revenue'])))\n",
    "\n",
    "plt.figure(figsize=(15,5))\n",
    "plt.scatter(x_values, orders['revenue'])\n",
    "\n",
    "plt.title('Точечный график стоимостей заказов')\n",
    "plt.ylabel('Стоимостей заказов')\n",
    "plt.grid()\n",
    "plt.show()"
   ]
  },
  {
   "cell_type": "markdown",
   "metadata": {},
   "source": [
    "На графике отчетливо виден заказ с аномально большой стоимостью. Также виднеется еще один на сумму 200 000 руб. Остальные примерно не больше 100 000 руб. Чтобы определить более точную границу аномальных заказов рассчитаем процентили."
   ]
  },
  {
   "cell_type": "code",
   "execution_count": 29,
   "metadata": {
    "scrolled": true
   },
   "outputs": [
    {
     "data": {
      "image/png": "[encoded data removed]",
      "text/plain": [
       "<Figure size 1080x360 with 1 Axes>"
      ]
     },
     "metadata": {
      "needs_background": "light"
     },
     "output_type": "display_data"
    }
   ],
   "source": [
    "# построим график без двух явных выбросов\n",
    "new_orders = orders[orders['revenue']<=200000]['revenue']\n",
    "xn_values = pd.Series(range(0,len(new_orders)))\n",
    "\n",
    "plt.figure(figsize=(15,5))\n",
    "plt.scatter(xn_values, new_orders)\n",
    "\n",
    "plt.title('Точечный график стоимостей заказов')\n",
    "plt.ylabel('Стоимостей заказов')\n",
    "plt.grid()\n",
    "plt.show()"
   ]
  },
  {
   "cell_type": "markdown",
   "metadata": {},
   "source": [
    "Большенство пользователей севершают заказы стоимостью до 20000 руб. Тех кто совершили заказы в диапозоне 20000-30000 руб. уже не так много. А заказы стоимостью от 40000тыс совсем немного, но пока не понятно, какие заказы можно считать аномалиями."
   ]
  },
  {
   "cell_type": "markdown",
   "metadata": {},
   "source": [
    "### Посчитаем 95-й и 99-й перцентили стоимости заказов. Выберем границу для определения аномальных заказов."
   ]
  },
  {
   "cell_type": "code",
   "execution_count": 30,
   "metadata": {},
   "outputs": [
    {
     "data": {
      "text/plain": [
       "array([28000. , 58233.2])"
      ]
     },
     "execution_count": 30,
     "metadata": {},
     "output_type": "execute_result"
    }
   ],
   "source": [
    "# посчитаем выборочные перцентили стоимости заказов\n",
    "np.percentile(orders['revenue'], [95, 99])"
   ]
  },
  {
   "cell_type": "markdown",
   "metadata": {},
   "source": [
    "Не более 5% заказов дороже 28 000 рублей и не более 1% дороже 58 233.20 рублей. **Установлю границу для аномалий сумму 58 233,20 руб.**"
   ]
  },
  {
   "cell_type": "markdown",
   "metadata": {},
   "source": [
    "### Посчитаем статистическую значимость различий в среднем количестве заказов на посетителя между группами по «сырым» данным."
   ]
  },
  {
   "cell_type": "markdown",
   "metadata": {},
   "source": [
    "Сформулируем гипотезы. \n",
    "- Нулевая H0: различий в среднем количестве заказов между группами нет. \n",
    "- Альтернативная H1: различия в среднем между группами есть.\n",
    "Начнём с подготовки данных."
   ]
  },
  {
   "cell_type": "code",
   "execution_count": 31,
   "metadata": {
    "scrolled": false
   },
   "outputs": [
    {
     "data": {
      "text/html": [
       "<div>\n",
       "<style scoped>\n",
       "    .dataframe tbody tr th:only-of-type {\n",
       "        vertical-align: middle;\n",
       "    }\n",
       "\n",
       "    .dataframe tbody tr th {\n",
       "        vertical-align: top;\n",
       "    }\n",
       "\n",
       "    .dataframe thead th {\n",
       "        text-align: right;\n",
       "    }\n",
       "</style>\n",
       "<table border=\"1\" class=\"dataframe\">\n",
       "  <thead>\n",
       "    <tr style=\"text-align: right;\">\n",
       "      <th></th>\n",
       "      <th>date</th>\n",
       "      <th>ordersPerDateA</th>\n",
       "      <th>revenuePerDateA</th>\n",
       "      <th>ordersPerDateB</th>\n",
       "      <th>revenuePerDateB</th>\n",
       "      <th>ordersCummulativeA</th>\n",
       "      <th>revenueCummulativeA</th>\n",
       "      <th>ordersCummulativeB</th>\n",
       "      <th>revenueCummulativeB</th>\n",
       "      <th>visitorsPerDateA</th>\n",
       "      <th>visitorsPerDateB</th>\n",
       "      <th>visitorsCummulativeA</th>\n",
       "      <th>visitorsCummulativeB</th>\n",
       "    </tr>\n",
       "  </thead>\n",
       "  <tbody>\n",
       "    <tr>\n",
       "      <th>0</th>\n",
       "      <td>2019-08-01</td>\n",
       "      <td>24</td>\n",
       "      <td>148579</td>\n",
       "      <td>21</td>\n",
       "      <td>101217</td>\n",
       "      <td>24</td>\n",
       "      <td>148579</td>\n",
       "      <td>21</td>\n",
       "      <td>101217</td>\n",
       "      <td>719</td>\n",
       "      <td>713</td>\n",
       "      <td>719</td>\n",
       "      <td>713</td>\n",
       "    </tr>\n",
       "    <tr>\n",
       "      <th>1</th>\n",
       "      <td>2019-08-02</td>\n",
       "      <td>20</td>\n",
       "      <td>93822</td>\n",
       "      <td>24</td>\n",
       "      <td>165531</td>\n",
       "      <td>44</td>\n",
       "      <td>242401</td>\n",
       "      <td>45</td>\n",
       "      <td>266748</td>\n",
       "      <td>619</td>\n",
       "      <td>581</td>\n",
       "      <td>1338</td>\n",
       "      <td>1294</td>\n",
       "    </tr>\n",
       "    <tr>\n",
       "      <th>2</th>\n",
       "      <td>2019-08-03</td>\n",
       "      <td>24</td>\n",
       "      <td>112473</td>\n",
       "      <td>16</td>\n",
       "      <td>114248</td>\n",
       "      <td>68</td>\n",
       "      <td>354874</td>\n",
       "      <td>61</td>\n",
       "      <td>380996</td>\n",
       "      <td>507</td>\n",
       "      <td>509</td>\n",
       "      <td>1845</td>\n",
       "      <td>1803</td>\n",
       "    </tr>\n",
       "    <tr>\n",
       "      <th>3</th>\n",
       "      <td>2019-08-04</td>\n",
       "      <td>16</td>\n",
       "      <td>70825</td>\n",
       "      <td>17</td>\n",
       "      <td>108571</td>\n",
       "      <td>84</td>\n",
       "      <td>425699</td>\n",
       "      <td>78</td>\n",
       "      <td>489567</td>\n",
       "      <td>717</td>\n",
       "      <td>770</td>\n",
       "      <td>2562</td>\n",
       "      <td>2573</td>\n",
       "    </tr>\n",
       "    <tr>\n",
       "      <th>4</th>\n",
       "      <td>2019-08-05</td>\n",
       "      <td>25</td>\n",
       "      <td>124218</td>\n",
       "      <td>23</td>\n",
       "      <td>92428</td>\n",
       "      <td>109</td>\n",
       "      <td>549917</td>\n",
       "      <td>101</td>\n",
       "      <td>581995</td>\n",
       "      <td>756</td>\n",
       "      <td>707</td>\n",
       "      <td>3318</td>\n",
       "      <td>3280</td>\n",
       "    </tr>\n",
       "  </tbody>\n",
       "</table>\n",
       "</div>"
      ],
      "text/plain": [
       "        date  ordersPerDateA  revenuePerDateA  ordersPerDateB  \\\n",
       "0 2019-08-01              24           148579              21   \n",
       "1 2019-08-02              20            93822              24   \n",
       "2 2019-08-03              24           112473              16   \n",
       "3 2019-08-04              16            70825              17   \n",
       "4 2019-08-05              25           124218              23   \n",
       "\n",
       "   revenuePerDateB  ordersCummulativeA  revenueCummulativeA  \\\n",
       "0           101217                  24               148579   \n",
       "1           165531                  44               242401   \n",
       "2           114248                  68               354874   \n",
       "3           108571                  84               425699   \n",
       "4            92428                 109               549917   \n",
       "\n",
       "   ordersCummulativeB  revenueCummulativeB  visitorsPerDateA  \\\n",
       "0                  21               101217               719   \n",
       "1                  45               266748               619   \n",
       "2                  61               380996               507   \n",
       "3                  78               489567               717   \n",
       "4                 101               581995               756   \n",
       "\n",
       "   visitorsPerDateB  visitorsCummulativeA  visitorsCummulativeB  \n",
       "0               713                   719                   713  \n",
       "1               581                  1338                  1294  \n",
       "2               509                  1845                  1803  \n",
       "3               770                  2562                  2573  \n",
       "4               707                  3318                  3280  "
      ]
     },
     "execution_count": 31,
     "metadata": {},
     "output_type": "execute_result"
    }
   ],
   "source": [
    "# создаем датафрейм ежедневных посещений группы А\n",
    "visitorsADaily = visitors[visitors['group'] == 'A'][['date', 'visitors']]\n",
    "visitorsADaily.columns = ['date', 'visitorsPerDateA']\n",
    "\n",
    "# соберём агрегированные кумулятивные по дням данные о визитах\n",
    "visitorsACummulative = visitorsADaily.apply(\n",
    "    lambda x: visitorsADaily[visitorsADaily['date'] <= x['date']].agg(\n",
    "        {'date': 'max', 'visitorsPerDateA': 'sum'}\n",
    "    ),\n",
    "    axis=1,\n",
    ")\n",
    "visitorsACummulative.columns = ['date', 'visitorsCummulativeA']\n",
    "\n",
    "# создаем датафрейм ежедневных посещений группы В\n",
    "visitorsBDaily = visitors[visitors['group'] == 'B'][['date', 'visitors']]\n",
    "visitorsBDaily.columns = ['date', 'visitorsPerDateB']\n",
    "\n",
    "# соберём агрегированные кумулятивные по дням данные о визитах\n",
    "visitorsBCummulative = visitorsBDaily.apply(\n",
    "    lambda x: visitorsBDaily[visitorsBDaily['date'] <= x['date']].agg(\n",
    "        {'date': 'max', 'visitorsPerDateB': 'sum'}\n",
    "    ),\n",
    "    axis=1,\n",
    ")\n",
    "visitorsBCummulative.columns = ['date', 'visitorsCummulativeB']\n",
    "\n",
    "# соберем датафрейм количества заказов и сумарной выручки по дням в группе А\n",
    "ordersADaily = (\n",
    "    orders[orders['group'] == 'A'][['date', 'transaction_id', 'visitor_id', 'revenue']]\n",
    "    .groupby('date', as_index=False)\n",
    "    .agg({'transaction_id': pd.Series.nunique, 'revenue': 'sum'})\n",
    ")\n",
    "ordersADaily.columns = ['date', 'ordersPerDateA', 'revenuePerDateA']\n",
    "\n",
    "# соберём агрегированные кумулятивные по дням данные о заказах и выручки\n",
    "ordersACummulative = ordersADaily.apply(\n",
    "    lambda x: ordersADaily[ordersADaily['date'] <= x['date']].agg(\n",
    "        {'date': 'max', 'ordersPerDateA': 'sum', 'revenuePerDateA': 'sum'}\n",
    "    ),\n",
    "    axis=1,\n",
    ").sort_values(by=['date'])\n",
    "ordersACummulative.columns = [\n",
    "    'date',\n",
    "    'ordersCummulativeA',\n",
    "    'revenueCummulativeA',\n",
    "]\n",
    "\n",
    "# соберем датафрейм количества заказов и сумарной выручки по дням в группе В\n",
    "ordersBDaily = (\n",
    "    orders[orders['group'] == 'B'][['date', 'transaction_id', 'visitor_id', 'revenue']]\n",
    "    .groupby('date', as_index=False)\n",
    "    .agg({'transaction_id': pd.Series.nunique, 'revenue': 'sum'})\n",
    ")\n",
    "ordersBDaily.columns = ['date', 'ordersPerDateB', 'revenuePerDateB']\n",
    "\n",
    "# соберём агрегированные кумулятивные по дням данные о заказах и выручки\n",
    "ordersBCummulative = ordersBDaily.apply(\n",
    "    lambda x: ordersBDaily[ordersBDaily['date'] <= x['date']].agg(\n",
    "        {'date': 'max', 'ordersPerDateB': 'sum', 'revenuePerDateB': 'sum'}\n",
    "    ),\n",
    "    axis=1,\n",
    ").sort_values(by=['date'])\n",
    "ordersBCummulative.columns = [\n",
    "    'date',\n",
    "    'ordersCummulativeB',\n",
    "    'revenueCummulativeB',\n",
    "]\n",
    "\n",
    "# соберем все полученные таблицы в один датафрейм\n",
    "data = (\n",
    "    ordersADaily.merge(ordersBDaily, left_on='date', right_on='date', how='left')\n",
    "    .merge(ordersACummulative, left_on='date', right_on='date', how='left')\n",
    "    .merge(ordersBCummulative, left_on='date', right_on='date', how='left')\n",
    "    .merge(visitorsADaily, left_on='date', right_on='date', how='left')\n",
    "    .merge(visitorsBDaily, left_on='date', right_on='date', how='left')\n",
    "    .merge(visitorsACummulative, left_on='date', right_on='date', how='left')\n",
    "    .merge(visitorsBCummulative, left_on='date', right_on='date', how='left')\n",
    ")\n",
    "\n",
    "# выведем на экран первые 5 строк\n",
    "data.head(5)"
   ]
  },
  {
   "cell_type": "markdown",
   "metadata": {},
   "source": [
    "Создадим переменные `ordersByUsersA` и `ordersByUsersB` со столбцами `['userId', 'orders']`. В них для пользователей, которые заказывали хотя бы 1 раз, укажем число совершённых заказов. "
   ]
  },
  {
   "cell_type": "code",
   "execution_count": 32,
   "metadata": {},
   "outputs": [],
   "source": [
    "# создаем датафрейм со списком пользователей и количество совершенных заказов в группе А\n",
    "ordersByUsersA = (\n",
    "    orders[orders['group'] == 'A']\n",
    "    .groupby('visitor_id', as_index=False)\n",
    "    .agg({'transaction_id': pd.Series.nunique})\n",
    ")\n",
    "ordersByUsersA.columns = ['userId', 'orders']\n",
    "\n",
    "# создаем датафрейм со списком пользователей и количество совершенных заказов в группе В\n",
    "ordersByUsersB = (\n",
    "    orders[orders['group'] == 'B']\n",
    "    .groupby('visitor_id', as_index=False)\n",
    "    .agg({'transaction_id': pd.Series.nunique})\n",
    ")\n",
    "ordersByUsersB.columns = ['userId', 'orders'] "
   ]
  },
  {
   "cell_type": "markdown",
   "metadata": {},
   "source": [
    "Объявим переменные `sampleA` и `sampleB`, в которых пользователям из разных групп будет соответствовать количество заказов. Тем, кто ничего не заказал, будут соответствовать нули. Это нужно, чтобы подготовить выборки к проверке критерием Манна-Уитни."
   ]
  },
  {
   "cell_type": "code",
   "execution_count": 33,
   "metadata": {},
   "outputs": [],
   "source": [
    "# создаем выборку, где каждый элемент — число заказов определённого пользователя из группы А, в том числе ноль\n",
    "sampleA = pd.concat(\n",
    "    [\n",
    "        ordersByUsersA['orders'],\n",
    "        pd.Series(\n",
    "            0,\n",
    "            index=np.arange(\n",
    "                data['visitorsPerDateA'].sum() - len(ordersByUsersA['orders'])\n",
    "            ),\n",
    "            name='orders',\n",
    "        ),\n",
    "    ],\n",
    "    axis=0,\n",
    ")\n",
    "\n",
    "\n",
    "# создаем выборку, где каждый элемент — число заказов определённого пользователя из группы В, в том числе ноль\n",
    "sampleB = pd.concat(\n",
    "    [\n",
    "        ordersByUsersB['orders'],\n",
    "        pd.Series(\n",
    "            0,\n",
    "            index=np.arange(\n",
    "                data['visitorsPerDateB'].sum() - len(ordersByUsersB['orders'])\n",
    "            ),\n",
    "            name='orders',\n",
    "        ),\n",
    "    ],\n",
    "    axis=0,\n",
    ")"
   ]
  },
  {
   "cell_type": "markdown",
   "metadata": {},
   "source": [
    "Применим критерий и отформатируем `p-value`, округлив его до трёх знаков после запятой."
   ]
  },
  {
   "cell_type": "code",
   "execution_count": 34,
   "metadata": {
    "scrolled": true
   },
   "outputs": [
    {
     "data": {
      "text/plain": [
       "'p-value = 0.017'"
      ]
     },
     "metadata": {},
     "output_type": "display_data"
    },
    {
     "data": {
      "text/plain": [
       "'Различие в средних = 0.138'"
      ]
     },
     "metadata": {},
     "output_type": "display_data"
    }
   ],
   "source": [
    "display(\"p-value = {0:.3f}\".format(stats.mannwhitneyu(sampleA, sampleB)[1]))\n",
    "\n",
    "display(\"Различие в средних = {0:.3f}\".format(sampleB.mean() / sampleA.mean() - 1))"
   ]
  },
  {
   "cell_type": "markdown",
   "metadata": {},
   "source": [
    "**Вывод:** По «сырым» данным есть различия в среднем числе заказов групп A и B.\n",
    "Первое число — p-value = 0.017 меньше 0.05. Значит, нулевую гипотезу о том, что статистически значимых различий в среднем числе заказов между группами нет, можем отвергнуть. Относительный выйгрыш группы B равен 13.8% — второе число в выводе."
   ]
  },
  {
   "cell_type": "markdown",
   "metadata": {},
   "source": [
    "### Посчитаем статистическую значимость различий в среднем чеке заказа между группами по «сырым» данным."
   ]
  },
  {
   "cell_type": "markdown",
   "metadata": {},
   "source": [
    "Проверим статистическую значимость различий в среднем чеке между сегментами. \n",
    "- Нулевая гипотеза Н0: различий в среднем чеке между группами нет. \n",
    "- Альтернативная гипотеза Н1: различия в среднем чеке между группами есть. \n",
    "    \n",
    "Чтобы рассчитать статистическую значимость различий в среднем чеке, передадим критерию `mannwhitneyu()` данные о выручке с заказов.\n",
    "    \n",
    "А ещё найдём относительные различия в среднем чеке между группами."
   ]
  },
  {
   "cell_type": "code",
   "execution_count": 35,
   "metadata": {
    "scrolled": true
   },
   "outputs": [
    {
     "data": {
      "text/plain": [
       "'p-value = 0.729'"
      ]
     },
     "metadata": {},
     "output_type": "display_data"
    },
    {
     "data": {
      "text/plain": [
       "'Различие в средних = 0.259'"
      ]
     },
     "metadata": {},
     "output_type": "display_data"
    }
   ],
   "source": [
    "display('p-value = {0:.3f}'.format(\n",
    "    stats.mannwhitneyu(orders[orders['group']=='A']['revenue'], orders[orders['group']=='B']['revenue'])[1])\n",
    "       )\n",
    "display('Различие в средних = {0:.3f}'.format(\n",
    "    orders[orders['group']=='B']['revenue'].mean()/orders[orders['group']=='A']['revenue'].mean()-1)\n",
    "       ) "
   ]
  },
  {
   "cell_type": "markdown",
   "metadata": {},
   "source": [
    "**Вывод:** P-value = 0,729 значительно больше 0.05. Значит, причин отвергать нулевую гипотезу и считать, что в среднем чеке есть различия, нет. Средний чек группы B значительно выше среднего чека группы A. И поскольку относительное различие среднего чека между сегментами составляет ~26%, наблюдаемые различия не являются значимыми при таком уровне значимости, а следовательно были получены случайно."
   ]
  },
  {
   "cell_type": "markdown",
   "metadata": {},
   "source": [
    "### Посчитайте статистическую значимость различий в среднем количестве заказов на посетителя между группами по «очищенным» данным. Сделайте выводы и предположения."
   ]
  },
  {
   "cell_type": "markdown",
   "metadata": {},
   "source": [
    "Помним, что найденные 95-й и 99-й перцентили средних чеков равны 28 000, 58 233.20 рублям. А 95-й, 96-й, 97-й, 98-й и 99-й перцентили количества заказов на одного пользователя равны 2, 2, 2, 3, 4 заказа на пользователя.\n",
    "    \n",
    "Примем за аномальных пользователей тех, кто совершил более 2 заказов или совершил заказ дороже 58 234 рублей. Так мы уберём 3% пользователей с наибольшим числом заказов и 1% пользователей с дорогими заказами. "
   ]
  },
  {
   "cell_type": "code",
   "execution_count": 36,
   "metadata": {
    "scrolled": true
   },
   "outputs": [
    {
     "data": {
      "text/plain": [
       "1099    148427295\n",
       "18      199603092\n",
       "23      237748145\n",
       "37      249864742\n",
       "68      457167155\n",
       "dtype: int64"
      ]
     },
     "metadata": {},
     "output_type": "display_data"
    },
    {
     "data": {
      "text/plain": [
       "31"
      ]
     },
     "execution_count": 36,
     "metadata": {},
     "output_type": "execute_result"
    }
   ],
   "source": [
    "# срезы пользователей с числом заказов больше 2\n",
    "usersWithManyOrders = pd.concat(\n",
    "    [\n",
    "        ordersByUsersA[ordersByUsersA['orders'] > 2]['userId'],\n",
    "        ordersByUsersB[ordersByUsersB['orders'] > 2]['userId'],\n",
    "    ],\n",
    "    axis=0,\n",
    ")\n",
    "\n",
    "# срез пользователей, совершивших заказы дороже 58 234\n",
    "usersWithExpensiveOrders = orders[orders['revenue'] > 58234]['visitor_id']\n",
    "\n",
    "# объединим их в таблице\n",
    "abnormalUsers = (\n",
    "    pd.concat([usersWithManyOrders, usersWithExpensiveOrders], axis=0)\n",
    "    .drop_duplicates()\n",
    "    .sort_values()\n",
    ")\n",
    "\n",
    "# выведим на экран первые 5 строк таблицы с аномальными данными и посмотри их количество\n",
    "display(abnormalUsers.head(5))\n",
    "abnormalUsers.shape[0] "
   ]
  },
  {
   "cell_type": "markdown",
   "metadata": {},
   "source": [
    "Всего 31 аномальный пользователь.\n",
    "    \n",
    "Узнаем, как их действия повлияли на результаты теста. \n",
    "Сформулируем гипотезы.\n",
    "\n",
    "- Нулевая H0: различий в среднем количестве заказов между группами нет.\n",
    "- Альтернативная H1: различия в среднем между группами есть. Начнём с подготовки данных.\n",
    "    \n",
    "Посчитаем статистическую значимость различий в среднем количестве заказов между группами теста по очищенным данным. Сначала подготовим выборки количества заказов по пользователям по группам теста."
   ]
  },
  {
   "cell_type": "code",
   "execution_count": 37,
   "metadata": {
    "scrolled": true
   },
   "outputs": [
    {
     "data": {
      "text/plain": [
       "'p-value = 0.010'"
      ]
     },
     "metadata": {},
     "output_type": "display_data"
    },
    {
     "data": {
      "text/plain": [
       "'Различие в средних = 0.174'"
      ]
     },
     "metadata": {},
     "output_type": "display_data"
    }
   ],
   "source": [
    "# подготовим выборки количества заказов по пользователям в группе А без аномальных значений\n",
    "sampleAFiltered = pd.concat(\n",
    "    [\n",
    "        ordersByUsersA[\n",
    "            np.logical_not(ordersByUsersA['userId'].isin(abnormalUsers))\n",
    "        ]['orders'],\n",
    "        pd.Series(\n",
    "            0,\n",
    "            index=np.arange(\n",
    "                data['visitorsPerDateA'].sum() - len(ordersByUsersA['orders'])\n",
    "            ),\n",
    "            name='orders',\n",
    "        ),\n",
    "    ],\n",
    "    axis=0,\n",
    ")\n",
    "\n",
    "# подготовим выборки количества заказов по пользователям в группе В без аномальных значений\n",
    "sampleBFiltered = pd.concat(\n",
    "    [\n",
    "        ordersByUsersB[\n",
    "            np.logical_not(ordersByUsersB['userId'].isin(abnormalUsers))\n",
    "        ]['orders'],\n",
    "        pd.Series(\n",
    "            0,\n",
    "            index=np.arange(\n",
    "                data['visitorsPerDateB'].sum() - len(ordersByUsersB['orders'])\n",
    "            ),\n",
    "            name='orders',\n",
    "        ),\n",
    "    ],\n",
    "    axis=0,\n",
    ") \n",
    "\n",
    "# применим статистический критерий Манна-Уитни к полученным выборкам\n",
    "display('p-value = {0:.3f}'.format(stats.mannwhitneyu(sampleAFiltered, sampleBFiltered)[1]))\n",
    "display('Различие в средних = {0:.3f}'.format(sampleBFiltered.mean()/sampleAFiltered.mean()-1)) "
   ]
  },
  {
   "cell_type": "markdown",
   "metadata": {},
   "source": [
    "**Вывод:** \n",
    "По очищенным данным есть различия в среднем числе заказов групп A и B. Первое число — p-value = 0.010 меньше 0.05. Значит, нулевую гипотезу о том, что статистически значимых различий в среднем числе заказов между группами нет, можем отвергнуть. Относительный выйгрыш группы B равен 17.4%. Это показатель стал немного меньше, чем 26% при \"сырых\" данных, но остается на высоком уровне."
   ]
  },
  {
   "cell_type": "markdown",
   "metadata": {},
   "source": [
    "### Посчитайте статистическую значимость различий в среднем чеке заказа между группами по «очищенным» данным. Сделайте выводы и предположения."
   ]
  },
  {
   "cell_type": "markdown",
   "metadata": {},
   "source": [
    "Проверим статистическую значимость различий в среднем чеке по \"очищенным\" данным между сегментами.\n",
    "\n",
    "- Нулевая гипотеза Н0: различий в среднем чеке между группами нет.\n",
    "- Альтернативная гипотеза Н1: различия в среднем чеке между группами есть."
   ]
  },
  {
   "cell_type": "code",
   "execution_count": 38,
   "metadata": {
    "scrolled": true
   },
   "outputs": [
    {
     "data": {
      "text/plain": [
       "'p-value = 0.798'"
      ]
     },
     "metadata": {},
     "output_type": "display_data"
    },
    {
     "data": {
      "text/plain": [
       "'Различие в средних = -0.020'"
      ]
     },
     "metadata": {},
     "output_type": "display_data"
    }
   ],
   "source": [
    "display(\n",
    "    'p-value = {0:.3f}'.format(\n",
    "        stats.mannwhitneyu(\n",
    "            orders[\n",
    "                np.logical_and(\n",
    "                    orders['group'] == 'A',\n",
    "                    np.logical_not(orders['visitor_id'].isin(abnormalUsers)),\n",
    "                )\n",
    "            ]['revenue'],\n",
    "            orders[\n",
    "                np.logical_and(\n",
    "                    orders['group'] == 'B',\n",
    "                    np.logical_not(orders['visitor_id'].isin(abnormalUsers)),\n",
    "                )\n",
    "            ]['revenue'],\n",
    "        )[1]\n",
    "    )\n",
    ")\n",
    "\n",
    "display(\n",
    "    \"Различие в средних = {0:.3f}\".format(\n",
    "        orders[\n",
    "            np.logical_and(\n",
    "                orders['group'] == 'B',\n",
    "                np.logical_not(orders['visitor_id'].isin(abnormalUsers)),\n",
    "            )\n",
    "        ]['revenue'].mean()\n",
    "        / orders[\n",
    "            np.logical_and(\n",
    "                orders['group'] == 'A',\n",
    "                np.logical_not(orders['visitor_id'].isin(abnormalUsers)),\n",
    "            )\n",
    "        ]['revenue'].mean()\n",
    "        - 1\n",
    "    )\n",
    ") "
   ]
  },
  {
   "cell_type": "markdown",
   "metadata": {},
   "source": [
    "**Вывод:** P-value = 0,798 значительно больше 0.05. После удаления аномальных значений даже немного увеличелся. Значит, нет причин отвергать нулевую гипотезу и считать, что в среднем чеке есть различия.\n",
    "    \n",
    "А вот средний чек группы B оказался незначительно ниже среднего чека группы A - на 2%. А по \"сырым\" данным, он был больше аж на почти 26%."
   ]
  },
  {
   "cell_type": "markdown",
   "metadata": {},
   "source": [
    "### Примаем решение по результатам теста.  \n",
    "    \n",
    "Имеющиеся факты:\n",
    "- Наблюдается статистически значимые различия по среднему количеству заказов между группами как по «сырым», так и по данным после фильтрации аномалий.\n",
    "- Нет статистически значимого различия по среднему чеку между группами ни по «сырым», ни по данным после фильтрации аномалий.\n",
    "- График различия среднего количества заказов между группами сообщает, что результаты группы B намного лучше группы A. И максимальная разница была достигнута 15 августа.\n",
    "- График различия среднего чека говорит о том, что результаты группы B лучше на 25%\n",
    "    \n",
    "Исходя из обнаруженных фактов, тест следует остановить и признать его успешным.\n",
    "\n",
    "Решение **Остановить тест, зафиксировать победу группы В**"
   ]
  },
  {
   "cell_type": "markdown",
   "metadata": {},
   "source": [
    "**ОБЩИЙ ВЫВОД:**\n",
    "-  Кумулятивная выручка почти равномерно увеличивается в первой половине месяца. Выручка группы В немного опережала группу А, но 13 августа они сравнялись. Однако, 19 августа кумулятивная выручка группы В резко увеличилась и вывела её в лидеры теста. Это может сигнализировать о всплесках числа заказов, либо о появлении очень дорогих заказов в выборке.\n",
    "- На графике кумулятивного среднего чека виднеется схожесть с предыдущим графиком. В первой половине месяца в группе В средний чек приемущественно больше, за редким исключением (1 августа и 12-15 августа). И 19 агуста снова виден резкий скачек среднего чека в группе В. Из-за этого группа стала лидером, но далее видно, что средний чек начал снижение, в то время как в группе А наоблюдается небольшое увеличение.\n",
    "- В нескольких точках графика относительного изменения кумулятивного среднего чека группы B к группе A различия между сегментами резко «скачет». Это подтверждает то, что в данных спрятались крупные заказы и выбросы.\n",
    "- График кумулятивного среднего количества заказов на посетителя по группам получился симметричный. Группы колебались около одного значения, но затем конверсия группы В вырвалась вперёд и зафиксировалась, а конверсия группы А просела и также зафиксировалась.\n",
    "- На графике относительного изменения кумулятивного среднего количества заказов на посетителя группы B к группе A в начале теста наблюдается колебание, но начиная с 6 августа группа В выходит в лидеры и до конца периода показывает неплохие результаты, хоть и в конце конверсия начала немного снижаться. Максимальная разница была достигнута 15 августа.\n",
    "- На точечном графике количества заказов по пользователям видно, что большенство пользователей севершают только 1 заказ. Тех кто совершили 2 заказа уже не так много. А те кто совершил 3 заказа совсем мало, и пока не понятно, можно ли считать их аномалиями пока не ясно. Принято отсеивать от 1% до 5% наблюдений с крайними значениями. \n",
    "- Посчитали 95-й, 96-й, 97-й,98-й и 99-й перцентили количества заказов на пользователя и выяснили, что 3% пользователей совершали заказ более 2 раз. Верхней границей будем считать 2 заказа.\n",
    "- На точечном графике стоимостей заказов отчетливо виден заказ с аномально большой стоимостью. Также виднеется еще один на сумму 200 000 руб. Остальные примерно не больше 100 000 руб. Чтобы определить более точную границу аномальных заказов рассчитаем процентили.\n",
    "- 95-й и 99-й перцентили стоимости заказов показали, что не более 5% заказов дороже 28 000 рублей и не более 1% дороже 58 233.20 рублей. Установлю границу для аномалий сумму 58 233,20 руб.\n",
    "    \n",
    "- Сформулируем гипотезы о различии в среднем количестве заказов между группами:\n",
    "    \n",
    "1. Нулевая H0: различий в среднем количестве заказов между группами нет.\n",
    "2. Альтернативная H1: различия в среднем между группами есть.\n",
    "    \n",
    "В статистической значимости различий в среднем количестве заказов на посетителя между группами по «сырым» данным есть различия в среднем числе заказов групп A и B. Р-value = 0.017 меньше 0.05. Значит, нулевую гипотезу о том, что статистически значимых различий в среднем числе заказов между группами нет, можем отвергнуть. Относительный выйгрыш группы B равен 13.8%.\n",
    "    \n",
    "По очищенным данным есть различия в среднем числе заказов групп A и B. Первое число — p-value = 0.010 меньше 0.05. Значит, нулевую гипотезу о том, что статистически значимых различий в среднем числе заказов между группами нет, можем отвергнуть. Относительный выйгрыш группы B равен 17.4%. Это показатель стал немного меньше, чем 26% при \"сырых\" данных, но остается на высоком уровне.\n",
    "\n",
    "**Принимаем альтернативную гипотезу о том, что различия в среднем количестве заказов между группами есть.**\n",
    "    \n",
    "- Сформулируем гипотезы о различии в среднем количестве заказов между группами:\n",
    "1. Нулевая гипотеза Н0: различий в среднем чеке между группами нет.\n",
    "2. Альтернативная гипотеза Н1: различия в среднем чеке между группами есть.\n",
    "    \n",
    "Рассчитывая статистическую значимость различий в среднем чеке заказа между группами по «сырым» данным получили следующие результаты. P-value = 0,729 значительно больше 0.05. Значит, причин отвергать нулевую гипотезу и считать, что в среднем чеке есть различия, нет. Средний чек группы B значительно выше среднего чека группы A.\n",
    "    \n",
    "После удаления аномальных значений статистическую значимость различий р-value = 0,798 значительно больше 0.05. Значит, нет причин отвергать нулевую гипотезу и считать, что в среднем чеке есть различия. А вот средний чек группы B оказался незначительно ниже среднего чека группы A - на 2%. А по \"сырым\" данным, он был больше аж на почти 26%.\n",
    "\n",
    "**Принимаем нулевую гипотезу о том, что различия в среднем чеке между группами нет.**"
   ]
  }
 ],
 "metadata": {
  "ExecuteTimeLog": [
   {
    "duration": 457,
    "start_time": "2023-02-01T07:38:42.909Z"
   },
   {
    "duration": 125,
    "start_time": "2023-02-01T07:47:41.800Z"
   },
   {
    "duration": 63,
    "start_time": "2023-02-01T07:48:03.456Z"
   },
   {
    "duration": 13,
    "start_time": "2023-02-01T07:48:18.472Z"
   },
   {
    "duration": 11,
    "start_time": "2023-02-01T07:50:47.081Z"
   },
   {
    "duration": 8,
    "start_time": "2023-02-01T07:50:55.963Z"
   },
   {
    "duration": 7,
    "start_time": "2023-02-01T07:53:20.167Z"
   },
   {
    "duration": 8,
    "start_time": "2023-02-01T07:53:24.340Z"
   },
   {
    "duration": 7,
    "start_time": "2023-02-01T07:56:59.981Z"
   },
   {
    "duration": 72,
    "start_time": "2023-02-01T07:57:28.917Z"
   },
   {
    "duration": 226,
    "start_time": "2023-02-01T07:58:13.309Z"
   },
   {
    "duration": 13,
    "start_time": "2023-02-01T07:58:20.882Z"
   },
   {
    "duration": 13,
    "start_time": "2023-02-01T08:00:22.662Z"
   },
   {
    "duration": 3,
    "start_time": "2023-02-01T08:01:10.374Z"
   },
   {
    "duration": 12,
    "start_time": "2023-02-01T08:01:16.828Z"
   },
   {
    "duration": 10,
    "start_time": "2023-02-01T08:02:53.163Z"
   },
   {
    "duration": 10,
    "start_time": "2023-02-01T08:03:22.619Z"
   },
   {
    "duration": 22,
    "start_time": "2023-02-01T08:03:50.928Z"
   },
   {
    "duration": 10,
    "start_time": "2023-02-01T08:03:58.427Z"
   },
   {
    "duration": 11,
    "start_time": "2023-02-01T08:04:57.338Z"
   },
   {
    "duration": 8,
    "start_time": "2023-02-01T08:07:15.159Z"
   },
   {
    "duration": 10,
    "start_time": "2023-02-01T08:07:49.792Z"
   },
   {
    "duration": 11,
    "start_time": "2023-02-01T08:08:04.406Z"
   },
   {
    "duration": 851,
    "start_time": "2023-02-01T08:10:34.752Z"
   },
   {
    "duration": 11,
    "start_time": "2023-02-01T08:10:35.871Z"
   },
   {
    "duration": 3,
    "start_time": "2023-02-01T08:11:19.851Z"
   },
   {
    "duration": 290,
    "start_time": "2023-02-01T08:11:24.702Z"
   },
   {
    "duration": 356,
    "start_time": "2023-02-01T08:11:39.580Z"
   },
   {
    "duration": 85,
    "start_time": "2023-02-01T08:11:39.938Z"
   },
   {
    "duration": 17,
    "start_time": "2023-02-01T08:11:40.025Z"
   },
   {
    "duration": 11,
    "start_time": "2023-02-01T08:11:40.043Z"
   },
   {
    "duration": 8,
    "start_time": "2023-02-01T08:11:40.056Z"
   },
   {
    "duration": 18,
    "start_time": "2023-02-01T08:11:40.065Z"
   },
   {
    "duration": 17,
    "start_time": "2023-02-01T08:11:40.084Z"
   },
   {
    "duration": 18,
    "start_time": "2023-02-01T08:11:40.103Z"
   },
   {
    "duration": 26,
    "start_time": "2023-02-01T08:11:40.122Z"
   },
   {
    "duration": 4,
    "start_time": "2023-02-01T08:14:02.361Z"
   },
   {
    "duration": 13,
    "start_time": "2023-02-01T08:14:08.520Z"
   },
   {
    "duration": 474,
    "start_time": "2023-02-01T08:14:27.649Z"
   },
   {
    "duration": 421,
    "start_time": "2023-02-01T08:14:37.431Z"
   },
   {
    "duration": 75,
    "start_time": "2023-02-01T08:14:37.854Z"
   },
   {
    "duration": 15,
    "start_time": "2023-02-01T08:14:37.931Z"
   },
   {
    "duration": 11,
    "start_time": "2023-02-01T08:14:37.948Z"
   },
   {
    "duration": 6,
    "start_time": "2023-02-01T08:14:37.961Z"
   },
   {
    "duration": 12,
    "start_time": "2023-02-01T08:14:37.968Z"
   },
   {
    "duration": 24,
    "start_time": "2023-02-01T08:14:37.981Z"
   },
   {
    "duration": 18,
    "start_time": "2023-02-01T08:14:38.007Z"
   },
   {
    "duration": 10,
    "start_time": "2023-02-01T08:14:57.788Z"
   },
   {
    "duration": 9,
    "start_time": "2023-02-01T08:15:05.562Z"
   },
   {
    "duration": 10,
    "start_time": "2023-02-01T08:15:27.535Z"
   },
   {
    "duration": 5,
    "start_time": "2023-02-01T08:16:02.018Z"
   },
   {
    "duration": 11,
    "start_time": "2023-02-01T08:16:04.784Z"
   },
   {
    "duration": 15,
    "start_time": "2023-02-01T08:17:39.950Z"
   },
   {
    "duration": 17,
    "start_time": "2023-02-01T08:18:08.832Z"
   },
   {
    "duration": 15,
    "start_time": "2023-02-01T08:19:04.609Z"
   },
   {
    "duration": 1307,
    "start_time": "2023-02-01T08:23:21.662Z"
   },
   {
    "duration": 6,
    "start_time": "2023-02-01T08:23:39.670Z"
   },
   {
    "duration": 11,
    "start_time": "2023-02-01T08:25:03.984Z"
   },
   {
    "duration": 92,
    "start_time": "2023-02-01T08:26:37.275Z"
   },
   {
    "duration": 4,
    "start_time": "2023-02-01T08:26:44.667Z"
   },
   {
    "duration": 11,
    "start_time": "2023-02-01T08:26:52.321Z"
   },
   {
    "duration": 4,
    "start_time": "2023-02-01T08:33:36.683Z"
   },
   {
    "duration": 4,
    "start_time": "2023-02-01T08:33:53.479Z"
   },
   {
    "duration": 6,
    "start_time": "2023-02-01T08:34:43.522Z"
   },
   {
    "duration": 15,
    "start_time": "2023-02-01T08:37:56.059Z"
   },
   {
    "duration": 12,
    "start_time": "2023-02-01T08:38:04.463Z"
   },
   {
    "duration": 28,
    "start_time": "2023-02-01T08:40:25.035Z"
   },
   {
    "duration": 20,
    "start_time": "2023-02-01T08:40:46.260Z"
   },
   {
    "duration": 18,
    "start_time": "2023-02-01T08:40:58.899Z"
   },
   {
    "duration": 22,
    "start_time": "2023-02-01T08:43:48.233Z"
   },
   {
    "duration": 13,
    "start_time": "2023-02-01T08:44:33.578Z"
   },
   {
    "duration": 14,
    "start_time": "2023-02-01T08:44:59.323Z"
   },
   {
    "duration": 6,
    "start_time": "2023-02-01T08:52:54.065Z"
   },
   {
    "duration": 3,
    "start_time": "2023-02-01T08:55:25.303Z"
   },
   {
    "duration": 70,
    "start_time": "2023-02-01T08:57:30.545Z"
   },
   {
    "duration": 26,
    "start_time": "2023-02-01T08:57:42.719Z"
   },
   {
    "duration": 176,
    "start_time": "2023-02-01T08:59:26.827Z"
   },
   {
    "duration": 13,
    "start_time": "2023-02-01T09:00:27.782Z"
   },
   {
    "duration": 194,
    "start_time": "2023-02-01T09:02:17.283Z"
   },
   {
    "duration": 123,
    "start_time": "2023-02-01T09:04:13.192Z"
   },
   {
    "duration": 147,
    "start_time": "2023-02-01T09:04:27.805Z"
   },
   {
    "duration": 11,
    "start_time": "2023-02-01T09:05:28.165Z"
   },
   {
    "duration": 13,
    "start_time": "2023-02-01T09:06:15.981Z"
   },
   {
    "duration": 427,
    "start_time": "2023-02-01T09:06:42.724Z"
   },
   {
    "duration": 268,
    "start_time": "2023-02-01T09:08:44.147Z"
   },
   {
    "duration": 208,
    "start_time": "2023-02-01T09:10:30.731Z"
   },
   {
    "duration": 206,
    "start_time": "2023-02-01T09:12:15.982Z"
   },
   {
    "duration": 228,
    "start_time": "2023-02-01T09:14:12.053Z"
   },
   {
    "duration": 191,
    "start_time": "2023-02-01T09:14:40.495Z"
   },
   {
    "duration": 414,
    "start_time": "2023-02-01T09:16:58.100Z"
   },
   {
    "duration": 356,
    "start_time": "2023-02-01T09:45:43.284Z"
   },
   {
    "duration": 13,
    "start_time": "2023-02-01T09:47:17.581Z"
   },
   {
    "duration": 77,
    "start_time": "2023-02-01T09:51:16.190Z"
   },
   {
    "duration": 81,
    "start_time": "2023-02-01T09:51:36.280Z"
   },
   {
    "duration": 91,
    "start_time": "2023-02-01T09:51:46.774Z"
   },
   {
    "duration": 14,
    "start_time": "2023-02-01T09:52:02.496Z"
   },
   {
    "duration": 316,
    "start_time": "2023-02-01T09:52:43.277Z"
   },
   {
    "duration": 15,
    "start_time": "2023-02-01T09:53:27.799Z"
   },
   {
    "duration": 15,
    "start_time": "2023-02-01T09:54:29.792Z"
   },
   {
    "duration": 70,
    "start_time": "2023-02-01T09:54:53.291Z"
   },
   {
    "duration": 16,
    "start_time": "2023-02-01T09:55:21.766Z"
   },
   {
    "duration": 163,
    "start_time": "2023-02-01T09:56:08.236Z"
   },
   {
    "duration": 174,
    "start_time": "2023-02-01T09:57:50.557Z"
   },
   {
    "duration": 229,
    "start_time": "2023-02-01T09:57:55.144Z"
   },
   {
    "duration": 151,
    "start_time": "2023-02-01T09:58:00.701Z"
   },
   {
    "duration": 7,
    "start_time": "2023-02-01T09:58:57.448Z"
   },
   {
    "duration": 7,
    "start_time": "2023-02-01T09:59:25.379Z"
   },
   {
    "duration": 13,
    "start_time": "2023-02-01T10:04:27.800Z"
   },
   {
    "duration": 12,
    "start_time": "2023-02-01T10:05:13.246Z"
   },
   {
    "duration": 14,
    "start_time": "2023-02-01T10:05:27.929Z"
   },
   {
    "duration": 13,
    "start_time": "2023-02-01T10:05:33.647Z"
   },
   {
    "duration": 158,
    "start_time": "2023-02-01T10:05:43.197Z"
   },
   {
    "duration": 12,
    "start_time": "2023-02-01T10:06:07.303Z"
   },
   {
    "duration": 13,
    "start_time": "2023-02-01T10:06:31.879Z"
   },
   {
    "duration": 153,
    "start_time": "2023-02-01T10:07:10.514Z"
   },
   {
    "duration": 177,
    "start_time": "2023-02-01T10:07:53.512Z"
   },
   {
    "duration": 6,
    "start_time": "2023-02-01T10:08:32.281Z"
   },
   {
    "duration": 9,
    "start_time": "2023-02-01T10:09:23.351Z"
   },
   {
    "duration": 6,
    "start_time": "2023-02-01T10:09:38.094Z"
   },
   {
    "duration": 138,
    "start_time": "2023-02-01T10:15:13.884Z"
   },
   {
    "duration": 219,
    "start_time": "2023-02-01T10:17:35.005Z"
   },
   {
    "duration": 154,
    "start_time": "2023-02-01T10:19:09.672Z"
   },
   {
    "duration": 8,
    "start_time": "2023-02-01T10:20:45.472Z"
   },
   {
    "duration": 17,
    "start_time": "2023-02-01T10:21:06.630Z"
   },
   {
    "duration": 159,
    "start_time": "2023-02-01T10:21:48.607Z"
   },
   {
    "duration": 531,
    "start_time": "2023-02-01T10:22:21.207Z"
   },
   {
    "duration": 152,
    "start_time": "2023-02-01T10:22:26.581Z"
   },
   {
    "duration": 44,
    "start_time": "2023-02-01T14:06:38.381Z"
   },
   {
    "duration": 1134,
    "start_time": "2023-02-01T14:06:44.779Z"
   },
   {
    "duration": 183,
    "start_time": "2023-02-01T14:06:45.915Z"
   },
   {
    "duration": 19,
    "start_time": "2023-02-01T14:06:46.100Z"
   },
   {
    "duration": 3,
    "start_time": "2023-02-01T14:06:46.121Z"
   },
   {
    "duration": 13,
    "start_time": "2023-02-01T14:06:46.126Z"
   },
   {
    "duration": 25,
    "start_time": "2023-02-01T14:06:46.140Z"
   },
   {
    "duration": 10,
    "start_time": "2023-02-01T14:06:46.167Z"
   },
   {
    "duration": 17,
    "start_time": "2023-02-01T14:06:46.179Z"
   },
   {
    "duration": 8,
    "start_time": "2023-02-01T14:06:46.198Z"
   },
   {
    "duration": 32,
    "start_time": "2023-02-01T14:06:46.207Z"
   },
   {
    "duration": 10,
    "start_time": "2023-02-01T14:06:46.241Z"
   },
   {
    "duration": 7,
    "start_time": "2023-02-01T14:06:46.252Z"
   },
   {
    "duration": 165,
    "start_time": "2023-02-01T14:06:46.261Z"
   },
   {
    "duration": 113,
    "start_time": "2023-02-01T14:06:46.428Z"
   },
   {
    "duration": 10,
    "start_time": "2023-02-01T14:06:46.543Z"
   },
   {
    "duration": 267,
    "start_time": "2023-02-01T14:06:46.555Z"
   },
   {
    "duration": 171,
    "start_time": "2023-02-01T14:06:46.823Z"
   },
   {
    "duration": 337,
    "start_time": "2023-02-01T14:06:46.996Z"
   },
   {
    "duration": 10,
    "start_time": "2023-02-01T14:06:47.336Z"
   },
   {
    "duration": 122,
    "start_time": "2023-02-01T14:06:47.348Z"
   },
   {
    "duration": 4,
    "start_time": "2023-02-01T14:06:47.472Z"
   },
   {
    "duration": 136,
    "start_time": "2023-02-01T14:06:47.477Z"
   },
   {
    "duration": 4,
    "start_time": "2023-02-01T14:06:47.615Z"
   },
   {
    "duration": 205,
    "start_time": "2023-02-01T14:06:47.620Z"
   },
   {
    "duration": 135,
    "start_time": "2023-02-01T14:06:47.827Z"
   },
   {
    "duration": 5,
    "start_time": "2023-02-01T14:06:47.964Z"
   },
   {
    "duration": 142,
    "start_time": "2023-02-01T14:06:47.971Z"
   },
   {
    "duration": 9,
    "start_time": "2023-02-01T14:06:48.115Z"
   },
   {
    "duration": 825,
    "start_time": "2023-02-01T14:08:10.886Z"
   },
   {
    "duration": 674,
    "start_time": "2023-02-01T14:08:41.420Z"
   },
   {
    "duration": 14,
    "start_time": "2023-02-01T14:09:14.209Z"
   },
   {
    "duration": 831,
    "start_time": "2023-02-01T14:09:54.566Z"
   },
   {
    "duration": 159,
    "start_time": "2023-02-01T14:10:20.778Z"
   },
   {
    "duration": 875,
    "start_time": "2023-02-01T14:26:05.525Z"
   },
   {
    "duration": 143,
    "start_time": "2023-02-01T14:26:45.165Z"
   },
   {
    "duration": 654,
    "start_time": "2023-02-01T14:28:06.110Z"
   },
   {
    "duration": 13,
    "start_time": "2023-02-01T14:28:45.398Z"
   },
   {
    "duration": 175,
    "start_time": "2023-02-01T14:35:44.297Z"
   },
   {
    "duration": 197,
    "start_time": "2023-02-01T14:36:36.107Z"
   },
   {
    "duration": 1298,
    "start_time": "2023-02-01T17:37:14.509Z"
   },
   {
    "duration": 246,
    "start_time": "2023-02-01T17:37:15.809Z"
   },
   {
    "duration": 20,
    "start_time": "2023-02-01T17:37:16.056Z"
   },
   {
    "duration": 3,
    "start_time": "2023-02-01T17:37:16.078Z"
   },
   {
    "duration": 7,
    "start_time": "2023-02-01T17:37:16.083Z"
   },
   {
    "duration": 18,
    "start_time": "2023-02-01T17:37:16.091Z"
   },
   {
    "duration": 38,
    "start_time": "2023-02-01T17:37:16.111Z"
   },
   {
    "duration": 19,
    "start_time": "2023-02-01T17:37:16.150Z"
   },
   {
    "duration": 4,
    "start_time": "2023-02-01T17:37:16.170Z"
   },
   {
    "duration": 12,
    "start_time": "2023-02-01T17:37:16.176Z"
   },
   {
    "duration": 9,
    "start_time": "2023-02-01T17:37:16.190Z"
   },
   {
    "duration": 8,
    "start_time": "2023-02-01T17:37:16.200Z"
   },
   {
    "duration": 220,
    "start_time": "2023-02-01T17:37:16.210Z"
   },
   {
    "duration": 138,
    "start_time": "2023-02-01T17:37:16.432Z"
   },
   {
    "duration": 11,
    "start_time": "2023-02-01T17:37:16.572Z"
   },
   {
    "duration": 308,
    "start_time": "2023-02-01T17:37:16.585Z"
   },
   {
    "duration": 190,
    "start_time": "2023-02-01T17:37:16.895Z"
   },
   {
    "duration": 317,
    "start_time": "2023-02-01T17:37:17.086Z"
   },
   {
    "duration": 12,
    "start_time": "2023-02-01T17:37:17.405Z"
   },
   {
    "duration": 133,
    "start_time": "2023-02-01T17:37:17.419Z"
   },
   {
    "duration": 4,
    "start_time": "2023-02-01T17:37:17.554Z"
   },
   {
    "duration": 152,
    "start_time": "2023-02-01T17:37:17.560Z"
   },
   {
    "duration": 5,
    "start_time": "2023-02-01T17:37:17.714Z"
   },
   {
    "duration": 232,
    "start_time": "2023-02-01T17:37:17.721Z"
   },
   {
    "duration": 140,
    "start_time": "2023-02-01T17:37:17.955Z"
   },
   {
    "duration": 5,
    "start_time": "2023-02-01T17:37:18.097Z"
   },
   {
    "duration": 164,
    "start_time": "2023-02-01T17:37:18.104Z"
   },
   {
    "duration": 9,
    "start_time": "2023-02-01T17:37:18.272Z"
   },
   {
    "duration": 187,
    "start_time": "2023-02-01T17:37:18.283Z"
   },
   {
    "duration": 13,
    "start_time": "2023-02-01T17:37:18.472Z"
   },
   {
    "duration": 255,
    "start_time": "2023-02-01T17:39:05.804Z"
   },
   {
    "duration": 256,
    "start_time": "2023-02-01T17:39:46.595Z"
   },
   {
    "duration": 363,
    "start_time": "2023-02-01T17:39:56.843Z"
   },
   {
    "duration": 241,
    "start_time": "2023-02-01T17:40:11.968Z"
   },
   {
    "duration": 296,
    "start_time": "2023-02-01T17:40:18.834Z"
   },
   {
    "duration": 262,
    "start_time": "2023-02-01T17:40:50.906Z"
   },
   {
    "duration": 421,
    "start_time": "2023-02-01T17:41:43.182Z"
   },
   {
    "duration": 339,
    "start_time": "2023-02-01T17:42:23.557Z"
   },
   {
    "duration": 316,
    "start_time": "2023-02-01T17:42:46.557Z"
   },
   {
    "duration": 284,
    "start_time": "2023-02-01T17:43:11.051Z"
   },
   {
    "duration": 275,
    "start_time": "2023-02-01T17:43:21.211Z"
   },
   {
    "duration": 297,
    "start_time": "2023-02-01T17:43:29.866Z"
   },
   {
    "duration": 361,
    "start_time": "2023-02-01T17:44:00.811Z"
   },
   {
    "duration": 256,
    "start_time": "2023-02-01T17:45:05.598Z"
   },
   {
    "duration": 347,
    "start_time": "2023-02-01T17:45:50.662Z"
   },
   {
    "duration": 364,
    "start_time": "2023-02-01T17:46:06.833Z"
   },
   {
    "duration": 310,
    "start_time": "2023-02-01T17:46:29.265Z"
   },
   {
    "duration": 174,
    "start_time": "2023-02-01T17:46:38.911Z"
   },
   {
    "duration": 1122,
    "start_time": "2023-02-01T17:47:11.083Z"
   },
   {
    "duration": 78,
    "start_time": "2023-02-01T17:47:12.207Z"
   },
   {
    "duration": 18,
    "start_time": "2023-02-01T17:47:12.286Z"
   },
   {
    "duration": 3,
    "start_time": "2023-02-01T17:47:12.306Z"
   },
   {
    "duration": 12,
    "start_time": "2023-02-01T17:47:12.311Z"
   },
   {
    "duration": 22,
    "start_time": "2023-02-01T17:47:12.325Z"
   },
   {
    "duration": 17,
    "start_time": "2023-02-01T17:47:12.349Z"
   },
   {
    "duration": 20,
    "start_time": "2023-02-01T17:47:12.368Z"
   },
   {
    "duration": 4,
    "start_time": "2023-02-01T17:47:12.389Z"
   },
   {
    "duration": 19,
    "start_time": "2023-02-01T17:47:12.396Z"
   },
   {
    "duration": 12,
    "start_time": "2023-02-01T17:47:12.416Z"
   },
   {
    "duration": 20,
    "start_time": "2023-02-01T17:47:12.429Z"
   },
   {
    "duration": 182,
    "start_time": "2023-02-01T17:47:12.451Z"
   },
   {
    "duration": 146,
    "start_time": "2023-02-01T17:47:12.634Z"
   },
   {
    "duration": 12,
    "start_time": "2023-02-01T17:47:12.782Z"
   },
   {
    "duration": 287,
    "start_time": "2023-02-01T17:47:12.795Z"
   },
   {
    "duration": 228,
    "start_time": "2023-02-01T17:47:13.083Z"
   },
   {
    "duration": 316,
    "start_time": "2023-02-01T17:47:13.313Z"
   },
   {
    "duration": 191,
    "start_time": "2023-02-01T17:47:13.630Z"
   },
   {
    "duration": 351,
    "start_time": "2023-02-01T17:47:13.823Z"
   },
   {
    "duration": 11,
    "start_time": "2023-02-01T17:47:14.176Z"
   },
   {
    "duration": 145,
    "start_time": "2023-02-01T17:47:14.189Z"
   },
   {
    "duration": 16,
    "start_time": "2023-02-01T17:47:14.336Z"
   },
   {
    "duration": 150,
    "start_time": "2023-02-01T17:47:14.357Z"
   },
   {
    "duration": 5,
    "start_time": "2023-02-01T17:47:14.508Z"
   },
   {
    "duration": 253,
    "start_time": "2023-02-01T17:47:14.515Z"
   },
   {
    "duration": 144,
    "start_time": "2023-02-01T17:47:14.770Z"
   },
   {
    "duration": 5,
    "start_time": "2023-02-01T17:47:14.917Z"
   },
   {
    "duration": 288,
    "start_time": "2023-02-01T17:47:14.924Z"
   },
   {
    "duration": 9,
    "start_time": "2023-02-01T17:47:15.214Z"
   },
   {
    "duration": 203,
    "start_time": "2023-02-01T17:47:15.224Z"
   },
   {
    "duration": 22,
    "start_time": "2023-02-01T17:47:15.428Z"
   },
   {
    "duration": 11,
    "start_time": "2023-02-01T18:08:06.691Z"
   },
   {
    "duration": 18,
    "start_time": "2023-02-01T18:08:56.786Z"
   },
   {
    "duration": 1008,
    "start_time": "2023-02-01T18:09:47.096Z"
   },
   {
    "duration": 77,
    "start_time": "2023-02-01T18:09:48.106Z"
   },
   {
    "duration": 18,
    "start_time": "2023-02-01T18:09:48.184Z"
   },
   {
    "duration": 3,
    "start_time": "2023-02-01T18:09:48.204Z"
   },
   {
    "duration": 7,
    "start_time": "2023-02-01T18:09:48.209Z"
   },
   {
    "duration": 19,
    "start_time": "2023-02-01T18:09:48.218Z"
   },
   {
    "duration": 12,
    "start_time": "2023-02-01T18:09:48.239Z"
   },
   {
    "duration": 18,
    "start_time": "2023-02-01T18:09:48.253Z"
   },
   {
    "duration": 4,
    "start_time": "2023-02-01T18:09:48.273Z"
   },
   {
    "duration": 16,
    "start_time": "2023-02-01T18:09:48.279Z"
   },
   {
    "duration": 10,
    "start_time": "2023-02-01T18:09:48.297Z"
   },
   {
    "duration": 7,
    "start_time": "2023-02-01T18:09:48.308Z"
   },
   {
    "duration": 186,
    "start_time": "2023-02-01T18:09:48.317Z"
   },
   {
    "duration": 126,
    "start_time": "2023-02-01T18:09:48.506Z"
   },
   {
    "duration": 16,
    "start_time": "2023-02-01T18:09:48.633Z"
   },
   {
    "duration": 291,
    "start_time": "2023-02-01T18:09:48.650Z"
   },
   {
    "duration": 193,
    "start_time": "2023-02-01T18:09:48.942Z"
   },
   {
    "duration": 315,
    "start_time": "2023-02-01T18:09:49.138Z"
   },
   {
    "duration": 171,
    "start_time": "2023-02-01T18:09:49.455Z"
   },
   {
    "duration": 320,
    "start_time": "2023-02-01T18:09:49.628Z"
   },
   {
    "duration": 10,
    "start_time": "2023-02-01T18:09:49.950Z"
   },
   {
    "duration": 134,
    "start_time": "2023-02-01T18:09:49.962Z"
   },
   {
    "duration": 4,
    "start_time": "2023-02-01T18:09:50.098Z"
   },
   {
    "duration": 141,
    "start_time": "2023-02-01T18:09:50.104Z"
   },
   {
    "duration": 4,
    "start_time": "2023-02-01T18:09:50.249Z"
   },
   {
    "duration": 220,
    "start_time": "2023-02-01T18:09:50.254Z"
   },
   {
    "duration": 132,
    "start_time": "2023-02-01T18:09:50.476Z"
   },
   {
    "duration": 6,
    "start_time": "2023-02-01T18:09:50.609Z"
   },
   {
    "duration": 161,
    "start_time": "2023-02-01T18:09:50.617Z"
   },
   {
    "duration": 10,
    "start_time": "2023-02-01T18:09:50.779Z"
   },
   {
    "duration": 222,
    "start_time": "2023-02-01T18:09:50.790Z"
   },
   {
    "duration": 13,
    "start_time": "2023-02-01T18:09:51.049Z"
   },
   {
    "duration": 208,
    "start_time": "2023-02-01T19:20:47.465Z"
   },
   {
    "duration": 189,
    "start_time": "2023-02-01T19:21:37.008Z"
   },
   {
    "duration": 278,
    "start_time": "2023-02-01T19:21:47.266Z"
   },
   {
    "duration": 138,
    "start_time": "2023-02-01T19:23:10.483Z"
   },
   {
    "duration": 257,
    "start_time": "2023-02-01T19:24:10.601Z"
   },
   {
    "duration": 137,
    "start_time": "2023-02-01T19:25:12.097Z"
   },
   {
    "duration": 311,
    "start_time": "2023-02-01T19:26:31.426Z"
   },
   {
    "duration": 329,
    "start_time": "2023-02-01T19:28:56.759Z"
   },
   {
    "duration": 1141,
    "start_time": "2023-02-01T19:29:10.504Z"
   },
   {
    "duration": 91,
    "start_time": "2023-02-01T19:29:11.647Z"
   },
   {
    "duration": 31,
    "start_time": "2023-02-01T19:29:11.740Z"
   },
   {
    "duration": 3,
    "start_time": "2023-02-01T19:29:11.773Z"
   },
   {
    "duration": 22,
    "start_time": "2023-02-01T19:29:11.778Z"
   },
   {
    "duration": 13,
    "start_time": "2023-02-01T19:29:11.801Z"
   },
   {
    "duration": 48,
    "start_time": "2023-02-01T19:29:11.816Z"
   },
   {
    "duration": 5,
    "start_time": "2023-02-01T19:29:11.866Z"
   },
   {
    "duration": 16,
    "start_time": "2023-02-01T19:29:11.872Z"
   },
   {
    "duration": 11,
    "start_time": "2023-02-01T19:29:11.890Z"
   },
   {
    "duration": 345,
    "start_time": "2023-02-01T19:29:11.902Z"
   },
   {
    "duration": 314,
    "start_time": "2023-02-01T19:29:12.251Z"
   },
   {
    "duration": 214,
    "start_time": "2023-02-01T19:29:12.567Z"
   },
   {
    "duration": 293,
    "start_time": "2023-02-01T19:29:12.783Z"
   },
   {
    "duration": 188,
    "start_time": "2023-02-01T19:29:13.078Z"
   },
   {
    "duration": 365,
    "start_time": "2023-02-01T19:29:13.269Z"
   },
   {
    "duration": 16,
    "start_time": "2023-02-01T19:29:13.636Z"
   },
   {
    "duration": 170,
    "start_time": "2023-02-01T19:29:13.656Z"
   },
   {
    "duration": 6,
    "start_time": "2023-02-01T19:29:13.828Z"
   },
   {
    "duration": 181,
    "start_time": "2023-02-01T19:29:13.836Z"
   },
   {
    "duration": 6,
    "start_time": "2023-02-01T19:29:14.019Z"
   },
   {
    "duration": 265,
    "start_time": "2023-02-01T19:29:14.026Z"
   },
   {
    "duration": 170,
    "start_time": "2023-02-01T19:29:14.293Z"
   },
   {
    "duration": 7,
    "start_time": "2023-02-01T19:29:14.465Z"
   },
   {
    "duration": 196,
    "start_time": "2023-02-01T19:29:14.473Z"
   },
   {
    "duration": 9,
    "start_time": "2023-02-01T19:29:14.671Z"
   },
   {
    "duration": 194,
    "start_time": "2023-02-01T19:29:14.682Z"
   },
   {
    "duration": 14,
    "start_time": "2023-02-01T19:29:14.877Z"
   },
   {
    "duration": 401,
    "start_time": "2023-02-01T19:31:51.625Z"
   },
   {
    "duration": 77,
    "start_time": "2023-02-01T19:32:04.374Z"
   },
   {
    "duration": 368,
    "start_time": "2023-02-01T19:32:13.750Z"
   },
   {
    "duration": 389,
    "start_time": "2023-02-01T19:32:33.306Z"
   },
   {
    "duration": 378,
    "start_time": "2023-02-01T19:32:37.930Z"
   },
   {
    "duration": 286,
    "start_time": "2023-02-01T19:32:44.575Z"
   },
   {
    "duration": 404,
    "start_time": "2023-02-01T19:33:09.512Z"
   },
   {
    "duration": 236,
    "start_time": "2023-02-01T19:33:22.696Z"
   },
   {
    "duration": 327,
    "start_time": "2023-02-01T19:33:38.497Z"
   },
   {
    "duration": 322,
    "start_time": "2023-02-01T19:34:21.772Z"
   },
   {
    "duration": 198,
    "start_time": "2023-02-01T19:44:14.466Z"
   },
   {
    "duration": 264,
    "start_time": "2023-02-01T19:45:15.068Z"
   },
   {
    "duration": 329,
    "start_time": "2023-02-01T19:45:26.100Z"
   },
   {
    "duration": 272,
    "start_time": "2023-02-01T19:45:37.604Z"
   },
   {
    "duration": 249,
    "start_time": "2023-02-01T19:45:49.296Z"
   },
   {
    "duration": 18,
    "start_time": "2023-02-01T19:59:39.692Z"
   },
   {
    "duration": 344,
    "start_time": "2023-02-01T20:03:02.687Z"
   },
   {
    "duration": 322,
    "start_time": "2023-02-01T20:03:08.505Z"
   },
   {
    "duration": 328,
    "start_time": "2023-02-01T20:03:35.502Z"
   },
   {
    "duration": 418,
    "start_time": "2023-02-01T20:09:36.494Z"
   },
   {
    "duration": 186,
    "start_time": "2023-02-01T20:09:50.227Z"
   },
   {
    "duration": 193,
    "start_time": "2023-02-01T20:10:06.782Z"
   },
   {
    "duration": 167,
    "start_time": "2023-02-01T20:10:35.317Z"
   },
   {
    "duration": 230,
    "start_time": "2023-02-01T20:11:03.668Z"
   },
   {
    "duration": 288,
    "start_time": "2023-02-01T20:11:48.478Z"
   },
   {
    "duration": 217,
    "start_time": "2023-02-01T20:11:54.086Z"
   },
   {
    "duration": 199,
    "start_time": "2023-02-01T20:11:58.325Z"
   },
   {
    "duration": 234,
    "start_time": "2023-02-01T20:13:45.101Z"
   },
   {
    "duration": 204,
    "start_time": "2023-02-01T20:13:55.686Z"
   },
   {
    "duration": 282,
    "start_time": "2023-02-01T20:15:54.195Z"
   },
   {
    "duration": 291,
    "start_time": "2023-02-01T20:16:08.900Z"
   },
   {
    "duration": 317,
    "start_time": "2023-02-01T20:16:13.389Z"
   },
   {
    "duration": 341,
    "start_time": "2023-02-01T20:16:17.933Z"
   },
   {
    "duration": 295,
    "start_time": "2023-02-01T20:16:52.511Z"
   },
   {
    "duration": 216,
    "start_time": "2023-02-01T20:17:08.742Z"
   },
   {
    "duration": 383,
    "start_time": "2023-02-01T20:17:14.076Z"
   },
   {
    "duration": 290,
    "start_time": "2023-02-01T20:17:25.976Z"
   },
   {
    "duration": 347,
    "start_time": "2023-02-01T20:17:36.572Z"
   },
   {
    "duration": 330,
    "start_time": "2023-02-01T20:17:43.822Z"
   },
   {
    "duration": 379,
    "start_time": "2023-02-01T20:21:22.146Z"
   },
   {
    "duration": 17,
    "start_time": "2023-02-01T20:30:46.681Z"
   },
   {
    "duration": 13,
    "start_time": "2023-02-01T20:30:55.677Z"
   },
   {
    "duration": 145,
    "start_time": "2023-02-01T20:32:24.633Z"
   },
   {
    "duration": 159,
    "start_time": "2023-02-01T20:32:41.103Z"
   },
   {
    "duration": 5,
    "start_time": "2023-02-01T20:44:37.294Z"
   },
   {
    "duration": 6,
    "start_time": "2023-02-01T20:44:45.383Z"
   },
   {
    "duration": 171,
    "start_time": "2023-02-01T20:49:24.223Z"
   },
   {
    "duration": 6,
    "start_time": "2023-02-01T20:54:18.685Z"
   },
   {
    "duration": 1455,
    "start_time": "2023-02-02T07:03:17.825Z"
   },
   {
    "duration": 298,
    "start_time": "2023-02-02T07:03:19.282Z"
   },
   {
    "duration": 26,
    "start_time": "2023-02-02T07:03:19.583Z"
   },
   {
    "duration": 3,
    "start_time": "2023-02-02T07:03:19.612Z"
   },
   {
    "duration": 22,
    "start_time": "2023-02-02T07:03:19.618Z"
   },
   {
    "duration": 41,
    "start_time": "2023-02-02T07:03:19.642Z"
   },
   {
    "duration": 30,
    "start_time": "2023-02-02T07:03:19.685Z"
   },
   {
    "duration": 4,
    "start_time": "2023-02-02T07:03:19.717Z"
   },
   {
    "duration": 19,
    "start_time": "2023-02-02T07:03:19.723Z"
   },
   {
    "duration": 30,
    "start_time": "2023-02-02T07:03:19.744Z"
   },
   {
    "duration": 343,
    "start_time": "2023-02-02T07:03:19.776Z"
   },
   {
    "duration": 339,
    "start_time": "2023-02-02T07:03:20.121Z"
   },
   {
    "duration": 268,
    "start_time": "2023-02-02T07:03:20.462Z"
   },
   {
    "duration": 20,
    "start_time": "2023-02-02T07:03:20.735Z"
   },
   {
    "duration": 364,
    "start_time": "2023-02-02T07:03:20.757Z"
   },
   {
    "duration": 234,
    "start_time": "2023-02-02T07:03:21.122Z"
   },
   {
    "duration": 345,
    "start_time": "2023-02-02T07:03:21.358Z"
   },
   {
    "duration": 11,
    "start_time": "2023-02-02T07:03:21.705Z"
   },
   {
    "duration": 184,
    "start_time": "2023-02-02T07:03:21.718Z"
   },
   {
    "duration": 6,
    "start_time": "2023-02-02T07:03:21.904Z"
   },
   {
    "duration": 14,
    "start_time": "2023-02-02T07:03:21.911Z"
   },
   {
    "duration": 196,
    "start_time": "2023-02-02T07:03:21.926Z"
   },
   {
    "duration": 5,
    "start_time": "2023-02-02T07:03:22.124Z"
   },
   {
    "duration": 249,
    "start_time": "2023-02-02T07:03:22.130Z"
   },
   {
    "duration": 173,
    "start_time": "2023-02-02T07:03:22.380Z"
   },
   {
    "duration": 33,
    "start_time": "2023-02-02T07:03:22.556Z"
   },
   {
    "duration": 193,
    "start_time": "2023-02-02T07:03:22.592Z"
   },
   {
    "duration": 11,
    "start_time": "2023-02-02T07:03:22.788Z"
   },
   {
    "duration": 205,
    "start_time": "2023-02-02T07:03:22.800Z"
   },
   {
    "duration": 14,
    "start_time": "2023-02-02T07:03:23.007Z"
   },
   {
    "duration": 36,
    "start_time": "2023-02-02T07:06:04.336Z"
   },
   {
    "duration": 225,
    "start_time": "2023-02-02T07:32:39.529Z"
   },
   {
    "duration": 21,
    "start_time": "2023-02-02T07:57:32.795Z"
   },
   {
    "duration": 23,
    "start_time": "2023-02-02T07:58:07.387Z"
   },
   {
    "duration": 12,
    "start_time": "2023-02-02T08:07:25.398Z"
   },
   {
    "duration": 171,
    "start_time": "2023-02-02T08:20:03.284Z"
   },
   {
    "duration": 2396,
    "start_time": "2023-02-02T08:20:08.887Z"
   },
   {
    "duration": 8,
    "start_time": "2023-02-02T08:20:55.063Z"
   },
   {
    "duration": 11,
    "start_time": "2023-02-02T08:21:21.193Z"
   },
   {
    "duration": 9,
    "start_time": "2023-02-02T08:27:15.105Z"
   },
   {
    "duration": 32,
    "start_time": "2023-02-02T08:28:30.386Z"
   },
   {
    "duration": 12,
    "start_time": "2023-02-02T08:31:48.176Z"
   },
   {
    "duration": 1099,
    "start_time": "2023-02-02T08:32:00.639Z"
   },
   {
    "duration": 100,
    "start_time": "2023-02-02T08:32:01.741Z"
   },
   {
    "duration": 24,
    "start_time": "2023-02-02T08:32:01.842Z"
   },
   {
    "duration": 9,
    "start_time": "2023-02-02T08:32:01.868Z"
   },
   {
    "duration": 23,
    "start_time": "2023-02-02T08:32:01.879Z"
   },
   {
    "duration": 20,
    "start_time": "2023-02-02T08:32:01.904Z"
   },
   {
    "duration": 59,
    "start_time": "2023-02-02T08:32:01.926Z"
   },
   {
    "duration": 5,
    "start_time": "2023-02-02T08:32:01.987Z"
   },
   {
    "duration": 17,
    "start_time": "2023-02-02T08:32:01.993Z"
   },
   {
    "duration": 16,
    "start_time": "2023-02-02T08:32:02.012Z"
   },
   {
    "duration": 327,
    "start_time": "2023-02-02T08:32:02.029Z"
   },
   {
    "duration": 299,
    "start_time": "2023-02-02T08:32:02.358Z"
   },
   {
    "duration": 215,
    "start_time": "2023-02-02T08:32:02.659Z"
   },
   {
    "duration": 11,
    "start_time": "2023-02-02T08:32:02.877Z"
   },
   {
    "duration": 293,
    "start_time": "2023-02-02T08:32:02.890Z"
   },
   {
    "duration": 180,
    "start_time": "2023-02-02T08:32:03.184Z"
   },
   {
    "duration": 305,
    "start_time": "2023-02-02T08:32:03.366Z"
   },
   {
    "duration": 11,
    "start_time": "2023-02-02T08:32:03.672Z"
   },
   {
    "duration": 153,
    "start_time": "2023-02-02T08:32:03.684Z"
   },
   {
    "duration": 19,
    "start_time": "2023-02-02T08:32:03.838Z"
   },
   {
    "duration": 5,
    "start_time": "2023-02-02T08:32:03.859Z"
   },
   {
    "duration": 156,
    "start_time": "2023-02-02T08:32:03.865Z"
   },
   {
    "duration": 5,
    "start_time": "2023-02-02T08:32:04.023Z"
   },
   {
    "duration": 260,
    "start_time": "2023-02-02T08:32:04.030Z"
   },
   {
    "duration": 138,
    "start_time": "2023-02-02T08:32:04.291Z"
   },
   {
    "duration": 8,
    "start_time": "2023-02-02T08:32:04.431Z"
   },
   {
    "duration": 31,
    "start_time": "2023-02-02T08:32:04.440Z"
   },
   {
    "duration": 11,
    "start_time": "2023-02-02T08:32:04.472Z"
   },
   {
    "duration": 9,
    "start_time": "2023-02-02T08:32:04.485Z"
   },
   {
    "duration": 63,
    "start_time": "2023-02-02T08:32:04.496Z"
   },
   {
    "duration": 13,
    "start_time": "2023-02-02T08:32:04.561Z"
   },
   {
    "duration": 17,
    "start_time": "2023-02-02T08:32:24.869Z"
   },
   {
    "duration": 1075,
    "start_time": "2023-02-02T09:34:46.556Z"
   },
   {
    "duration": 86,
    "start_time": "2023-02-02T09:34:47.633Z"
   },
   {
    "duration": 18,
    "start_time": "2023-02-02T09:34:47.720Z"
   },
   {
    "duration": 19,
    "start_time": "2023-02-02T09:34:47.739Z"
   },
   {
    "duration": 33,
    "start_time": "2023-02-02T09:34:47.761Z"
   },
   {
    "duration": 35,
    "start_time": "2023-02-02T09:34:47.795Z"
   },
   {
    "duration": 44,
    "start_time": "2023-02-02T09:34:47.831Z"
   },
   {
    "duration": 34,
    "start_time": "2023-02-02T09:34:47.877Z"
   },
   {
    "duration": 17,
    "start_time": "2023-02-02T09:34:47.913Z"
   },
   {
    "duration": 8,
    "start_time": "2023-02-02T09:34:47.932Z"
   },
   {
    "duration": 279,
    "start_time": "2023-02-02T09:34:47.942Z"
   },
   {
    "duration": 297,
    "start_time": "2023-02-02T09:34:48.222Z"
   },
   {
    "duration": 218,
    "start_time": "2023-02-02T09:34:48.520Z"
   },
   {
    "duration": 11,
    "start_time": "2023-02-02T09:34:48.751Z"
   },
   {
    "duration": 316,
    "start_time": "2023-02-02T09:34:48.764Z"
   },
   {
    "duration": 183,
    "start_time": "2023-02-02T09:34:49.083Z"
   },
   {
    "duration": 309,
    "start_time": "2023-02-02T09:34:49.267Z"
   },
   {
    "duration": 12,
    "start_time": "2023-02-02T09:34:49.577Z"
   },
   {
    "duration": 156,
    "start_time": "2023-02-02T09:34:49.590Z"
   },
   {
    "duration": 13,
    "start_time": "2023-02-02T09:34:49.748Z"
   },
   {
    "duration": 9,
    "start_time": "2023-02-02T09:34:49.762Z"
   },
   {
    "duration": 152,
    "start_time": "2023-02-02T09:34:49.773Z"
   },
   {
    "duration": 5,
    "start_time": "2023-02-02T09:34:49.926Z"
   },
   {
    "duration": 215,
    "start_time": "2023-02-02T09:34:49.944Z"
   },
   {
    "duration": 132,
    "start_time": "2023-02-02T09:34:50.161Z"
   },
   {
    "duration": 7,
    "start_time": "2023-02-02T09:34:50.294Z"
   },
   {
    "duration": 31,
    "start_time": "2023-02-02T09:34:50.303Z"
   },
   {
    "duration": 25,
    "start_time": "2023-02-02T09:34:50.335Z"
   },
   {
    "duration": 49,
    "start_time": "2023-02-02T09:34:50.362Z"
   },
   {
    "duration": 61,
    "start_time": "2023-02-02T09:34:50.412Z"
   },
   {
    "duration": 40,
    "start_time": "2023-02-02T09:34:50.474Z"
   },
   {
    "duration": 1129,
    "start_time": "2023-02-02T11:08:52.383Z"
   },
   {
    "duration": 75,
    "start_time": "2023-02-02T11:08:53.513Z"
   },
   {
    "duration": 20,
    "start_time": "2023-02-02T11:08:53.590Z"
   },
   {
    "duration": 4,
    "start_time": "2023-02-02T11:08:53.613Z"
   },
   {
    "duration": 24,
    "start_time": "2023-02-02T11:08:53.618Z"
   },
   {
    "duration": 14,
    "start_time": "2023-02-02T11:08:53.643Z"
   },
   {
    "duration": 24,
    "start_time": "2023-02-02T11:08:53.658Z"
   },
   {
    "duration": 5,
    "start_time": "2023-02-02T11:08:53.685Z"
   },
   {
    "duration": 24,
    "start_time": "2023-02-02T11:08:53.692Z"
   },
   {
    "duration": 29,
    "start_time": "2023-02-02T11:08:53.719Z"
   },
   {
    "duration": 316,
    "start_time": "2023-02-02T11:08:53.750Z"
   },
   {
    "duration": 317,
    "start_time": "2023-02-02T11:08:54.067Z"
   },
   {
    "duration": 209,
    "start_time": "2023-02-02T11:08:54.386Z"
   },
   {
    "duration": 11,
    "start_time": "2023-02-02T11:08:54.596Z"
   },
   {
    "duration": 304,
    "start_time": "2023-02-02T11:08:54.654Z"
   },
   {
    "duration": 202,
    "start_time": "2023-02-02T11:08:54.960Z"
   },
   {
    "duration": 293,
    "start_time": "2023-02-02T11:08:55.164Z"
   },
   {
    "duration": 12,
    "start_time": "2023-02-02T11:08:55.459Z"
   },
   {
    "duration": 196,
    "start_time": "2023-02-02T11:08:55.473Z"
   },
   {
    "duration": 10,
    "start_time": "2023-02-02T11:08:55.671Z"
   },
   {
    "duration": 17,
    "start_time": "2023-02-02T11:08:55.683Z"
   },
   {
    "duration": 204,
    "start_time": "2023-02-02T11:08:55.702Z"
   },
   {
    "duration": 5,
    "start_time": "2023-02-02T11:08:55.907Z"
   },
   {
    "duration": 247,
    "start_time": "2023-02-02T11:08:55.915Z"
   },
   {
    "duration": 206,
    "start_time": "2023-02-02T11:08:56.164Z"
   },
   {
    "duration": 7,
    "start_time": "2023-02-02T11:08:56.371Z"
   },
   {
    "duration": 30,
    "start_time": "2023-02-02T11:08:56.380Z"
   },
   {
    "duration": 11,
    "start_time": "2023-02-02T11:08:56.411Z"
   },
   {
    "duration": 28,
    "start_time": "2023-02-02T11:08:56.424Z"
   },
   {
    "duration": 29,
    "start_time": "2023-02-02T11:08:56.454Z"
   },
   {
    "duration": 15,
    "start_time": "2023-02-02T11:08:56.484Z"
   },
   {
    "duration": 67,
    "start_time": "2023-02-03T07:34:33.817Z"
   },
   {
    "duration": 6,
    "start_time": "2023-02-03T07:34:38.304Z"
   },
   {
    "duration": 1234,
    "start_time": "2023-02-03T07:34:46.062Z"
   },
   {
    "duration": 187,
    "start_time": "2023-02-03T07:34:47.298Z"
   },
   {
    "duration": 25,
    "start_time": "2023-02-03T07:34:47.487Z"
   },
   {
    "duration": 4,
    "start_time": "2023-02-03T07:34:47.514Z"
   },
   {
    "duration": 34,
    "start_time": "2023-02-03T07:34:47.520Z"
   },
   {
    "duration": 17,
    "start_time": "2023-02-03T07:34:47.556Z"
   },
   {
    "duration": 43,
    "start_time": "2023-02-03T07:34:47.575Z"
   },
   {
    "duration": 11,
    "start_time": "2023-02-03T07:34:47.620Z"
   },
   {
    "duration": 116,
    "start_time": "2023-02-03T07:34:47.634Z"
   },
   {
    "duration": 0,
    "start_time": "2023-02-03T07:34:47.752Z"
   },
   {
    "duration": 0,
    "start_time": "2023-02-03T07:34:47.754Z"
   },
   {
    "duration": 0,
    "start_time": "2023-02-03T07:34:47.755Z"
   },
   {
    "duration": 0,
    "start_time": "2023-02-03T07:34:47.757Z"
   },
   {
    "duration": 0,
    "start_time": "2023-02-03T07:34:47.758Z"
   },
   {
    "duration": 0,
    "start_time": "2023-02-03T07:34:47.760Z"
   },
   {
    "duration": 0,
    "start_time": "2023-02-03T07:34:47.761Z"
   },
   {
    "duration": 0,
    "start_time": "2023-02-03T07:34:47.763Z"
   },
   {
    "duration": 0,
    "start_time": "2023-02-03T07:34:47.764Z"
   },
   {
    "duration": 0,
    "start_time": "2023-02-03T07:34:47.766Z"
   },
   {
    "duration": 0,
    "start_time": "2023-02-03T07:34:47.768Z"
   },
   {
    "duration": 0,
    "start_time": "2023-02-03T07:34:47.769Z"
   },
   {
    "duration": 0,
    "start_time": "2023-02-03T07:34:47.770Z"
   },
   {
    "duration": 0,
    "start_time": "2023-02-03T07:34:47.771Z"
   },
   {
    "duration": 0,
    "start_time": "2023-02-03T07:34:47.804Z"
   },
   {
    "duration": 0,
    "start_time": "2023-02-03T07:34:47.806Z"
   },
   {
    "duration": 0,
    "start_time": "2023-02-03T07:34:47.807Z"
   },
   {
    "duration": 0,
    "start_time": "2023-02-03T07:34:47.809Z"
   },
   {
    "duration": 0,
    "start_time": "2023-02-03T07:34:47.810Z"
   },
   {
    "duration": 0,
    "start_time": "2023-02-03T07:34:47.812Z"
   },
   {
    "duration": 0,
    "start_time": "2023-02-03T07:34:47.815Z"
   },
   {
    "duration": 0,
    "start_time": "2023-02-03T07:34:47.816Z"
   },
   {
    "duration": 0,
    "start_time": "2023-02-03T07:34:47.817Z"
   },
   {
    "duration": 4,
    "start_time": "2023-02-03T07:35:07.713Z"
   },
   {
    "duration": 1115,
    "start_time": "2023-02-03T07:35:14.654Z"
   },
   {
    "duration": 69,
    "start_time": "2023-02-03T07:35:15.772Z"
   },
   {
    "duration": 21,
    "start_time": "2023-02-03T07:35:15.843Z"
   },
   {
    "duration": 3,
    "start_time": "2023-02-03T07:35:15.867Z"
   },
   {
    "duration": 26,
    "start_time": "2023-02-03T07:35:15.871Z"
   },
   {
    "duration": 14,
    "start_time": "2023-02-03T07:35:15.899Z"
   },
   {
    "duration": 23,
    "start_time": "2023-02-03T07:35:15.915Z"
   },
   {
    "duration": 3,
    "start_time": "2023-02-03T07:35:15.940Z"
   },
   {
    "duration": 10,
    "start_time": "2023-02-03T07:35:15.945Z"
   },
   {
    "duration": 14,
    "start_time": "2023-02-03T07:35:15.957Z"
   },
   {
    "duration": 32,
    "start_time": "2023-02-03T07:35:15.973Z"
   },
   {
    "duration": 317,
    "start_time": "2023-02-03T07:35:16.008Z"
   },
   {
    "duration": 307,
    "start_time": "2023-02-03T07:35:16.327Z"
   },
   {
    "duration": 230,
    "start_time": "2023-02-03T07:35:16.636Z"
   },
   {
    "duration": 13,
    "start_time": "2023-02-03T07:35:16.867Z"
   },
   {
    "duration": 357,
    "start_time": "2023-02-03T07:35:16.881Z"
   },
   {
    "duration": 216,
    "start_time": "2023-02-03T07:35:17.241Z"
   },
   {
    "duration": 314,
    "start_time": "2023-02-03T07:35:17.458Z"
   },
   {
    "duration": 13,
    "start_time": "2023-02-03T07:35:17.773Z"
   },
   {
    "duration": 166,
    "start_time": "2023-02-03T07:35:17.788Z"
   },
   {
    "duration": 4,
    "start_time": "2023-02-03T07:35:17.956Z"
   },
   {
    "duration": 6,
    "start_time": "2023-02-03T07:35:17.962Z"
   },
   {
    "duration": 184,
    "start_time": "2023-02-03T07:35:17.970Z"
   },
   {
    "duration": 5,
    "start_time": "2023-02-03T07:35:18.156Z"
   },
   {
    "duration": 281,
    "start_time": "2023-02-03T07:35:18.163Z"
   },
   {
    "duration": 143,
    "start_time": "2023-02-03T07:35:18.446Z"
   },
   {
    "duration": 14,
    "start_time": "2023-02-03T07:35:18.590Z"
   },
   {
    "duration": 35,
    "start_time": "2023-02-03T07:35:18.608Z"
   },
   {
    "duration": 12,
    "start_time": "2023-02-03T07:35:18.645Z"
   },
   {
    "duration": 19,
    "start_time": "2023-02-03T07:35:18.659Z"
   },
   {
    "duration": 52,
    "start_time": "2023-02-03T07:35:18.680Z"
   },
   {
    "duration": 19,
    "start_time": "2023-02-03T07:35:18.733Z"
   },
   {
    "duration": 4,
    "start_time": "2023-02-03T07:35:47.645Z"
   },
   {
    "duration": 5,
    "start_time": "2023-02-03T07:36:13.020Z"
   },
   {
    "duration": 6,
    "start_time": "2023-02-03T07:38:09.091Z"
   },
   {
    "duration": 109,
    "start_time": "2023-02-03T07:38:45.022Z"
   },
   {
    "duration": 8,
    "start_time": "2023-02-03T07:38:51.036Z"
   },
   {
    "duration": 11,
    "start_time": "2023-02-03T07:39:51.875Z"
   },
   {
    "duration": 9,
    "start_time": "2023-02-03T07:40:05.886Z"
   },
   {
    "duration": 11,
    "start_time": "2023-02-03T07:42:30.253Z"
   },
   {
    "duration": 9,
    "start_time": "2023-02-03T07:43:32.018Z"
   },
   {
    "duration": 10,
    "start_time": "2023-02-03T07:44:12.238Z"
   },
   {
    "duration": 9,
    "start_time": "2023-02-03T07:44:18.310Z"
   },
   {
    "duration": 805,
    "start_time": "2023-02-03T08:05:03.200Z"
   },
   {
    "duration": 13,
    "start_time": "2023-02-03T08:05:16.904Z"
   },
   {
    "duration": 8,
    "start_time": "2023-02-03T08:05:42.195Z"
   },
   {
    "duration": 15,
    "start_time": "2023-02-03T08:19:57.988Z"
   },
   {
    "duration": 239,
    "start_time": "2023-02-03T08:20:08.725Z"
   },
   {
    "duration": 259,
    "start_time": "2023-02-03T08:23:59.582Z"
   },
   {
    "duration": 17,
    "start_time": "2023-02-03T08:24:12.269Z"
   },
   {
    "duration": 221,
    "start_time": "2023-02-03T08:25:48.739Z"
   },
   {
    "duration": 11,
    "start_time": "2023-02-03T08:40:30.454Z"
   },
   {
    "duration": 8,
    "start_time": "2023-02-03T08:40:47.206Z"
   },
   {
    "duration": 7,
    "start_time": "2023-02-03T08:41:12.042Z"
   },
   {
    "duration": 619,
    "start_time": "2023-02-03T08:46:55.855Z"
   },
   {
    "duration": 143,
    "start_time": "2023-02-03T08:47:04.906Z"
   },
   {
    "duration": 160,
    "start_time": "2023-02-03T08:47:20.444Z"
   },
   {
    "duration": 182,
    "start_time": "2023-02-03T08:48:07.175Z"
   },
   {
    "duration": 182,
    "start_time": "2023-02-03T08:48:15.552Z"
   },
   {
    "duration": 167,
    "start_time": "2023-02-03T08:48:23.025Z"
   },
   {
    "duration": 25,
    "start_time": "2023-02-03T08:56:58.897Z"
   },
   {
    "duration": 19,
    "start_time": "2023-02-03T08:58:30.405Z"
   },
   {
    "duration": 11,
    "start_time": "2023-02-03T08:59:56.090Z"
   },
   {
    "duration": 72,
    "start_time": "2023-02-03T09:04:47.221Z"
   },
   {
    "duration": 16,
    "start_time": "2023-02-03T09:05:44.965Z"
   },
   {
    "duration": 14,
    "start_time": "2023-02-03T09:06:14.574Z"
   },
   {
    "duration": 12,
    "start_time": "2023-02-03T09:06:46.046Z"
   },
   {
    "duration": 33,
    "start_time": "2023-02-03T09:07:05.201Z"
   },
   {
    "duration": 1110,
    "start_time": "2023-02-03T09:25:01.625Z"
   },
   {
    "duration": 69,
    "start_time": "2023-02-03T09:25:02.737Z"
   },
   {
    "duration": 21,
    "start_time": "2023-02-03T09:25:02.807Z"
   },
   {
    "duration": 3,
    "start_time": "2023-02-03T09:25:02.830Z"
   },
   {
    "duration": 26,
    "start_time": "2023-02-03T09:25:02.835Z"
   },
   {
    "duration": 13,
    "start_time": "2023-02-03T09:25:02.862Z"
   },
   {
    "duration": 38,
    "start_time": "2023-02-03T09:25:02.877Z"
   },
   {
    "duration": 4,
    "start_time": "2023-02-03T09:25:02.917Z"
   },
   {
    "duration": 13,
    "start_time": "2023-02-03T09:25:02.923Z"
   },
   {
    "duration": 12,
    "start_time": "2023-02-03T09:25:02.938Z"
   },
   {
    "duration": 12,
    "start_time": "2023-02-03T09:25:02.952Z"
   },
   {
    "duration": 15,
    "start_time": "2023-02-03T09:25:02.966Z"
   },
   {
    "duration": 373,
    "start_time": "2023-02-03T09:25:03.004Z"
   },
   {
    "duration": 13,
    "start_time": "2023-02-03T09:25:03.380Z"
   },
   {
    "duration": 11,
    "start_time": "2023-02-03T09:25:03.395Z"
   },
   {
    "duration": 296,
    "start_time": "2023-02-03T09:25:03.408Z"
   },
   {
    "duration": 7,
    "start_time": "2023-02-03T09:25:03.706Z"
   },
   {
    "duration": 271,
    "start_time": "2023-02-03T09:25:03.715Z"
   },
   {
    "duration": 285,
    "start_time": "2023-02-03T09:25:03.988Z"
   },
   {
    "duration": 16,
    "start_time": "2023-02-03T09:25:04.275Z"
   },
   {
    "duration": 346,
    "start_time": "2023-02-03T09:25:04.293Z"
   },
   {
    "duration": 203,
    "start_time": "2023-02-03T09:25:04.641Z"
   },
   {
    "duration": 296,
    "start_time": "2023-02-03T09:25:04.846Z"
   },
   {
    "duration": 14,
    "start_time": "2023-02-03T09:25:05.144Z"
   },
   {
    "duration": 179,
    "start_time": "2023-02-03T09:25:05.160Z"
   },
   {
    "duration": 6,
    "start_time": "2023-02-03T09:25:05.341Z"
   },
   {
    "duration": 9,
    "start_time": "2023-02-03T09:25:05.349Z"
   },
   {
    "duration": 180,
    "start_time": "2023-02-03T09:25:05.360Z"
   },
   {
    "duration": 241,
    "start_time": "2023-02-03T09:25:05.541Z"
   },
   {
    "duration": 5,
    "start_time": "2023-02-03T09:25:05.783Z"
   },
   {
    "duration": 233,
    "start_time": "2023-02-03T09:25:05.790Z"
   },
   {
    "duration": 147,
    "start_time": "2023-02-03T09:25:06.024Z"
   },
   {
    "duration": 8,
    "start_time": "2023-02-03T09:25:06.173Z"
   },
   {
    "duration": 40,
    "start_time": "2023-02-03T09:25:06.182Z"
   },
   {
    "duration": 12,
    "start_time": "2023-02-03T09:25:06.224Z"
   },
   {
    "duration": 19,
    "start_time": "2023-02-03T09:25:06.238Z"
   },
   {
    "duration": 48,
    "start_time": "2023-02-03T09:25:06.258Z"
   },
   {
    "duration": 15,
    "start_time": "2023-02-03T09:25:06.308Z"
   },
   {
    "duration": 1116,
    "start_time": "2023-02-03T09:41:20.649Z"
   },
   {
    "duration": 68,
    "start_time": "2023-02-03T09:41:21.768Z"
   },
   {
    "duration": 29,
    "start_time": "2023-02-03T09:41:21.838Z"
   },
   {
    "duration": 4,
    "start_time": "2023-02-03T09:41:21.870Z"
   },
   {
    "duration": 27,
    "start_time": "2023-02-03T09:41:21.875Z"
   },
   {
    "duration": 14,
    "start_time": "2023-02-03T09:41:21.903Z"
   },
   {
    "duration": 21,
    "start_time": "2023-02-03T09:41:21.918Z"
   },
   {
    "duration": 8,
    "start_time": "2023-02-03T09:41:21.941Z"
   },
   {
    "duration": 9,
    "start_time": "2023-02-03T09:41:21.950Z"
   },
   {
    "duration": 40,
    "start_time": "2023-02-03T09:41:21.963Z"
   },
   {
    "duration": 13,
    "start_time": "2023-02-03T09:41:22.005Z"
   },
   {
    "duration": 9,
    "start_time": "2023-02-03T09:41:22.020Z"
   },
   {
    "duration": 382,
    "start_time": "2023-02-03T09:41:22.031Z"
   },
   {
    "duration": 13,
    "start_time": "2023-02-03T09:41:22.414Z"
   },
   {
    "duration": 12,
    "start_time": "2023-02-03T09:41:22.428Z"
   },
   {
    "duration": 301,
    "start_time": "2023-02-03T09:41:22.442Z"
   },
   {
    "duration": 7,
    "start_time": "2023-02-03T09:41:22.745Z"
   },
   {
    "duration": 244,
    "start_time": "2023-02-03T09:41:22.753Z"
   },
   {
    "duration": 242,
    "start_time": "2023-02-03T09:41:22.999Z"
   },
   {
    "duration": 14,
    "start_time": "2023-02-03T09:41:23.243Z"
   },
   {
    "duration": 362,
    "start_time": "2023-02-03T09:41:23.258Z"
   },
   {
    "duration": 211,
    "start_time": "2023-02-03T09:41:23.622Z"
   },
   {
    "duration": 333,
    "start_time": "2023-02-03T09:41:23.835Z"
   },
   {
    "duration": 14,
    "start_time": "2023-02-03T09:41:24.171Z"
   },
   {
    "duration": 199,
    "start_time": "2023-02-03T09:41:24.187Z"
   },
   {
    "duration": 6,
    "start_time": "2023-02-03T09:41:24.387Z"
   },
   {
    "duration": 5,
    "start_time": "2023-02-03T09:41:24.404Z"
   },
   {
    "duration": 187,
    "start_time": "2023-02-03T09:41:24.413Z"
   },
   {
    "duration": 261,
    "start_time": "2023-02-03T09:41:24.602Z"
   },
   {
    "duration": 6,
    "start_time": "2023-02-03T09:41:24.866Z"
   },
   {
    "duration": 256,
    "start_time": "2023-02-03T09:41:24.874Z"
   },
   {
    "duration": 156,
    "start_time": "2023-02-03T09:41:25.131Z"
   },
   {
    "duration": 15,
    "start_time": "2023-02-03T09:41:25.289Z"
   },
   {
    "duration": 24,
    "start_time": "2023-02-03T09:41:25.306Z"
   },
   {
    "duration": 13,
    "start_time": "2023-02-03T09:41:25.331Z"
   },
   {
    "duration": 19,
    "start_time": "2023-02-03T09:41:25.346Z"
   },
   {
    "duration": 58,
    "start_time": "2023-02-03T09:41:25.367Z"
   },
   {
    "duration": 17,
    "start_time": "2023-02-03T09:41:25.427Z"
   }
  ],
  "kernelspec": {
   "display_name": "Python 3 (ipykernel)",
   "language": "python",
   "name": "python3"
  },
  "language_info": {
   "codemirror_mode": {
    "name": "ipython",
    "version": 3
   },
   "file_extension": ".py",
   "mimetype": "text/x-python",
   "name": "python",
   "nbconvert_exporter": "python",
   "pygments_lexer": "ipython3",
   "version": "3.9.13"
  },
  "toc": {
   "base_numbering": 1,
   "nav_menu": {},
   "number_sections": true,
   "sideBar": true,
   "skip_h1_title": true,
   "title_cell": "Table of Contents",
   "title_sidebar": "Contents",
   "toc_cell": false,
   "toc_position": {
    "height": "calc(100% - 180px)",
    "left": "10px",
    "top": "150px",
    "width": "366.188px"
   },
   "toc_section_display": true,
   "toc_window_display": false
  }
 },
 "nbformat": 4,
 "nbformat_minor": 2
}
