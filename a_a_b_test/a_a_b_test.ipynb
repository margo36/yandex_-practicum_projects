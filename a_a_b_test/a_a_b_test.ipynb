{
 "cells": [
  {
   "cell_type": "markdown",
   "id": "6758ea24",
   "metadata": {},
   "source": [
    "# Анализ пользовательского поведения в мобильном приложении"
   ]
  },
  {
   "cell_type": "markdown",
   "id": "2edca8f3",
   "metadata": {},
   "source": [
    "## Шаг 1. Общая информация о датафрейме"
   ]
  },
  {
   "cell_type": "code",
   "execution_count": 1,
   "id": "2ba1e190",
   "metadata": {},
   "outputs": [],
   "source": [
    "# импортирую библиотеки\n",
    "import pandas as pd\n",
    "from datetime import datetime\n",
    "import matplotlib.pyplot as plt\n",
    "import numpy as np\n",
    "from scipy import stats as st\n",
    "import math as mth"
   ]
  },
  {
   "cell_type": "code",
   "execution_count": 3,
   "id": "58ff3194",
   "metadata": {
    "scrolled": false
   },
   "outputs": [
    {
     "data": {
      "text/html": [
       "<div>\n",
       "<style scoped>\n",
       "    .dataframe tbody tr th:only-of-type {\n",
       "        vertical-align: middle;\n",
       "    }\n",
       "\n",
       "    .dataframe tbody tr th {\n",
       "        vertical-align: top;\n",
       "    }\n",
       "\n",
       "    .dataframe thead th {\n",
       "        text-align: right;\n",
       "    }\n",
       "</style>\n",
       "<table border=\"1\" class=\"dataframe\">\n",
       "  <thead>\n",
       "    <tr style=\"text-align: right;\">\n",
       "      <th></th>\n",
       "      <th>EventName</th>\n",
       "      <th>DeviceIDHash</th>\n",
       "      <th>EventTimestamp</th>\n",
       "      <th>ExpId</th>\n",
       "    </tr>\n",
       "  </thead>\n",
       "  <tbody>\n",
       "    <tr>\n",
       "      <th>0</th>\n",
       "      <td>MainScreenAppear</td>\n",
       "      <td>4575588528974610257</td>\n",
       "      <td>1564029816</td>\n",
       "      <td>246</td>\n",
       "    </tr>\n",
       "    <tr>\n",
       "      <th>1</th>\n",
       "      <td>MainScreenAppear</td>\n",
       "      <td>7416695313311560658</td>\n",
       "      <td>1564053102</td>\n",
       "      <td>246</td>\n",
       "    </tr>\n",
       "    <tr>\n",
       "      <th>2</th>\n",
       "      <td>PaymentScreenSuccessful</td>\n",
       "      <td>3518123091307005509</td>\n",
       "      <td>1564054127</td>\n",
       "      <td>248</td>\n",
       "    </tr>\n",
       "    <tr>\n",
       "      <th>3</th>\n",
       "      <td>CartScreenAppear</td>\n",
       "      <td>3518123091307005509</td>\n",
       "      <td>1564054127</td>\n",
       "      <td>248</td>\n",
       "    </tr>\n",
       "    <tr>\n",
       "      <th>4</th>\n",
       "      <td>PaymentScreenSuccessful</td>\n",
       "      <td>6217807653094995999</td>\n",
       "      <td>1564055322</td>\n",
       "      <td>248</td>\n",
       "    </tr>\n",
       "  </tbody>\n",
       "</table>\n",
       "</div>"
      ],
      "text/plain": [
       "                 EventName         DeviceIDHash  EventTimestamp  ExpId\n",
       "0         MainScreenAppear  4575588528974610257      1564029816    246\n",
       "1         MainScreenAppear  7416695313311560658      1564053102    246\n",
       "2  PaymentScreenSuccessful  3518123091307005509      1564054127    248\n",
       "3         CartScreenAppear  3518123091307005509      1564054127    248\n",
       "4  PaymentScreenSuccessful  6217807653094995999      1564055322    248"
      ]
     },
     "metadata": {},
     "output_type": "display_data"
    },
    {
     "name": "stdout",
     "output_type": "stream",
     "text": [
      "<class 'pandas.core.frame.DataFrame'>\n",
      "RangeIndex: 244126 entries, 0 to 244125\n",
      "Data columns (total 4 columns):\n",
      " #   Column          Non-Null Count   Dtype \n",
      "---  ------          --------------   ----- \n",
      " 0   EventName       244126 non-null  object\n",
      " 1   DeviceIDHash    244126 non-null  int64 \n",
      " 2   EventTimestamp  244126 non-null  int64 \n",
      " 3   ExpId           244126 non-null  int64 \n",
      "dtypes: int64(3), object(1)\n",
      "memory usage: 7.5+ MB\n"
     ]
    }
   ],
   "source": [
    "# вывожу на экран первые 5 строк для ознакомления\n",
    "display(df.head())\n",
    "\n",
    "# изучаю информацию о датафрейме\n",
    "df.info()"
   ]
  },
  {
   "cell_type": "markdown",
   "id": "6ce85cee",
   "metadata": {},
   "source": [
    "**Изучив полученную информацию можно сказать следующее:**\n",
    "\n",
    "- Наименования столбцов не соответствуют стилю кода. Необходимо привести их к нижнему регистру и заменить названия столбцов на удобные.\n",
    "- Данные столбца `EventTimestamp` необходимо преобразовать в нужный тип для работы со временем.\n",
    "- Пропущенных значений нет."
   ]
  },
  {
   "cell_type": "markdown",
   "id": "4c1a719f",
   "metadata": {},
   "source": [
    "## Шаг 2. Подготовка данных для дальнейшего анализа"
   ]
  },
  {
   "cell_type": "markdown",
   "id": "31012e24",
   "metadata": {},
   "source": [
    "Переименую столбцы и переведу дату в необходимый тип. Также добавлю отдельный столбец дат."
   ]
  },
  {
   "cell_type": "code",
   "execution_count": 4,
   "id": "44322945",
   "metadata": {},
   "outputs": [],
   "source": [
    "# заменяю наименования столбцов\n",
    "df = df.rename(columns={'EventName':'event_name', 'DeviceIDHash':'user_id', 'EventTimestamp':'event_time', 'ExpId':'group'})\n",
    "\n",
    "# преобразовываю данные о времени в необходимый для работы тип\n",
    "df['event_time'] = pd.to_datetime(df['event_time'], unit='s')\n",
    "\n",
    "# добавлю столбец с датой\n",
    "df['date'] = df['event_time'].dt.date.astype('datetime64')"
   ]
  },
  {
   "cell_type": "markdown",
   "id": "20217887",
   "metadata": {},
   "source": [
    "Для удобства проведения А/В теста переименую контрольные группы  246 и 247 в `А1` и `A2` соответственно, а экспериментальную группу 248 в `В`."
   ]
  },
  {
   "cell_type": "code",
   "execution_count": 5,
   "id": "c6c1e79c",
   "metadata": {},
   "outputs": [],
   "source": [
    "# обозначила контрольные и экспериментальную группы\n",
    "df['group'] = df['group'].replace(246, 'A1')\n",
    "df['group'] = df['group'].replace(247, 'A2')\n",
    "df['group'] = df['group'].replace(248, 'B')"
   ]
  },
  {
   "cell_type": "code",
   "execution_count": 6,
   "id": "240d0e2e",
   "metadata": {},
   "outputs": [
    {
     "data": {
      "text/plain": [
       "413"
      ]
     },
     "execution_count": 6,
     "metadata": {},
     "output_type": "execute_result"
    }
   ],
   "source": [
    "# проверяю на наличие явных дубликатов\n",
    "df.duplicated().sum()"
   ]
  },
  {
   "cell_type": "markdown",
   "id": "26052e84",
   "metadata": {},
   "source": [
    "В данных найдены явные дубликаты и их 413 штук. Приняла решение их удалить."
   ]
  },
  {
   "cell_type": "code",
   "execution_count": 7,
   "id": "81cc1184",
   "metadata": {
    "scrolled": true
   },
   "outputs": [
    {
     "data": {
      "text/plain": [
       "0"
      ]
     },
     "execution_count": 7,
     "metadata": {},
     "output_type": "execute_result"
    }
   ],
   "source": [
    "# удалю явные дубликаты и сброшу индексы\n",
    "df = df.drop_duplicates().reset_index(drop = True)\n",
    "df.duplicated().sum()"
   ]
  },
  {
   "cell_type": "markdown",
   "id": "79e9c5c5",
   "metadata": {},
   "source": [
    "На этапе предобработки данных было выполнено:\n",
    "- заменены наименования столбцов\n",
    "- изменены типа данных столбца с датой и временем\n",
    "- переименованы контрольные и экспериментальная группы\n",
    "- удалены явные дубликаты\n",
    "    \n",
    "После удаления явных дупликатов потери данных составили менее 0,17%. Это допустимо и не должно повлиять на корректность итоговых результатов."
   ]
  },
  {
   "cell_type": "code",
   "execution_count": 8,
   "id": "a97b006b",
   "metadata": {},
   "outputs": [
    {
     "data": {
      "text/plain": [
       "group    0\n",
       "dtype: int64"
      ]
     },
     "execution_count": 8,
     "metadata": {},
     "output_type": "execute_result"
    }
   ],
   "source": [
    "# посмотрим не попадают ли какие-то пользователи в разные группы\n",
    "df.groupby('user_id').agg({'group' : 'nunique'}).query('group>1').count()"
   ]
  },
  {
   "cell_type": "markdown",
   "id": "1811d3ae",
   "metadata": {},
   "source": [
    "В наших данных нет пользователей, которые попали в разные группы."
   ]
  },
  {
   "cell_type": "markdown",
   "id": "8b711fbc",
   "metadata": {},
   "source": [
    "## Шаг 3. Изучение и проверка данных"
   ]
  },
  {
   "cell_type": "code",
   "execution_count": 9,
   "id": "c5befb31",
   "metadata": {},
   "outputs": [
    {
     "data": {
      "text/plain": [
       "MainScreenAppear           119101\n",
       "OffersScreenAppear          46808\n",
       "CartScreenAppear            42668\n",
       "PaymentScreenSuccessful     34118\n",
       "Tutorial                     1018\n",
       "Name: event_name, dtype: int64"
      ]
     },
     "execution_count": 9,
     "metadata": {},
     "output_type": "execute_result"
    }
   ],
   "source": [
    "# сколько всего событий в логе\n",
    "events = df['event_name'].count()\n",
    "df['event_name'].value_counts()"
   ]
  },
  {
   "cell_type": "markdown",
   "id": "f20b528d",
   "metadata": {},
   "source": [
    "Всего 5 вариантов событий: \n",
    "- MainScreenAppear - Появление главного экрана\n",
    "- OffersScreenAppear - Появление предложений на экране\n",
    "- CartScreenAppear - Появление экрана корзины\n",
    "- PaymentScreenSuccessful - Экран оплаты\n",
    "- Tutorial - Руководство пользователя"
   ]
  },
  {
   "cell_type": "code",
   "execution_count": 10,
   "id": "a999632a",
   "metadata": {},
   "outputs": [
    {
     "data": {
      "text/plain": [
       "7551"
      ]
     },
     "execution_count": 10,
     "metadata": {},
     "output_type": "execute_result"
    }
   ],
   "source": [
    "# сколько всего пользователей в логе\n",
    "users = df['user_id'].nunique()\n",
    "users"
   ]
  },
  {
   "cell_type": "markdown",
   "id": "6a245364",
   "metadata": {},
   "source": [
    "Всего 7551 уникальных пользователей."
   ]
  },
  {
   "cell_type": "code",
   "execution_count": 11,
   "id": "a4a578c6",
   "metadata": {
    "scrolled": true
   },
   "outputs": [
    {
     "data": {
      "text/plain": [
       "32"
      ]
     },
     "execution_count": 11,
     "metadata": {},
     "output_type": "execute_result"
    }
   ],
   "source": [
    "# сколько в среднем событий приходится на пользователя\n",
    "round(events / users)"
   ]
  },
  {
   "cell_type": "markdown",
   "id": "973944ce",
   "metadata": {},
   "source": [
    "Примерно 32 события приходится на каждого пользователя."
   ]
  },
  {
   "cell_type": "code",
   "execution_count": 12,
   "id": "36cc8777",
   "metadata": {},
   "outputs": [
    {
     "data": {
      "text/plain": [
       "Timestamp('2019-07-25 00:00:00')"
      ]
     },
     "metadata": {},
     "output_type": "display_data"
    },
    {
     "data": {
      "text/plain": [
       "Timestamp('2019-08-07 00:00:00')"
      ]
     },
     "execution_count": 12,
     "metadata": {},
     "output_type": "execute_result"
    }
   ],
   "source": [
    "# посмотрю за какой период данными я располагаю\n",
    "display(df['date'].min())\n",
    "df['date'].max()"
   ]
  },
  {
   "cell_type": "markdown",
   "id": "3f73c119",
   "metadata": {},
   "source": [
    "В датафрейме у нас данные за период с 25 июля 2019 по 7 августа 2019 года."
   ]
  },
  {
   "cell_type": "code",
   "execution_count": 13,
   "id": "ac1f1780",
   "metadata": {},
   "outputs": [
    {
     "data": {
      "image/png": "[encoded data removed]",
      "text/plain": [
       "<Figure size 720x360 with 1 Axes>"
      ]
     },
     "metadata": {
      "needs_background": "light"
     },
     "output_type": "display_data"
    }
   ],
   "source": [
    "#построю гистограмму по дате\n",
    "plt.figure(figsize=(10,5))\n",
    "plt.hist(df['event_time'])\n",
    "plt.title('Гистограмма распределения событий по дете')\n",
    "plt.xlabel('Дата')\n",
    "plt.ylabel('Количество событий')\n",
    "plt.xticks(rotation=90)\n",
    "plt.grid()\n",
    "plt.show()"
   ]
  },
  {
   "cell_type": "code",
   "execution_count": 14,
   "id": "dbc877e6",
   "metadata": {},
   "outputs": [
    {
     "data": {
      "image/png": "[encoded data removed]",
      "text/plain": [
       "<Figure size 1008x360 with 1 Axes>"
      ]
     },
     "metadata": {
      "needs_background": "light"
     },
     "output_type": "display_data"
    }
   ],
   "source": [
    "# код ревьюера\n",
    "df['event_time'].hist(bins=14*24, figsize=(14, 5));"
   ]
  },
  {
   "cell_type": "markdown",
   "id": "a52a6ee6",
   "metadata": {},
   "source": [
    "По гистограмее отчетливо видно, что у нас не полные данные. До 1 августа 2019 года их практически нет. Далее следует резкое увеличение активности пользователей в мобильном приложении. Чтобы наши данные не перекасило, для дальнейшего анализа буду использовать период 01.08.2019 - 07.08.2019. Именно за этот период я распологаю полными данными."
   ]
  },
  {
   "cell_type": "code",
   "execution_count": 15,
   "id": "be471480",
   "metadata": {},
   "outputs": [],
   "source": [
    "# сделаю срез данных за актуальный период\n",
    "df = df.query('date >= \"2019-08-01\"').reset_index(drop=True)"
   ]
  },
  {
   "cell_type": "code",
   "execution_count": 16,
   "id": "68fb8303",
   "metadata": {},
   "outputs": [
    {
     "data": {
      "text/plain": [
       "Timestamp('2019-08-01 00:00:00')"
      ]
     },
     "execution_count": 16,
     "metadata": {},
     "output_type": "execute_result"
    }
   ],
   "source": [
    "# проверю дату начала периода\n",
    "df['date'].min()"
   ]
  },
  {
   "cell_type": "markdown",
   "id": "f2845890",
   "metadata": {},
   "source": [
    "Посмотрю, много ли событий и пользователей я потеряла, отбросив старые данные."
   ]
  },
  {
   "cell_type": "code",
   "execution_count": 17,
   "id": "e9bf04cb",
   "metadata": {},
   "outputs": [
    {
     "data": {
      "text/plain": [
       "0.23"
      ]
     },
     "execution_count": 17,
     "metadata": {},
     "output_type": "execute_result"
    }
   ],
   "source": [
    "# узнаю, сколько пользователей я потеряла\n",
    "round((users - df['user_id'].nunique()) / users * 100, 2)"
   ]
  },
  {
   "cell_type": "code",
   "execution_count": 18,
   "id": "54c85c9b",
   "metadata": {},
   "outputs": [
    {
     "data": {
      "text/plain": [
       "1.16"
      ]
     },
     "execution_count": 18,
     "metadata": {},
     "output_type": "execute_result"
    }
   ],
   "source": [
    "# узнаю, сколько событий я потеряла\n",
    "round((events - df['event_name'].count()) / events * 100, 2)"
   ]
  },
  {
   "cell_type": "markdown",
   "id": "e43060ab",
   "metadata": {},
   "source": [
    "Потеря пользователей составила 0.23%, а потеря событий 1.16%. Это вполне допустимо."
   ]
  },
  {
   "cell_type": "code",
   "execution_count": 19,
   "id": "4d2a1ca1",
   "metadata": {},
   "outputs": [
    {
     "data": {
      "text/plain": [
       "group\n",
       "A1    2484\n",
       "A2    2513\n",
       "B     2537\n",
       "Name: user_id, dtype: int64"
      ]
     },
     "execution_count": 19,
     "metadata": {},
     "output_type": "execute_result"
    }
   ],
   "source": [
    "# проверю, что у меня есть пользователи из всех трёх экспериментальных групп\n",
    "df.groupby('group')['user_id'].nunique()"
   ]
  },
  {
   "cell_type": "markdown",
   "id": "440caae8",
   "metadata": {},
   "source": [
    "Во всех трех группах почти одинаковое количество пользователей - примерно по 2500."
   ]
  },
  {
   "cell_type": "markdown",
   "id": "ebf137d2",
   "metadata": {},
   "source": [
    "## Шаг 4. Воронка событий"
   ]
  },
  {
   "cell_type": "code",
   "execution_count": 20,
   "id": "75170c93",
   "metadata": {
    "scrolled": true
   },
   "outputs": [
    {
     "data": {
      "text/plain": [
       "MainScreenAppear           117328\n",
       "OffersScreenAppear          46333\n",
       "CartScreenAppear            42303\n",
       "PaymentScreenSuccessful     33918\n",
       "Tutorial                     1005\n",
       "Name: event_name, dtype: int64"
      ]
     },
     "execution_count": 20,
     "metadata": {},
     "output_type": "execute_result"
    }
   ],
   "source": [
    "# посмотрю, какие события есть в логах, как часто они встречаются. Отсортирую события по частоте.\n",
    "df['event_name'].value_counts()"
   ]
  },
  {
   "cell_type": "markdown",
   "id": "99b9d5e9",
   "metadata": {},
   "source": [
    "- MainScreenAppear - Появление главного экрана\n",
    "- OffersScreenAppear - Появление предложений на экране\n",
    "- CartScreenAppear - Появление экрана корзины\n",
    "- PaymentScreenSuccessful - Экран оплаты\n",
    "- Tutorial - Руководство пользователя"
   ]
  },
  {
   "cell_type": "code",
   "execution_count": 21,
   "id": "3c2a66f0",
   "metadata": {},
   "outputs": [
    {
     "data": {
      "text/html": [
       "<div>\n",
       "<style scoped>\n",
       "    .dataframe tbody tr th:only-of-type {\n",
       "        vertical-align: middle;\n",
       "    }\n",
       "\n",
       "    .dataframe tbody tr th {\n",
       "        vertical-align: top;\n",
       "    }\n",
       "\n",
       "    .dataframe thead th {\n",
       "        text-align: right;\n",
       "    }\n",
       "</style>\n",
       "<table border=\"1\" class=\"dataframe\">\n",
       "  <thead>\n",
       "    <tr style=\"text-align: right;\">\n",
       "      <th></th>\n",
       "      <th>event_name</th>\n",
       "      <th>user_id</th>\n",
       "      <th>all</th>\n",
       "      <th>percent</th>\n",
       "    </tr>\n",
       "  </thead>\n",
       "  <tbody>\n",
       "    <tr>\n",
       "      <th>0</th>\n",
       "      <td>MainScreenAppear</td>\n",
       "      <td>7419</td>\n",
       "      <td>7534</td>\n",
       "      <td>98.47</td>\n",
       "    </tr>\n",
       "    <tr>\n",
       "      <th>1</th>\n",
       "      <td>OffersScreenAppear</td>\n",
       "      <td>4593</td>\n",
       "      <td>7534</td>\n",
       "      <td>60.96</td>\n",
       "    </tr>\n",
       "    <tr>\n",
       "      <th>2</th>\n",
       "      <td>CartScreenAppear</td>\n",
       "      <td>3734</td>\n",
       "      <td>7534</td>\n",
       "      <td>49.56</td>\n",
       "    </tr>\n",
       "    <tr>\n",
       "      <th>3</th>\n",
       "      <td>PaymentScreenSuccessful</td>\n",
       "      <td>3539</td>\n",
       "      <td>7534</td>\n",
       "      <td>46.97</td>\n",
       "    </tr>\n",
       "    <tr>\n",
       "      <th>4</th>\n",
       "      <td>Tutorial</td>\n",
       "      <td>840</td>\n",
       "      <td>7534</td>\n",
       "      <td>11.15</td>\n",
       "    </tr>\n",
       "  </tbody>\n",
       "</table>\n",
       "</div>"
      ],
      "text/plain": [
       "                event_name  user_id   all  percent\n",
       "0         MainScreenAppear     7419  7534    98.47\n",
       "1       OffersScreenAppear     4593  7534    60.96\n",
       "2         CartScreenAppear     3734  7534    49.56\n",
       "3  PaymentScreenSuccessful     3539  7534    46.97\n",
       "4                 Tutorial      840  7534    11.15"
      ]
     },
     "execution_count": 21,
     "metadata": {},
     "output_type": "execute_result"
    }
   ],
   "source": [
    "# посчитайю, сколько пользователей совершали каждое из этих событий\n",
    "pro_users = df.groupby('event_name').agg({'user_id':'nunique'}).sort_values(by='user_id', ascending=False).reset_index()\n",
    "pro_users['all'] = df['user_id'].nunique()\n",
    "# посчитаю долю пользователей, которые хоть раз совершали событие.\n",
    "pro_users['percent'] = ((pro_users['user_id'] / pro_users['all'])*100).round(2)\n",
    "pro_users"
   ]
  },
  {
   "cell_type": "markdown",
   "id": "a5a136dd",
   "metadata": {},
   "source": [
    "Предположу, в каком порядке происходят события. \n",
    "В начеле появляется главный экран `MainScreenAppear`, затем пользователь изучает предложения `OffersScreenAppear`, переходит в корзину `CartScreenAppear` и оплачивает `PaymentScreenSuccessful`. Но последнее событие `Tutorial - Руководство пользователя` не встраивается в последовательную цепочку при расчете воронки. Это событие не будем учитывать.\n",
    "    \n",
    "Также стоит отметить, что почти 40% пользователей мы теряем сразу после просмотра главного экрана, а до оплаты доходят только примернро 47%."
   ]
  },
  {
   "cell_type": "code",
   "execution_count": 22,
   "id": "681c4ac2",
   "metadata": {},
   "outputs": [],
   "source": [
    "# удаляю событие из датафрейма\n",
    "df=df[df['event_name'] != 'Tutorial']"
   ]
  },
  {
   "cell_type": "markdown",
   "id": "fab9fb81",
   "metadata": {},
   "source": [
    "По воронке событий посчитаю, какая доля пользователей проходит на следующий шаг воронки (от числа пользователей на предыдущем). "
   ]
  },
  {
   "cell_type": "code",
   "execution_count": 23,
   "id": "118b4786",
   "metadata": {
    "scrolled": true
   },
   "outputs": [
    {
     "data": {
      "text/html": [
       "<div>\n",
       "<style scoped>\n",
       "    .dataframe tbody tr th:only-of-type {\n",
       "        vertical-align: middle;\n",
       "    }\n",
       "\n",
       "    .dataframe tbody tr th {\n",
       "        vertical-align: top;\n",
       "    }\n",
       "\n",
       "    .dataframe thead th {\n",
       "        text-align: right;\n",
       "    }\n",
       "</style>\n",
       "<table border=\"1\" class=\"dataframe\">\n",
       "  <thead>\n",
       "    <tr style=\"text-align: right;\">\n",
       "      <th></th>\n",
       "      <th>event_name</th>\n",
       "      <th>user_id</th>\n",
       "      <th>all</th>\n",
       "      <th>percent</th>\n",
       "      <th>funnel</th>\n",
       "    </tr>\n",
       "  </thead>\n",
       "  <tbody>\n",
       "    <tr>\n",
       "      <th>0</th>\n",
       "      <td>MainScreenAppear</td>\n",
       "      <td>7419</td>\n",
       "      <td>7534</td>\n",
       "      <td>98.47</td>\n",
       "      <td>100.000000</td>\n",
       "    </tr>\n",
       "    <tr>\n",
       "      <th>1</th>\n",
       "      <td>OffersScreenAppear</td>\n",
       "      <td>4593</td>\n",
       "      <td>7534</td>\n",
       "      <td>60.96</td>\n",
       "      <td>61.908613</td>\n",
       "    </tr>\n",
       "    <tr>\n",
       "      <th>2</th>\n",
       "      <td>CartScreenAppear</td>\n",
       "      <td>3734</td>\n",
       "      <td>7534</td>\n",
       "      <td>49.56</td>\n",
       "      <td>81.297627</td>\n",
       "    </tr>\n",
       "    <tr>\n",
       "      <th>3</th>\n",
       "      <td>PaymentScreenSuccessful</td>\n",
       "      <td>3539</td>\n",
       "      <td>7534</td>\n",
       "      <td>46.97</td>\n",
       "      <td>94.777718</td>\n",
       "    </tr>\n",
       "  </tbody>\n",
       "</table>\n",
       "</div>"
      ],
      "text/plain": [
       "                event_name  user_id   all  percent      funnel\n",
       "0         MainScreenAppear     7419  7534    98.47  100.000000\n",
       "1       OffersScreenAppear     4593  7534    60.96   61.908613\n",
       "2         CartScreenAppear     3734  7534    49.56   81.297627\n",
       "3  PaymentScreenSuccessful     3539  7534    46.97   94.777718"
      ]
     },
     "execution_count": 23,
     "metadata": {},
     "output_type": "execute_result"
    }
   ],
   "source": [
    "for i in pro_users.index:\n",
    "    if i == 0:\n",
    "        pro_users.loc[i, 'funnel'] = 100\n",
    "    else:\n",
    "        pro_users.loc[i, 'funnel'] = (pro_users.loc[i, 'user_id'] /\n",
    "                                       pro_users.loc[i-1, 'user_id'] * 100)\n",
    "pro_users[pro_users['event_name'] != 'Tutorial']"
   ]
  },
  {
   "cell_type": "markdown",
   "id": "479417e5",
   "metadata": {},
   "source": [
    "По воронке событий также отмечаю отток пользователей после просмотра главной страницы. Мы теряем почти 38%. Это достаточно много. Можно предположить, что интерфейс главной страницы неудобен или непонятен для некоторых пользователей. Как вариант - возможно приложение некорректо работает на определенных устройствах. \n",
    "    \n",
    "Если пользователь попал на страницу предложений, то в 81% случаях он переходит в корзину. И оплачивают заказ почти в 95%. Это очень хорошие показатели.\n",
    "    \n",
    "Также стоит отметить, что примерно 47% пользователей доходит от первого события до оплаты."
   ]
  },
  {
   "cell_type": "markdown",
   "id": "2a67629f",
   "metadata": {},
   "source": [
    "## Шаг 5. Результаты эксперимента"
   ]
  },
  {
   "cell_type": "markdown",
   "id": "7da7f960",
   "metadata": {},
   "source": [
    "### Сколько пользователей в каждой экспериментальной группе?"
   ]
  },
  {
   "cell_type": "code",
   "execution_count": 25,
   "id": "f4234705",
   "metadata": {
    "scrolled": true
   },
   "outputs": [
    {
     "data": {
      "text/html": [
       "<div>\n",
       "<style scoped>\n",
       "    .dataframe tbody tr th:only-of-type {\n",
       "        vertical-align: middle;\n",
       "    }\n",
       "\n",
       "    .dataframe tbody tr th {\n",
       "        vertical-align: top;\n",
       "    }\n",
       "\n",
       "    .dataframe thead th {\n",
       "        text-align: right;\n",
       "    }\n",
       "</style>\n",
       "<table border=\"1\" class=\"dataframe\">\n",
       "  <thead>\n",
       "    <tr style=\"text-align: right;\">\n",
       "      <th></th>\n",
       "      <th>group</th>\n",
       "      <th>user_id</th>\n",
       "    </tr>\n",
       "  </thead>\n",
       "  <tbody>\n",
       "    <tr>\n",
       "      <th>0</th>\n",
       "      <td>A1</td>\n",
       "      <td>2483</td>\n",
       "    </tr>\n",
       "    <tr>\n",
       "      <th>1</th>\n",
       "      <td>A2</td>\n",
       "      <td>2512</td>\n",
       "    </tr>\n",
       "    <tr>\n",
       "      <th>2</th>\n",
       "      <td>B</td>\n",
       "      <td>2535</td>\n",
       "    </tr>\n",
       "  </tbody>\n",
       "</table>\n",
       "</div>"
      ],
      "text/plain": [
       "  group  user_id\n",
       "0    A1     2483\n",
       "1    A2     2512\n",
       "2     B     2535"
      ]
     },
     "execution_count": 25,
     "metadata": {},
     "output_type": "execute_result"
    }
   ],
   "source": [
    "# найду количество пользователей в каждой экспериментальной группе\n",
    "users = df.groupby('group')['user_id'].nunique().reset_index()\n",
    "users"
   ]
  },
  {
   "cell_type": "markdown",
   "id": "c3ee987f",
   "metadata": {},
   "source": [
    "В контрольной группе `А2` и экспериментальной группе `В` почти одинаковое количество пользователей - 2512 и 2535 соответственно. Однако в контрольной группе `А1` пользователей меньше."
   ]
  },
  {
   "cell_type": "markdown",
   "id": "3bd33417",
   "metadata": {},
   "source": [
    "### Выберу самое популярное событие. Посчитаю число пользователей, совершивших это событие в каждой из контрольных групп и долю пользователей, совершивших это событие. Проверю, будет ли отличие между группами статистически достоверным. "
   ]
  },
  {
   "cell_type": "code",
   "execution_count": 26,
   "id": "41133f60",
   "metadata": {
    "scrolled": false
   },
   "outputs": [
    {
     "data": {
      "text/html": [
       "<div>\n",
       "<style scoped>\n",
       "    .dataframe tbody tr th:only-of-type {\n",
       "        vertical-align: middle;\n",
       "    }\n",
       "\n",
       "    .dataframe tbody tr th {\n",
       "        vertical-align: top;\n",
       "    }\n",
       "\n",
       "    .dataframe thead th {\n",
       "        text-align: right;\n",
       "    }\n",
       "</style>\n",
       "<table border=\"1\" class=\"dataframe\">\n",
       "  <thead>\n",
       "    <tr style=\"text-align: right;\">\n",
       "      <th></th>\n",
       "      <th>event_name</th>\n",
       "      <th>user_id</th>\n",
       "    </tr>\n",
       "  </thead>\n",
       "  <tbody>\n",
       "    <tr>\n",
       "      <th>0</th>\n",
       "      <td>MainScreenAppear</td>\n",
       "      <td>7419</td>\n",
       "    </tr>\n",
       "    <tr>\n",
       "      <th>1</th>\n",
       "      <td>OffersScreenAppear</td>\n",
       "      <td>4593</td>\n",
       "    </tr>\n",
       "    <tr>\n",
       "      <th>2</th>\n",
       "      <td>CartScreenAppear</td>\n",
       "      <td>3734</td>\n",
       "    </tr>\n",
       "    <tr>\n",
       "      <th>3</th>\n",
       "      <td>PaymentScreenSuccessful</td>\n",
       "      <td>3539</td>\n",
       "    </tr>\n",
       "    <tr>\n",
       "      <th>4</th>\n",
       "      <td>Tutorial</td>\n",
       "      <td>840</td>\n",
       "    </tr>\n",
       "  </tbody>\n",
       "</table>\n",
       "</div>"
      ],
      "text/plain": [
       "                event_name  user_id\n",
       "0         MainScreenAppear     7419\n",
       "1       OffersScreenAppear     4593\n",
       "2         CartScreenAppear     3734\n",
       "3  PaymentScreenSuccessful     3539\n",
       "4                 Tutorial      840"
      ]
     },
     "execution_count": 26,
     "metadata": {},
     "output_type": "execute_result"
    }
   ],
   "source": [
    "# найду самое популярное событие\n",
    "pro_users[['event_name','user_id']]"
   ]
  },
  {
   "cell_type": "markdown",
   "id": "e1fea2ba",
   "metadata": {},
   "source": [
    "Самым популярным событием явлется `MainScreenAppear` - показ основного экрана."
   ]
  },
  {
   "cell_type": "code",
   "execution_count": 27,
   "id": "c3cbc140",
   "metadata": {},
   "outputs": [],
   "source": [
    "# посчитаю число пользователей, совершивших это событие в каждой из контрольных групп\n",
    "# и долю пользователей, совершивших это событие\n",
    "# для удобства выводы информаци напишу функцию\n",
    "\n",
    "def event_users_in_group (event):\n",
    "    data = df[df['event_name'] == event].groupby('group').agg({'user_id': 'nunique'})\n",
    "    data.columns = ['users_event']\n",
    "    data['users_group'] = df.groupby('group').agg({'user_id': 'nunique'})\n",
    "    # добавлю строку с двумя объединенными контрольными группами     \n",
    "    data.loc['A1+A2', 'users_event'] = data.loc['A1', 'users_event'] + data.loc['A2', 'users_event']\n",
    "    data.loc['A1+A2', 'users_group'] = data.loc['A1', 'users_group'] + data.loc['A2', 'users_group']\n",
    "    data['percent'] = ((data['users_event'] / data['users_group']) * 100).round(2)\n",
    "    return data"
   ]
  },
  {
   "cell_type": "code",
   "execution_count": 28,
   "id": "705ff50d",
   "metadata": {
    "scrolled": true
   },
   "outputs": [
    {
     "data": {
      "text/html": [
       "<div>\n",
       "<style scoped>\n",
       "    .dataframe tbody tr th:only-of-type {\n",
       "        vertical-align: middle;\n",
       "    }\n",
       "\n",
       "    .dataframe tbody tr th {\n",
       "        vertical-align: top;\n",
       "    }\n",
       "\n",
       "    .dataframe thead th {\n",
       "        text-align: right;\n",
       "    }\n",
       "</style>\n",
       "<table border=\"1\" class=\"dataframe\">\n",
       "  <thead>\n",
       "    <tr style=\"text-align: right;\">\n",
       "      <th></th>\n",
       "      <th>users_event</th>\n",
       "      <th>users_group</th>\n",
       "      <th>percent</th>\n",
       "    </tr>\n",
       "    <tr>\n",
       "      <th>group</th>\n",
       "      <th></th>\n",
       "      <th></th>\n",
       "      <th></th>\n",
       "    </tr>\n",
       "  </thead>\n",
       "  <tbody>\n",
       "    <tr>\n",
       "      <th>A1</th>\n",
       "      <td>2450.0</td>\n",
       "      <td>2483.0</td>\n",
       "      <td>98.67</td>\n",
       "    </tr>\n",
       "    <tr>\n",
       "      <th>A2</th>\n",
       "      <td>2476.0</td>\n",
       "      <td>2512.0</td>\n",
       "      <td>98.57</td>\n",
       "    </tr>\n",
       "  </tbody>\n",
       "</table>\n",
       "</div>"
      ],
      "text/plain": [
       "       users_event  users_group  percent\n",
       "group                                   \n",
       "A1          2450.0       2483.0    98.67\n",
       "A2          2476.0       2512.0    98.57"
      ]
     },
     "execution_count": 28,
     "metadata": {},
     "output_type": "execute_result"
    }
   ],
   "source": [
    "msa_users = event_users_in_group ('MainScreenAppear')\n",
    "msa_users.query('group != [\"B\", \"A1+A2\"]')"
   ]
  },
  {
   "cell_type": "markdown",
   "id": "ce406c63",
   "metadata": {},
   "source": [
    "Сформулирую гипотезы:\n",
    "\n",
    "- H0: \"Разница между долями участвующих в событии пользователей в группах А1 и А2 статистически незначима\".\n",
    "- H1: \"Разница между долями участвующих в событии пользователей в группах А1 и А2 статистически значима\"."
   ]
  },
  {
   "cell_type": "code",
   "execution_count": 29,
   "id": "ce04feb2",
   "metadata": {},
   "outputs": [],
   "source": [
    "# также напишу функцию для расчета Z-критерия\n",
    "def z_test (results, group_1, group_2):\n",
    "    # пропорция успехов в первой группе:\n",
    "    p1 = results.loc[group_1,'users_event']/results.loc[group_1,'users_group']\n",
    "    # пропорция успехов во второй группе:\n",
    "    p2 = results.loc[group_2,'users_event']/results.loc[group_2,'users_group']\n",
    "    # пропорция успехов в комбинированном датасете:\n",
    "    p_combined = ((results.loc[group_1,'users_event'] + results.loc[group_2,'users_event']) / \n",
    "              (results.loc[group_1,'users_group'] + results.loc[group_2,'users_group']))\n",
    "    # разница пропорций в датасетах\n",
    "    difference = p1 - p2 \n",
    "    # считаю статистику в ст.отклонениях стандартного нормального распределения\n",
    "    z_value = (difference / mth.sqrt(p_combined * (1 - p_combined) * (1/results.loc[group_1,'users_group'] \n",
    "                                                                 + 1/results.loc[group_2,'users_group'])))\n",
    "    # задаю стандартное нормальное распределение (среднее 0, ст.отклонение 1)\n",
    "    distr = st.norm(0, 1)  \n",
    "    p_value = (1 - distr.cdf(abs(z_value))) * 2\n",
    "    print('p-значение: ', p_value)\n",
    "\n",
    "    if p_value < alpha:\n",
    "        print('Отвергаем нулевую гипотезу: между долями есть значимая разница')\n",
    "    else:\n",
    "        print('Не получилось отвергнуть нулевую гипотезу, нет оснований считать доли разными') "
   ]
  },
  {
   "cell_type": "code",
   "execution_count": 30,
   "id": "56d47801",
   "metadata": {
    "scrolled": true
   },
   "outputs": [
    {
     "name": "stdout",
     "output_type": "stream",
     "text": [
      "p-значение:  0.7526703436483038\n",
      "Не получилось отвергнуть нулевую гипотезу, нет оснований считать доли разными\n"
     ]
    }
   ],
   "source": [
    "alpha = 0.01\n",
    "z_test (msa_users, 'A1', 'A2')"
   ]
  },
  {
   "cell_type": "markdown",
   "id": "74799ca2",
   "metadata": {},
   "source": [
    "Проверка гипотезы о равенстве долей показала, что мы не можем отвергнуть нулевую гипотезу (разница между долями участвующих в событии пользователей в группах А1 и А2 статистически незначима), нет оснований считать доли разными."
   ]
  },
  {
   "cell_type": "markdown",
   "id": "0861282c",
   "metadata": {},
   "source": [
    "### Проделаю то же самое для всех других событий."
   ]
  },
  {
   "cell_type": "markdown",
   "id": "2eb1d93e",
   "metadata": {},
   "source": [
    "Сформулирую гипотезы для всех событий:\n",
    "\n",
    "- H0: \"Разница между долями участвующих в событии пользователей в группах А1 и А2 статистически незначима\".\n",
    "- H1: \"Разница между долями участвующих в событии пользователей в группах А1 и А2 статистически значима\"."
   ]
  },
  {
   "cell_type": "markdown",
   "id": "7bff3d4d",
   "metadata": {},
   "source": [
    "#### OffersScreenAppear"
   ]
  },
  {
   "cell_type": "code",
   "execution_count": 31,
   "id": "b8bd11e8",
   "metadata": {},
   "outputs": [
    {
     "data": {
      "text/html": [
       "<div>\n",
       "<style scoped>\n",
       "    .dataframe tbody tr th:only-of-type {\n",
       "        vertical-align: middle;\n",
       "    }\n",
       "\n",
       "    .dataframe tbody tr th {\n",
       "        vertical-align: top;\n",
       "    }\n",
       "\n",
       "    .dataframe thead th {\n",
       "        text-align: right;\n",
       "    }\n",
       "</style>\n",
       "<table border=\"1\" class=\"dataframe\">\n",
       "  <thead>\n",
       "    <tr style=\"text-align: right;\">\n",
       "      <th></th>\n",
       "      <th>users_event</th>\n",
       "      <th>users_group</th>\n",
       "      <th>percent</th>\n",
       "    </tr>\n",
       "    <tr>\n",
       "      <th>group</th>\n",
       "      <th></th>\n",
       "      <th></th>\n",
       "      <th></th>\n",
       "    </tr>\n",
       "  </thead>\n",
       "  <tbody>\n",
       "    <tr>\n",
       "      <th>A1</th>\n",
       "      <td>1542.0</td>\n",
       "      <td>2483.0</td>\n",
       "      <td>62.10</td>\n",
       "    </tr>\n",
       "    <tr>\n",
       "      <th>A2</th>\n",
       "      <td>1520.0</td>\n",
       "      <td>2512.0</td>\n",
       "      <td>60.51</td>\n",
       "    </tr>\n",
       "  </tbody>\n",
       "</table>\n",
       "</div>"
      ],
      "text/plain": [
       "       users_event  users_group  percent\n",
       "group                                   \n",
       "A1          1542.0       2483.0    62.10\n",
       "A2          1520.0       2512.0    60.51"
      ]
     },
     "metadata": {},
     "output_type": "display_data"
    },
    {
     "name": "stdout",
     "output_type": "stream",
     "text": [
      "p-значение:  0.24786096925282264\n",
      "Не получилось отвергнуть нулевую гипотезу, нет оснований считать доли разными\n"
     ]
    }
   ],
   "source": [
    "# посчитаю число пользователей, совершивших это событие в каждой из контрольных групп\n",
    "# и долю пользователей, совершивших это событие\n",
    "osa_users = event_users_in_group ('OffersScreenAppear')\n",
    "display(osa_users.query('group != [\"B\", \"A1+A2\"]'))\n",
    "\n",
    "# провезу z тест для события\n",
    "z_test (osa_users, 'A1', 'A2')"
   ]
  },
  {
   "cell_type": "markdown",
   "id": "13b0911c",
   "metadata": {},
   "source": [
    "##### CartScreenAppear"
   ]
  },
  {
   "cell_type": "code",
   "execution_count": 32,
   "id": "1dfec446",
   "metadata": {},
   "outputs": [
    {
     "data": {
      "text/html": [
       "<div>\n",
       "<style scoped>\n",
       "    .dataframe tbody tr th:only-of-type {\n",
       "        vertical-align: middle;\n",
       "    }\n",
       "\n",
       "    .dataframe tbody tr th {\n",
       "        vertical-align: top;\n",
       "    }\n",
       "\n",
       "    .dataframe thead th {\n",
       "        text-align: right;\n",
       "    }\n",
       "</style>\n",
       "<table border=\"1\" class=\"dataframe\">\n",
       "  <thead>\n",
       "    <tr style=\"text-align: right;\">\n",
       "      <th></th>\n",
       "      <th>users_event</th>\n",
       "      <th>users_group</th>\n",
       "      <th>percent</th>\n",
       "    </tr>\n",
       "    <tr>\n",
       "      <th>group</th>\n",
       "      <th></th>\n",
       "      <th></th>\n",
       "      <th></th>\n",
       "    </tr>\n",
       "  </thead>\n",
       "  <tbody>\n",
       "    <tr>\n",
       "      <th>A1</th>\n",
       "      <td>1266.0</td>\n",
       "      <td>2483.0</td>\n",
       "      <td>50.99</td>\n",
       "    </tr>\n",
       "    <tr>\n",
       "      <th>A2</th>\n",
       "      <td>1238.0</td>\n",
       "      <td>2512.0</td>\n",
       "      <td>49.28</td>\n",
       "    </tr>\n",
       "  </tbody>\n",
       "</table>\n",
       "</div>"
      ],
      "text/plain": [
       "       users_event  users_group  percent\n",
       "group                                   \n",
       "A1          1266.0       2483.0    50.99\n",
       "A2          1238.0       2512.0    49.28"
      ]
     },
     "metadata": {},
     "output_type": "display_data"
    },
    {
     "name": "stdout",
     "output_type": "stream",
     "text": [
      "p-значение:  0.22867643757335676\n",
      "Не получилось отвергнуть нулевую гипотезу, нет оснований считать доли разными\n"
     ]
    }
   ],
   "source": [
    "# посчитаю число пользователей, совершивших это событие в каждой из контрольных групп\n",
    "# и долю пользователей, совершивших это событие\n",
    "csa_users = event_users_in_group ('CartScreenAppear')\n",
    "display(csa_users.query('group != [\"B\", \"A1+A2\"]'))\n",
    "\n",
    "# провезу z тест для события\n",
    "z_test (csa_users, 'A1', 'A2')"
   ]
  },
  {
   "cell_type": "markdown",
   "id": "1f296891",
   "metadata": {},
   "source": [
    "##### PaymentScreenSuccessful"
   ]
  },
  {
   "cell_type": "code",
   "execution_count": 33,
   "id": "e53a54d4",
   "metadata": {},
   "outputs": [
    {
     "data": {
      "text/html": [
       "<div>\n",
       "<style scoped>\n",
       "    .dataframe tbody tr th:only-of-type {\n",
       "        vertical-align: middle;\n",
       "    }\n",
       "\n",
       "    .dataframe tbody tr th {\n",
       "        vertical-align: top;\n",
       "    }\n",
       "\n",
       "    .dataframe thead th {\n",
       "        text-align: right;\n",
       "    }\n",
       "</style>\n",
       "<table border=\"1\" class=\"dataframe\">\n",
       "  <thead>\n",
       "    <tr style=\"text-align: right;\">\n",
       "      <th></th>\n",
       "      <th>users_event</th>\n",
       "      <th>users_group</th>\n",
       "      <th>percent</th>\n",
       "    </tr>\n",
       "    <tr>\n",
       "      <th>group</th>\n",
       "      <th></th>\n",
       "      <th></th>\n",
       "      <th></th>\n",
       "    </tr>\n",
       "  </thead>\n",
       "  <tbody>\n",
       "    <tr>\n",
       "      <th>A1</th>\n",
       "      <td>1200.0</td>\n",
       "      <td>2483.0</td>\n",
       "      <td>48.33</td>\n",
       "    </tr>\n",
       "    <tr>\n",
       "      <th>A2</th>\n",
       "      <td>1158.0</td>\n",
       "      <td>2512.0</td>\n",
       "      <td>46.10</td>\n",
       "    </tr>\n",
       "  </tbody>\n",
       "</table>\n",
       "</div>"
      ],
      "text/plain": [
       "       users_event  users_group  percent\n",
       "group                                   \n",
       "A1          1200.0       2483.0    48.33\n",
       "A2          1158.0       2512.0    46.10"
      ]
     },
     "metadata": {},
     "output_type": "display_data"
    },
    {
     "name": "stdout",
     "output_type": "stream",
     "text": [
      "p-значение:  0.11446627829276612\n",
      "Не получилось отвергнуть нулевую гипотезу, нет оснований считать доли разными\n"
     ]
    }
   ],
   "source": [
    "# посчитаю число пользователей, совершивших это событие в каждой из контрольных групп\n",
    "# и долю пользователей, совершивших это событие\n",
    "pss_users = event_users_in_group ('PaymentScreenSuccessful')\n",
    "display(pss_users.query('group != [\"B\", \"A1+A2\"]'))\n",
    "\n",
    "# провезу z тест для события\n",
    "z_test (pss_users, 'A1', 'A2')"
   ]
  },
  {
   "cell_type": "markdown",
   "id": "13279016",
   "metadata": {},
   "source": [
    "Провела проверку гипотез для каждого события на статистическую значимость разницы между долями участвующих в событии пользователей в группах А1 и А2. Ни на одном этапе проверок не удалось отвергнуть гипотезу о равных долях. \n",
    "    \n",
    "**Итоговый вывод** - нет оснований считать, что разбиение на группы работает некорректно и мы можем быть уверены в точности проведенного тестирования."
   ]
  },
  {
   "cell_type": "markdown",
   "id": "95fa4ea3",
   "metadata": {},
   "source": [
    "### Аналогично поступлю с группой с изменённым шрифтом. Сравню результаты с каждой из контрольных групп в отдельности по каждому событию. Также сравню результаты с объединённой контрольной группой."
   ]
  },
  {
   "cell_type": "markdown",
   "id": "7ee8f8c4",
   "metadata": {},
   "source": [
    "Используя ранее написанную функцию `event_users_in_group` посчитаю число пользователей, совершивших каждое событие в каждой из контрольных групп и долю пользователей, совершивших это событие. "
   ]
  },
  {
   "cell_type": "code",
   "execution_count": 34,
   "id": "440e4d05",
   "metadata": {
    "scrolled": false
   },
   "outputs": [
    {
     "data": {
      "text/html": [
       "<div>\n",
       "<style scoped>\n",
       "    .dataframe tbody tr th:only-of-type {\n",
       "        vertical-align: middle;\n",
       "    }\n",
       "\n",
       "    .dataframe tbody tr th {\n",
       "        vertical-align: top;\n",
       "    }\n",
       "\n",
       "    .dataframe thead th {\n",
       "        text-align: right;\n",
       "    }\n",
       "</style>\n",
       "<table border=\"1\" class=\"dataframe\">\n",
       "  <thead>\n",
       "    <tr style=\"text-align: right;\">\n",
       "      <th></th>\n",
       "      <th>users_event</th>\n",
       "      <th>users_group</th>\n",
       "      <th>percent</th>\n",
       "    </tr>\n",
       "    <tr>\n",
       "      <th>group</th>\n",
       "      <th></th>\n",
       "      <th></th>\n",
       "      <th></th>\n",
       "    </tr>\n",
       "  </thead>\n",
       "  <tbody>\n",
       "    <tr>\n",
       "      <th>A1</th>\n",
       "      <td>2450.0</td>\n",
       "      <td>2483.0</td>\n",
       "      <td>98.67</td>\n",
       "    </tr>\n",
       "    <tr>\n",
       "      <th>A2</th>\n",
       "      <td>2476.0</td>\n",
       "      <td>2512.0</td>\n",
       "      <td>98.57</td>\n",
       "    </tr>\n",
       "    <tr>\n",
       "      <th>B</th>\n",
       "      <td>2493.0</td>\n",
       "      <td>2535.0</td>\n",
       "      <td>98.34</td>\n",
       "    </tr>\n",
       "    <tr>\n",
       "      <th>A1+A2</th>\n",
       "      <td>4926.0</td>\n",
       "      <td>4995.0</td>\n",
       "      <td>98.62</td>\n",
       "    </tr>\n",
       "  </tbody>\n",
       "</table>\n",
       "</div>"
      ],
      "text/plain": [
       "       users_event  users_group  percent\n",
       "group                                   \n",
       "A1          2450.0       2483.0    98.67\n",
       "A2          2476.0       2512.0    98.57\n",
       "B           2493.0       2535.0    98.34\n",
       "A1+A2       4926.0       4995.0    98.62"
      ]
     },
     "execution_count": 34,
     "metadata": {},
     "output_type": "execute_result"
    }
   ],
   "source": [
    "msa_results = event_users_in_group('MainScreenAppear')\n",
    "msa_results"
   ]
  },
  {
   "cell_type": "code",
   "execution_count": 35,
   "id": "9cadfac5",
   "metadata": {},
   "outputs": [
    {
     "data": {
      "text/html": [
       "<div>\n",
       "<style scoped>\n",
       "    .dataframe tbody tr th:only-of-type {\n",
       "        vertical-align: middle;\n",
       "    }\n",
       "\n",
       "    .dataframe tbody tr th {\n",
       "        vertical-align: top;\n",
       "    }\n",
       "\n",
       "    .dataframe thead th {\n",
       "        text-align: right;\n",
       "    }\n",
       "</style>\n",
       "<table border=\"1\" class=\"dataframe\">\n",
       "  <thead>\n",
       "    <tr style=\"text-align: right;\">\n",
       "      <th></th>\n",
       "      <th>users_event</th>\n",
       "      <th>users_group</th>\n",
       "      <th>percent</th>\n",
       "    </tr>\n",
       "    <tr>\n",
       "      <th>group</th>\n",
       "      <th></th>\n",
       "      <th></th>\n",
       "      <th></th>\n",
       "    </tr>\n",
       "  </thead>\n",
       "  <tbody>\n",
       "    <tr>\n",
       "      <th>A1</th>\n",
       "      <td>1542.0</td>\n",
       "      <td>2483.0</td>\n",
       "      <td>62.10</td>\n",
       "    </tr>\n",
       "    <tr>\n",
       "      <th>A2</th>\n",
       "      <td>1520.0</td>\n",
       "      <td>2512.0</td>\n",
       "      <td>60.51</td>\n",
       "    </tr>\n",
       "    <tr>\n",
       "      <th>B</th>\n",
       "      <td>1531.0</td>\n",
       "      <td>2535.0</td>\n",
       "      <td>60.39</td>\n",
       "    </tr>\n",
       "    <tr>\n",
       "      <th>A1+A2</th>\n",
       "      <td>3062.0</td>\n",
       "      <td>4995.0</td>\n",
       "      <td>61.30</td>\n",
       "    </tr>\n",
       "  </tbody>\n",
       "</table>\n",
       "</div>"
      ],
      "text/plain": [
       "       users_event  users_group  percent\n",
       "group                                   \n",
       "A1          1542.0       2483.0    62.10\n",
       "A2          1520.0       2512.0    60.51\n",
       "B           1531.0       2535.0    60.39\n",
       "A1+A2       3062.0       4995.0    61.30"
      ]
     },
     "execution_count": 35,
     "metadata": {},
     "output_type": "execute_result"
    }
   ],
   "source": [
    "osa_results = event_users_in_group('OffersScreenAppear')\n",
    "osa_results"
   ]
  },
  {
   "cell_type": "code",
   "execution_count": 36,
   "id": "d25081b4",
   "metadata": {},
   "outputs": [
    {
     "data": {
      "text/html": [
       "<div>\n",
       "<style scoped>\n",
       "    .dataframe tbody tr th:only-of-type {\n",
       "        vertical-align: middle;\n",
       "    }\n",
       "\n",
       "    .dataframe tbody tr th {\n",
       "        vertical-align: top;\n",
       "    }\n",
       "\n",
       "    .dataframe thead th {\n",
       "        text-align: right;\n",
       "    }\n",
       "</style>\n",
       "<table border=\"1\" class=\"dataframe\">\n",
       "  <thead>\n",
       "    <tr style=\"text-align: right;\">\n",
       "      <th></th>\n",
       "      <th>users_event</th>\n",
       "      <th>users_group</th>\n",
       "      <th>percent</th>\n",
       "    </tr>\n",
       "    <tr>\n",
       "      <th>group</th>\n",
       "      <th></th>\n",
       "      <th></th>\n",
       "      <th></th>\n",
       "    </tr>\n",
       "  </thead>\n",
       "  <tbody>\n",
       "    <tr>\n",
       "      <th>A1</th>\n",
       "      <td>1266.0</td>\n",
       "      <td>2483.0</td>\n",
       "      <td>50.99</td>\n",
       "    </tr>\n",
       "    <tr>\n",
       "      <th>A2</th>\n",
       "      <td>1238.0</td>\n",
       "      <td>2512.0</td>\n",
       "      <td>49.28</td>\n",
       "    </tr>\n",
       "    <tr>\n",
       "      <th>B</th>\n",
       "      <td>1230.0</td>\n",
       "      <td>2535.0</td>\n",
       "      <td>48.52</td>\n",
       "    </tr>\n",
       "    <tr>\n",
       "      <th>A1+A2</th>\n",
       "      <td>2504.0</td>\n",
       "      <td>4995.0</td>\n",
       "      <td>50.13</td>\n",
       "    </tr>\n",
       "  </tbody>\n",
       "</table>\n",
       "</div>"
      ],
      "text/plain": [
       "       users_event  users_group  percent\n",
       "group                                   \n",
       "A1          1266.0       2483.0    50.99\n",
       "A2          1238.0       2512.0    49.28\n",
       "B           1230.0       2535.0    48.52\n",
       "A1+A2       2504.0       4995.0    50.13"
      ]
     },
     "execution_count": 36,
     "metadata": {},
     "output_type": "execute_result"
    }
   ],
   "source": [
    "csa_results = event_users_in_group('CartScreenAppear')\n",
    "csa_results"
   ]
  },
  {
   "cell_type": "code",
   "execution_count": 37,
   "id": "35da24d4",
   "metadata": {
    "scrolled": false
   },
   "outputs": [
    {
     "data": {
      "text/html": [
       "<div>\n",
       "<style scoped>\n",
       "    .dataframe tbody tr th:only-of-type {\n",
       "        vertical-align: middle;\n",
       "    }\n",
       "\n",
       "    .dataframe tbody tr th {\n",
       "        vertical-align: top;\n",
       "    }\n",
       "\n",
       "    .dataframe thead th {\n",
       "        text-align: right;\n",
       "    }\n",
       "</style>\n",
       "<table border=\"1\" class=\"dataframe\">\n",
       "  <thead>\n",
       "    <tr style=\"text-align: right;\">\n",
       "      <th></th>\n",
       "      <th>users_event</th>\n",
       "      <th>users_group</th>\n",
       "      <th>percent</th>\n",
       "    </tr>\n",
       "    <tr>\n",
       "      <th>group</th>\n",
       "      <th></th>\n",
       "      <th></th>\n",
       "      <th></th>\n",
       "    </tr>\n",
       "  </thead>\n",
       "  <tbody>\n",
       "    <tr>\n",
       "      <th>A1</th>\n",
       "      <td>1200.0</td>\n",
       "      <td>2483.0</td>\n",
       "      <td>48.33</td>\n",
       "    </tr>\n",
       "    <tr>\n",
       "      <th>A2</th>\n",
       "      <td>1158.0</td>\n",
       "      <td>2512.0</td>\n",
       "      <td>46.10</td>\n",
       "    </tr>\n",
       "    <tr>\n",
       "      <th>B</th>\n",
       "      <td>1181.0</td>\n",
       "      <td>2535.0</td>\n",
       "      <td>46.59</td>\n",
       "    </tr>\n",
       "    <tr>\n",
       "      <th>A1+A2</th>\n",
       "      <td>2358.0</td>\n",
       "      <td>4995.0</td>\n",
       "      <td>47.21</td>\n",
       "    </tr>\n",
       "  </tbody>\n",
       "</table>\n",
       "</div>"
      ],
      "text/plain": [
       "       users_event  users_group  percent\n",
       "group                                   \n",
       "A1          1200.0       2483.0    48.33\n",
       "A2          1158.0       2512.0    46.10\n",
       "B           1181.0       2535.0    46.59\n",
       "A1+A2       2358.0       4995.0    47.21"
      ]
     },
     "execution_count": 37,
     "metadata": {},
     "output_type": "execute_result"
    }
   ],
   "source": [
    "pss_results = event_users_in_group('PaymentScreenSuccessful')\n",
    "pss_results"
   ]
  },
  {
   "cell_type": "markdown",
   "id": "aed92ab5",
   "metadata": {},
   "source": [
    "Проведу проверку гипотез о статистической значимости разницы между контрольными и экспериментальной группами с помощью функции `z_test`.\n",
    "    \n",
    "Сформулирую гипотезы для всех событий и групп:\n",
    "\n",
    "- H0: \"Разница между долями участвующих в событии пользователей в группах статистически незначима\".\n",
    "- H1: \"Разница между долями участвующих в событии пользователей в группах статистически значима\"."
   ]
  },
  {
   "cell_type": "code",
   "execution_count": 38,
   "id": "ed5cff39",
   "metadata": {
    "scrolled": true
   },
   "outputs": [
    {
     "name": "stdout",
     "output_type": "stream",
     "text": [
      "Проверка стат. значимости по событию MainScreenAppear в группах А1 и В\n",
      "p-значение:  0.3387114076159288\n",
      "Не получилось отвергнуть нулевую гипотезу, нет оснований считать доли разными\n",
      "\n",
      "Проверка стат. значимости по событию OffersScreenAppear в группах А1 и В\n",
      "p-значение:  0.21442476639710506\n",
      "Не получилось отвергнуть нулевую гипотезу, нет оснований считать доли разными\n",
      "\n",
      "Проверка стат. значимости по событию CartScreenAppear в группах А1 и В\n",
      "p-значение:  0.08067367598823139\n",
      "Не получилось отвергнуть нулевую гипотезу, нет оснований считать доли разными\n",
      "\n",
      "Проверка стат. значимости по событию PaymentScreenSuccessful в группах А1 и В\n",
      "p-значение:  0.21693033984516674\n",
      "Не получилось отвергнуть нулевую гипотезу, нет оснований считать доли разными\n"
     ]
    }
   ],
   "source": [
    "# сравнение контрольной группы А1 и экспериментальной группы В\n",
    "print('Проверка стат. значимости по событию MainScreenAppear в группах А1 и В')\n",
    "z_test(msa_results,'A1','B')\n",
    "print('')\n",
    "print('Проверка стат. значимости по событию OffersScreenAppear в группах А1 и В')\n",
    "z_test(osa_results,'A1','B')\n",
    "print('')\n",
    "print('Проверка стат. значимости по событию CartScreenAppear в группах А1 и В')\n",
    "z_test(csa_results,'A1','B')\n",
    "print('')\n",
    "print('Проверка стат. значимости по событию PaymentScreenSuccessful в группах А1 и В')\n",
    "z_test(pss_results,'A1','B')"
   ]
  },
  {
   "cell_type": "code",
   "execution_count": 39,
   "id": "efa6fe0f",
   "metadata": {
    "scrolled": true
   },
   "outputs": [
    {
     "name": "stdout",
     "output_type": "stream",
     "text": [
      "Проверка стат. значимости по событию MainScreenAppear в группах А2 и В\n",
      "p-значение:  0.5194964354051703\n",
      "Не получилось отвергнуть нулевую гипотезу, нет оснований считать доли разными\n",
      "\n",
      "Проверка стат. значимости по событию OffersScreenAppear в группах А2 и В\n",
      "p-значение:  0.9333751305879443\n",
      "Не получилось отвергнуть нулевую гипотезу, нет оснований считать доли разными\n",
      "\n",
      "Проверка стат. значимости по событию CartScreenAppear в группах А2 и В\n",
      "p-значение:  0.5878284605111943\n",
      "Не получилось отвергнуть нулевую гипотезу, нет оснований считать доли разными\n",
      "\n",
      "Проверка стат. значимости по событию PaymentScreenSuccessful в группах А2 и В\n",
      "p-значение:  0.7275718682261119\n",
      "Не получилось отвергнуть нулевую гипотезу, нет оснований считать доли разными\n"
     ]
    }
   ],
   "source": [
    "# сравнение контрольной группы А2 и экспериментальной группы В\n",
    "print('Проверка стат. значимости по событию MainScreenAppear в группах А2 и В')\n",
    "z_test(msa_results,'A2','B')\n",
    "print('')\n",
    "print('Проверка стат. значимости по событию OffersScreenAppear в группах А2 и В')\n",
    "z_test(osa_results,'A2','B')\n",
    "print('')\n",
    "print('Проверка стат. значимости по событию CartScreenAppear в группах А2 и В')\n",
    "z_test(csa_results,'A2','B')\n",
    "print('')\n",
    "print('Проверка стат. значимости по событию PaymentScreenSuccessful в группах А2 и В')\n",
    "z_test(pss_results,'A2','B')"
   ]
  },
  {
   "cell_type": "code",
   "execution_count": 40,
   "id": "b85892bd",
   "metadata": {},
   "outputs": [
    {
     "name": "stdout",
     "output_type": "stream",
     "text": [
      "Проверка стат. значимости по событию MainScreenAppear в группах А1+А2 и В\n",
      "p-значение:  0.3486684291093256\n",
      "Не получилось отвергнуть нулевую гипотезу, нет оснований считать доли разными\n",
      "\n",
      "Проверка стат. значимости по событию OffersScreenAppear в группах А1+А2 и В\n",
      "p-значение:  0.44582745409482394\n",
      "Не получилось отвергнуть нулевую гипотезу, нет оснований считать доли разными\n",
      "\n",
      "Проверка стат. значимости по событию CartScreenAppear в группах А1+А2 и В\n",
      "p-значение:  0.18683558686831558\n",
      "Не получилось отвергнуть нулевую гипотезу, нет оснований считать доли разными\n",
      "\n",
      "Проверка стат. значимости по событию PaymentScreenSuccessful в группах А1+А2 и В\n",
      "p-значение:  0.6107918742187335\n",
      "Не получилось отвергнуть нулевую гипотезу, нет оснований считать доли разными\n"
     ]
    }
   ],
   "source": [
    "# сравнение объединенной контрольной группы А1+А2 и экспериментальной группы В\n",
    "\n",
    "print('Проверка стат. значимости по событию MainScreenAppear в группах А1+А2 и В')\n",
    "z_test(msa_results,'A1+A2','B')\n",
    "print('')\n",
    "print('Проверка стат. значимости по событию OffersScreenAppear в группах А1+А2 и В')\n",
    "z_test(osa_results,'A1+A2','B')\n",
    "print('')\n",
    "print('Проверка стат. значимости по событию CartScreenAppear в группах А1+А2 и В')\n",
    "z_test(csa_results,'A1+A2','B')\n",
    "print('')\n",
    "print('Проверка стат. значимости по событию PaymentScreenSuccessful в группах А1+А2 и В')\n",
    "z_test(pss_results,'A1+A2','B')"
   ]
  },
  {
   "cell_type": "markdown",
   "id": "bc1505f9",
   "metadata": {},
   "source": [
    "Провела 16 проверок гипотез для каждого события на статистическую значимость разницы между долями участвующих в событии пользователей в группах А1, А2, В и объединенной группы А1+А2. Ни на одном этапе проверок не удалось отвергнуть гипотезу о равных долях. \n",
    "    \n",
    "**Итоговый вывод** - нет оснований считать, что разбиение на группы работает некорректно и мы можем быть уверены в точности проведенного тестирования."
   ]
  },
  {
   "cell_type": "markdown",
   "id": "12eed678",
   "metadata": {},
   "source": [
    "Уровень значимости при проверке статистических гипотез выше я выбрала `alpha = 0.01` \n",
    "При уровне значимости 0.1 каждый десятый раз можно получать ложный результат. Поэтому такой уровень значимости применять не стоит."
   ]
  },
  {
   "cell_type": "markdown",
   "id": "174b6f22",
   "metadata": {},
   "source": [
    "При проверке статестических гипотез как правило устанавливают уровень значимости 0.05 или 0.01. В нашем случае предстоит выполнить 16 проверок и так как тест множественный, то с каждой новой проверкой растет вероятность ошибки первого рода - ложнопозитивным результатом статистического теста. Чтобы снизить вероятность ложнопозитивного результата при множественном тестировании гипотез, применяют поправку Бонферрони. Для этого уровень значимоти необходимо поделить на количество тестов. в тшем случае `0.01/16 = 0.000625`. Такой уровень значимости сильно уменьшит мощность теста. А при проверке гипотез не получили позитивных результатов, значит получение ложнопозитивного результата исключено."
   ]
  },
  {
   "cell_type": "markdown",
   "id": "29a2e4c8",
   "metadata": {},
   "source": [
    "# Общий вывод"
   ]
  },
  {
   "cell_type": "markdown",
   "id": "1c0b774e",
   "metadata": {},
   "source": [
    "В результате проведенного исследования можно сделать следующие выводы:\n",
    "\n",
    "- При проведении исследовательского анализа и по гистограмме распреденления событий по дате, отчетливо видно, что у нас не полные данные. До 1 августа 2019 года их практически нет. Далее следует резкое увеличение активности пользователей в мобильном приложении. Чтобы наши данные не перекасило, для дальнейшего анализа буду использовать период 01.08.2019 - 07.08.2019. Именно за этот период я распологаю полными данными.\n",
    "- Также были выявлены явные дубликаты. \n",
    "- После удаления явных дубликатов потеря данных составила менее 0.17%. А при отсекании даты - потеря пользователей составила 0.23%, а потеря событий 1.16%. Это допустимо и не должно повлиять на корректность итоговых результатов.\n",
    "- В логах у нас всего 5 вариантов событий:\n",
    "* `MainScreenAppear` - Появление главного экрана\n",
    "* `OffersScreenAppear` - Появление предложений на экране\n",
    "* `CartScreenAppear` - Появление экрана корзины\n",
    "* `PaymentScreenSuccessful` - Экран оплаты\n",
    "* `Tutorial` - Руководство пользователя\n",
    "- Предположу, что воронка событий выглядит таким образом. В начеле появляется главный экран `MainScreenAppear`, затем пользователь изучает предложения `OffersScreenAppear`, переходит в корзину `CartScreenAppear` и оплачивает `PaymentScreenSuccessful`. Но последнее событие `Tutorial` - Руководство пользователя не встраивается в последовательную цепочку при расчете воронки. Это событие не будем учитывать.\n",
    "- По воронке событий отмечаю отток пользователей после просмотра главной страницы. Мы теряем почти 38%. Это достаточно много. Можно предположить, что интерфейс главной страницы неудобен или непонятен для некоторых пользователей. Как вариант - возможно приложение некорректо работает на определенных устройствах.\n",
    "- Если пользователь попал на страницу предложений, то в 81% случаях он переходит в корзину. И оплачивают заказ почти в 95%. Это очень хорошие показатели.\n",
    "- Также стоит отметить, что примерно 47% пользователей доходит от первого события до оплаты.\n",
    "- В контрольной группе А2 и экспериментальной группе В почти одинаковое количество пользователей - 2512 и 2535 соответственно. Однако в контрольной группе А1 пользователей меньше. Необходимо проверить есть ли статестическая разница между выборками групп А1 и А2. Для этого сформулирую гипотезы:\n",
    "* Нулевая H0: пропорций пользователей у контрольных групп A1 и A2 одинаковые.\n",
    "* Альтернативная H1: пропорций пользователей у контрольных групп А1 и А2 разные.\n",
    "- Проверка гипотезы о равенстве долей показала, что мы не можем отвергнуть нулевую гипотезу (пропорций пользователей у контрольных групп A1 и A2 одинаковые), нет оснований считать доли разными. Раз статистика не находит разницу между контрольными группами, значит распределение пользователей произведено корректно.\n",
    "- Провела 16 проверок гипотез для каждого события на статистическую значимость разницы между долями участвующих в событии пользователей в группах А1, А2, В и объединенной группы А1+А2. Ни на одном этапе проверок не удалось отвергнуть гипотезу о равных долях.\n",
    "\n",
    "**Итоговый вывод - нет оснований считать, что разбиение на группы работает некорректно и мы можем быть уверены в точности проведенного тестирования.** \n",
    "    \n",
    "**И самое главное - изменение шрифта в приложении не повлияло на поведение пользователей мобильного приложения.**\n",
    "    \n",
    "**Рекомендация: 38% пользователей мы теряем на этапе просмотра главного экрана. Можно предположить, что интерфейс главной страницы неудобен или непонятен для некоторых пользователей. Как вариант - возможно приложение некорректо работает на определенных устройствах. Необходимо подумать над этим вопросом**"
   ]
  }
 ],
 "metadata": {
  "ExecuteTimeLog": [
   {
    "duration": 1316,
    "start_time": "2023-02-16T11:16:23.677Z"
   },
   {
    "duration": 569,
    "start_time": "2023-02-16T11:16:24.995Z"
   },
   {
    "duration": 29,
    "start_time": "2023-02-16T11:16:25.566Z"
   },
   {
    "duration": 128,
    "start_time": "2023-02-16T11:16:25.597Z"
   },
   {
    "duration": 33,
    "start_time": "2023-02-16T11:16:25.727Z"
   },
   {
    "duration": 86,
    "start_time": "2023-02-16T11:16:25.761Z"
   },
   {
    "duration": 158,
    "start_time": "2023-02-16T11:16:25.848Z"
   },
   {
    "duration": 37,
    "start_time": "2023-02-16T11:16:26.008Z"
   },
   {
    "duration": 7,
    "start_time": "2023-02-16T11:16:26.047Z"
   },
   {
    "duration": 15,
    "start_time": "2023-02-16T11:16:26.056Z"
   },
   {
    "duration": 20,
    "start_time": "2023-02-16T11:16:26.072Z"
   },
   {
    "duration": 285,
    "start_time": "2023-02-16T11:16:26.093Z"
   },
   {
    "duration": 21,
    "start_time": "2023-02-16T11:16:26.379Z"
   },
   {
    "duration": 19,
    "start_time": "2023-02-16T11:16:26.403Z"
   },
   {
    "duration": 8,
    "start_time": "2023-02-16T11:16:26.423Z"
   },
   {
    "duration": 14,
    "start_time": "2023-02-16T11:16:26.433Z"
   },
   {
    "duration": 43,
    "start_time": "2023-02-16T11:16:26.449Z"
   },
   {
    "duration": 45,
    "start_time": "2023-02-16T11:16:26.494Z"
   },
   {
    "duration": 85,
    "start_time": "2023-02-16T11:16:26.541Z"
   },
   {
    "duration": 20,
    "start_time": "2023-02-16T11:16:26.628Z"
   },
   {
    "duration": 22,
    "start_time": "2023-02-16T11:16:26.649Z"
   },
   {
    "duration": 28,
    "start_time": "2023-02-16T11:16:26.673Z"
   },
   {
    "duration": 61,
    "start_time": "2023-02-16T11:16:26.702Z"
   },
   {
    "duration": 33,
    "start_time": "2023-02-16T11:16:26.765Z"
   },
   {
    "duration": 43,
    "start_time": "2023-02-16T11:16:26.800Z"
   },
   {
    "duration": 3,
    "start_time": "2023-02-16T11:16:26.845Z"
   },
   {
    "duration": 8,
    "start_time": "2023-02-16T11:16:26.849Z"
   },
   {
    "duration": 14,
    "start_time": "2023-02-16T11:16:26.858Z"
   },
   {
    "duration": 22,
    "start_time": "2023-02-16T11:16:26.874Z"
   },
   {
    "duration": 12,
    "start_time": "2023-02-16T11:16:26.898Z"
   },
   {
    "duration": 92,
    "start_time": "2023-02-16T11:16:26.911Z"
   },
   {
    "duration": 6,
    "start_time": "2023-02-16T11:16:27.004Z"
   },
   {
    "duration": 5,
    "start_time": "2023-02-16T11:16:27.020Z"
   },
   {
    "duration": 81,
    "start_time": "2023-02-16T11:16:27.027Z"
   },
   {
    "duration": 84,
    "start_time": "2023-02-16T11:16:27.110Z"
   },
   {
    "duration": 91,
    "start_time": "2023-02-16T11:16:27.196Z"
   },
   {
    "duration": 99,
    "start_time": "2023-02-16T11:16:27.289Z"
   },
   {
    "duration": 82,
    "start_time": "2023-02-16T11:16:27.390Z"
   },
   {
    "duration": 83,
    "start_time": "2023-02-16T11:16:27.474Z"
   },
   {
    "duration": 74,
    "start_time": "2023-02-16T11:16:27.559Z"
   },
   {
    "duration": 11,
    "start_time": "2023-02-16T11:16:27.637Z"
   },
   {
    "duration": 23,
    "start_time": "2023-02-16T11:16:27.650Z"
   },
   {
    "duration": 18,
    "start_time": "2023-02-16T11:16:27.675Z"
   },
   {
    "duration": 14,
    "start_time": "2023-02-16T11:16:27.695Z"
   },
   {
    "duration": 84,
    "start_time": "2023-02-16T11:16:27.711Z"
   },
   {
    "duration": 4,
    "start_time": "2023-02-16T11:20:38.089Z"
   },
   {
    "duration": 4,
    "start_time": "2023-02-16T11:20:41.890Z"
   },
   {
    "duration": 11,
    "start_time": "2023-02-16T11:21:30.241Z"
   },
   {
    "duration": 600,
    "start_time": "2023-02-16T11:30:17.629Z"
   },
   {
    "duration": 1241,
    "start_time": "2023-02-17T05:12:21.115Z"
   },
   {
    "duration": 444,
    "start_time": "2023-02-17T05:12:22.358Z"
   },
   {
    "duration": 39,
    "start_time": "2023-02-17T05:12:22.803Z"
   },
   {
    "duration": 250,
    "start_time": "2023-02-17T05:12:22.844Z"
   },
   {
    "duration": 40,
    "start_time": "2023-02-17T05:12:23.096Z"
   },
   {
    "duration": 86,
    "start_time": "2023-02-17T05:12:23.138Z"
   },
   {
    "duration": 191,
    "start_time": "2023-02-17T05:12:23.226Z"
   },
   {
    "duration": 31,
    "start_time": "2023-02-17T05:12:23.419Z"
   },
   {
    "duration": 8,
    "start_time": "2023-02-17T05:12:23.452Z"
   },
   {
    "duration": 11,
    "start_time": "2023-02-17T05:12:23.464Z"
   },
   {
    "duration": 17,
    "start_time": "2023-02-17T05:12:23.477Z"
   },
   {
    "duration": 334,
    "start_time": "2023-02-17T05:12:23.496Z"
   },
   {
    "duration": 614,
    "start_time": "2023-02-17T05:12:23.832Z"
   },
   {
    "duration": 16,
    "start_time": "2023-02-17T05:12:24.448Z"
   },
   {
    "duration": 5,
    "start_time": "2023-02-17T05:12:24.466Z"
   },
   {
    "duration": 11,
    "start_time": "2023-02-17T05:12:24.472Z"
   },
   {
    "duration": 18,
    "start_time": "2023-02-17T05:12:24.499Z"
   },
   {
    "duration": 42,
    "start_time": "2023-02-17T05:12:24.518Z"
   },
   {
    "duration": 19,
    "start_time": "2023-02-17T05:12:24.562Z"
   },
   {
    "duration": 86,
    "start_time": "2023-02-17T05:12:24.582Z"
   },
   {
    "duration": 41,
    "start_time": "2023-02-17T05:12:24.671Z"
   },
   {
    "duration": 14,
    "start_time": "2023-02-17T05:12:24.714Z"
   },
   {
    "duration": 3,
    "start_time": "2023-02-17T05:12:24.730Z"
   },
   {
    "duration": 45,
    "start_time": "2023-02-17T05:12:24.734Z"
   },
   {
    "duration": 53,
    "start_time": "2023-02-17T05:12:24.781Z"
   },
   {
    "duration": 37,
    "start_time": "2023-02-17T05:12:24.836Z"
   },
   {
    "duration": 3,
    "start_time": "2023-02-17T05:12:24.875Z"
   },
   {
    "duration": 11,
    "start_time": "2023-02-17T05:12:24.881Z"
   },
   {
    "duration": 27,
    "start_time": "2023-02-17T05:12:24.894Z"
   },
   {
    "duration": 19,
    "start_time": "2023-02-17T05:12:24.923Z"
   },
   {
    "duration": 41,
    "start_time": "2023-02-17T05:12:24.943Z"
   },
   {
    "duration": 113,
    "start_time": "2023-02-17T05:12:24.985Z"
   },
   {
    "duration": 7,
    "start_time": "2023-02-17T05:12:25.111Z"
   },
   {
    "duration": 11,
    "start_time": "2023-02-17T05:12:25.120Z"
   },
   {
    "duration": 82,
    "start_time": "2023-02-17T05:12:25.133Z"
   },
   {
    "duration": 77,
    "start_time": "2023-02-17T05:12:25.217Z"
   },
   {
    "duration": 74,
    "start_time": "2023-02-17T05:12:25.298Z"
   },
   {
    "duration": 97,
    "start_time": "2023-02-17T05:12:25.374Z"
   },
   {
    "duration": 77,
    "start_time": "2023-02-17T05:12:25.473Z"
   },
   {
    "duration": 78,
    "start_time": "2023-02-17T05:12:25.551Z"
   },
   {
    "duration": 84,
    "start_time": "2023-02-17T05:12:25.631Z"
   },
   {
    "duration": 10,
    "start_time": "2023-02-17T05:12:25.717Z"
   },
   {
    "duration": 22,
    "start_time": "2023-02-17T05:12:25.729Z"
   },
   {
    "duration": 20,
    "start_time": "2023-02-17T05:12:25.752Z"
   },
   {
    "duration": 7,
    "start_time": "2023-02-17T05:12:25.774Z"
   },
   {
    "duration": 79,
    "start_time": "2023-02-17T05:12:25.782Z"
   },
   {
    "duration": 42,
    "start_time": "2023-02-17T05:16:35.988Z"
   },
   {
    "duration": 50,
    "start_time": "2023-02-17T05:19:31.094Z"
   },
   {
    "duration": 69,
    "start_time": "2023-02-17T05:26:53.575Z"
   },
   {
    "duration": 306,
    "start_time": "2023-02-17T05:27:03.626Z"
   },
   {
    "duration": 56,
    "start_time": "2023-02-17T05:29:50.383Z"
   },
   {
    "duration": 54,
    "start_time": "2023-02-17T05:29:56.733Z"
   },
   {
    "duration": 491,
    "start_time": "2023-02-17T05:30:40.245Z"
   },
   {
    "duration": 234,
    "start_time": "2023-02-17T05:31:11.547Z"
   },
   {
    "duration": 149,
    "start_time": "2023-02-17T05:36:00.242Z"
   },
   {
    "duration": 9,
    "start_time": "2023-02-17T05:36:26.476Z"
   },
   {
    "duration": 22,
    "start_time": "2023-02-17T05:36:39.728Z"
   },
   {
    "duration": 7,
    "start_time": "2023-02-17T05:36:45.152Z"
   },
   {
    "duration": 5,
    "start_time": "2023-02-17T05:37:20.854Z"
   },
   {
    "duration": 4,
    "start_time": "2023-02-17T05:37:30.278Z"
   },
   {
    "duration": 7,
    "start_time": "2023-02-17T05:37:36.896Z"
   },
   {
    "duration": 4,
    "start_time": "2023-02-17T05:37:52.073Z"
   },
   {
    "duration": 8,
    "start_time": "2023-02-17T05:37:55.637Z"
   },
   {
    "duration": 121,
    "start_time": "2023-02-17T05:40:50.231Z"
   },
   {
    "duration": 1094,
    "start_time": "2023-02-17T06:08:54.061Z"
   },
   {
    "duration": 515,
    "start_time": "2023-02-17T06:08:55.157Z"
   },
   {
    "duration": 31,
    "start_time": "2023-02-17T06:08:55.674Z"
   },
   {
    "duration": 131,
    "start_time": "2023-02-17T06:08:55.707Z"
   },
   {
    "duration": 30,
    "start_time": "2023-02-17T06:08:55.839Z"
   },
   {
    "duration": 89,
    "start_time": "2023-02-17T06:08:55.870Z"
   },
   {
    "duration": 157,
    "start_time": "2023-02-17T06:08:55.960Z"
   },
   {
    "duration": 49,
    "start_time": "2023-02-17T06:08:56.119Z"
   },
   {
    "duration": 44,
    "start_time": "2023-02-17T06:08:56.169Z"
   },
   {
    "duration": 8,
    "start_time": "2023-02-17T06:08:56.216Z"
   },
   {
    "duration": 6,
    "start_time": "2023-02-17T06:08:56.225Z"
   },
   {
    "duration": 13,
    "start_time": "2023-02-17T06:08:56.232Z"
   },
   {
    "duration": 301,
    "start_time": "2023-02-17T06:08:56.247Z"
   },
   {
    "duration": 607,
    "start_time": "2023-02-17T06:08:56.550Z"
   },
   {
    "duration": 23,
    "start_time": "2023-02-17T06:08:57.158Z"
   },
   {
    "duration": 20,
    "start_time": "2023-02-17T06:08:57.183Z"
   },
   {
    "duration": 15,
    "start_time": "2023-02-17T06:08:57.206Z"
   },
   {
    "duration": 18,
    "start_time": "2023-02-17T06:08:57.222Z"
   },
   {
    "duration": 43,
    "start_time": "2023-02-17T06:08:57.242Z"
   },
   {
    "duration": 44,
    "start_time": "2023-02-17T06:08:57.287Z"
   },
   {
    "duration": 83,
    "start_time": "2023-02-17T06:08:57.333Z"
   },
   {
    "duration": 20,
    "start_time": "2023-02-17T06:08:57.418Z"
   },
   {
    "duration": 15,
    "start_time": "2023-02-17T06:08:57.441Z"
   },
   {
    "duration": 5,
    "start_time": "2023-02-17T06:08:57.457Z"
   },
   {
    "duration": 54,
    "start_time": "2023-02-17T06:08:57.464Z"
   },
   {
    "duration": 7,
    "start_time": "2023-02-17T06:08:57.519Z"
   },
   {
    "duration": 10,
    "start_time": "2023-02-17T06:08:57.527Z"
   },
   {
    "duration": 94,
    "start_time": "2023-02-17T06:08:57.541Z"
   },
   {
    "duration": 6,
    "start_time": "2023-02-17T06:08:57.637Z"
   },
   {
    "duration": 113,
    "start_time": "2023-02-17T06:08:57.644Z"
   },
   {
    "duration": 0,
    "start_time": "2023-02-17T06:08:57.758Z"
   },
   {
    "duration": 0,
    "start_time": "2023-02-17T06:08:57.759Z"
   },
   {
    "duration": 0,
    "start_time": "2023-02-17T06:08:57.761Z"
   },
   {
    "duration": 0,
    "start_time": "2023-02-17T06:08:57.762Z"
   },
   {
    "duration": 0,
    "start_time": "2023-02-17T06:08:57.764Z"
   },
   {
    "duration": 0,
    "start_time": "2023-02-17T06:08:57.765Z"
   },
   {
    "duration": 0,
    "start_time": "2023-02-17T06:08:57.765Z"
   },
   {
    "duration": 0,
    "start_time": "2023-02-17T06:08:57.766Z"
   },
   {
    "duration": 0,
    "start_time": "2023-02-17T06:08:57.767Z"
   },
   {
    "duration": 0,
    "start_time": "2023-02-17T06:08:57.768Z"
   },
   {
    "duration": 0,
    "start_time": "2023-02-17T06:08:57.769Z"
   },
   {
    "duration": 1,
    "start_time": "2023-02-17T06:08:57.770Z"
   },
   {
    "duration": 1083,
    "start_time": "2023-02-17T06:20:31.361Z"
   },
   {
    "duration": 314,
    "start_time": "2023-02-17T06:20:32.447Z"
   },
   {
    "duration": 42,
    "start_time": "2023-02-17T06:20:32.763Z"
   },
   {
    "duration": 126,
    "start_time": "2023-02-17T06:20:32.812Z"
   },
   {
    "duration": 30,
    "start_time": "2023-02-17T06:20:32.940Z"
   },
   {
    "duration": 97,
    "start_time": "2023-02-17T06:20:32.972Z"
   },
   {
    "duration": 144,
    "start_time": "2023-02-17T06:20:33.071Z"
   },
   {
    "duration": 50,
    "start_time": "2023-02-17T06:20:33.217Z"
   },
   {
    "duration": 46,
    "start_time": "2023-02-17T06:20:33.269Z"
   },
   {
    "duration": 8,
    "start_time": "2023-02-17T06:20:33.318Z"
   },
   {
    "duration": 29,
    "start_time": "2023-02-17T06:20:33.327Z"
   },
   {
    "duration": 8,
    "start_time": "2023-02-17T06:20:33.358Z"
   },
   {
    "duration": 293,
    "start_time": "2023-02-17T06:20:33.367Z"
   },
   {
    "duration": 746,
    "start_time": "2023-02-17T06:20:33.662Z"
   },
   {
    "duration": 20,
    "start_time": "2023-02-17T06:20:34.416Z"
   },
   {
    "duration": 6,
    "start_time": "2023-02-17T06:20:34.439Z"
   },
   {
    "duration": 10,
    "start_time": "2023-02-17T06:20:34.447Z"
   },
   {
    "duration": 13,
    "start_time": "2023-02-17T06:20:34.458Z"
   },
   {
    "duration": 53,
    "start_time": "2023-02-17T06:20:34.472Z"
   },
   {
    "duration": 19,
    "start_time": "2023-02-17T06:20:34.526Z"
   },
   {
    "duration": 93,
    "start_time": "2023-02-17T06:20:34.547Z"
   },
   {
    "duration": 25,
    "start_time": "2023-02-17T06:20:34.643Z"
   },
   {
    "duration": 19,
    "start_time": "2023-02-17T06:20:34.670Z"
   },
   {
    "duration": 2,
    "start_time": "2023-02-17T06:20:34.703Z"
   },
   {
    "duration": 76,
    "start_time": "2023-02-17T06:20:34.709Z"
   },
   {
    "duration": 9,
    "start_time": "2023-02-17T06:20:34.787Z"
   },
   {
    "duration": 22,
    "start_time": "2023-02-17T06:20:34.800Z"
   },
   {
    "duration": 100,
    "start_time": "2023-02-17T06:20:34.828Z"
   },
   {
    "duration": 5,
    "start_time": "2023-02-17T06:20:34.929Z"
   },
   {
    "duration": 111,
    "start_time": "2023-02-17T06:20:34.936Z"
   },
   {
    "duration": 0,
    "start_time": "2023-02-17T06:20:35.049Z"
   },
   {
    "duration": 1,
    "start_time": "2023-02-17T06:20:35.051Z"
   },
   {
    "duration": 0,
    "start_time": "2023-02-17T06:20:35.053Z"
   },
   {
    "duration": 0,
    "start_time": "2023-02-17T06:20:35.055Z"
   },
   {
    "duration": 0,
    "start_time": "2023-02-17T06:20:35.056Z"
   },
   {
    "duration": 0,
    "start_time": "2023-02-17T06:20:35.058Z"
   },
   {
    "duration": 0,
    "start_time": "2023-02-17T06:20:35.059Z"
   },
   {
    "duration": 0,
    "start_time": "2023-02-17T06:20:35.061Z"
   },
   {
    "duration": 1,
    "start_time": "2023-02-17T06:20:35.062Z"
   },
   {
    "duration": 0,
    "start_time": "2023-02-17T06:20:35.064Z"
   },
   {
    "duration": 0,
    "start_time": "2023-02-17T06:20:35.066Z"
   },
   {
    "duration": 0,
    "start_time": "2023-02-17T06:20:35.067Z"
   },
   {
    "duration": 5,
    "start_time": "2023-02-17T06:20:59.930Z"
   },
   {
    "duration": 1217,
    "start_time": "2023-02-17T06:21:09.710Z"
   },
   {
    "duration": 440,
    "start_time": "2023-02-17T06:21:10.929Z"
   },
   {
    "duration": 48,
    "start_time": "2023-02-17T06:21:11.370Z"
   },
   {
    "duration": 157,
    "start_time": "2023-02-17T06:21:11.420Z"
   },
   {
    "duration": 48,
    "start_time": "2023-02-17T06:21:11.580Z"
   },
   {
    "duration": 92,
    "start_time": "2023-02-17T06:21:11.630Z"
   },
   {
    "duration": 172,
    "start_time": "2023-02-17T06:21:11.724Z"
   },
   {
    "duration": 61,
    "start_time": "2023-02-17T06:21:11.898Z"
   },
   {
    "duration": 52,
    "start_time": "2023-02-17T06:21:11.962Z"
   },
   {
    "duration": 9,
    "start_time": "2023-02-17T06:21:12.017Z"
   },
   {
    "duration": 5,
    "start_time": "2023-02-17T06:21:12.028Z"
   },
   {
    "duration": 12,
    "start_time": "2023-02-17T06:21:12.035Z"
   },
   {
    "duration": 315,
    "start_time": "2023-02-17T06:21:12.049Z"
   },
   {
    "duration": 680,
    "start_time": "2023-02-17T06:21:12.367Z"
   },
   {
    "duration": 18,
    "start_time": "2023-02-17T06:21:13.049Z"
   },
   {
    "duration": 6,
    "start_time": "2023-02-17T06:21:13.068Z"
   },
   {
    "duration": 33,
    "start_time": "2023-02-17T06:21:13.075Z"
   },
   {
    "duration": 16,
    "start_time": "2023-02-17T06:21:13.109Z"
   },
   {
    "duration": 77,
    "start_time": "2023-02-17T06:21:13.127Z"
   },
   {
    "duration": 35,
    "start_time": "2023-02-17T06:21:13.211Z"
   },
   {
    "duration": 75,
    "start_time": "2023-02-17T06:21:13.248Z"
   },
   {
    "duration": 21,
    "start_time": "2023-02-17T06:21:13.325Z"
   },
   {
    "duration": 17,
    "start_time": "2023-02-17T06:21:13.348Z"
   },
   {
    "duration": 7,
    "start_time": "2023-02-17T06:21:13.366Z"
   },
   {
    "duration": 62,
    "start_time": "2023-02-17T06:21:13.375Z"
   },
   {
    "duration": 8,
    "start_time": "2023-02-17T06:21:13.440Z"
   },
   {
    "duration": 8,
    "start_time": "2023-02-17T06:21:13.450Z"
   },
   {
    "duration": 99,
    "start_time": "2023-02-17T06:21:13.461Z"
   },
   {
    "duration": 5,
    "start_time": "2023-02-17T06:21:13.561Z"
   },
   {
    "duration": 13,
    "start_time": "2023-02-17T06:21:13.568Z"
   },
   {
    "duration": 84,
    "start_time": "2023-02-17T06:21:13.582Z"
   },
   {
    "duration": 83,
    "start_time": "2023-02-17T06:21:13.668Z"
   },
   {
    "duration": 81,
    "start_time": "2023-02-17T06:21:13.753Z"
   },
   {
    "duration": 99,
    "start_time": "2023-02-17T06:21:13.835Z"
   },
   {
    "duration": 89,
    "start_time": "2023-02-17T06:21:13.936Z"
   },
   {
    "duration": 89,
    "start_time": "2023-02-17T06:21:14.029Z"
   },
   {
    "duration": 72,
    "start_time": "2023-02-17T06:21:14.120Z"
   },
   {
    "duration": 14,
    "start_time": "2023-02-17T06:21:14.203Z"
   },
   {
    "duration": 40,
    "start_time": "2023-02-17T06:21:14.219Z"
   },
   {
    "duration": 10,
    "start_time": "2023-02-17T06:21:14.261Z"
   },
   {
    "duration": 15,
    "start_time": "2023-02-17T06:21:14.273Z"
   },
   {
    "duration": 98,
    "start_time": "2023-02-17T06:21:14.290Z"
   },
   {
    "duration": 1274,
    "start_time": "2023-02-17T06:28:10.922Z"
   },
   {
    "duration": 435,
    "start_time": "2023-02-17T06:28:12.201Z"
   },
   {
    "duration": 30,
    "start_time": "2023-02-17T06:28:12.639Z"
   },
   {
    "duration": 154,
    "start_time": "2023-02-17T06:28:12.671Z"
   },
   {
    "duration": 31,
    "start_time": "2023-02-17T06:28:12.827Z"
   },
   {
    "duration": 90,
    "start_time": "2023-02-17T06:28:12.860Z"
   },
   {
    "duration": 158,
    "start_time": "2023-02-17T06:28:12.951Z"
   },
   {
    "duration": 56,
    "start_time": "2023-02-17T06:28:13.114Z"
   },
   {
    "duration": 46,
    "start_time": "2023-02-17T06:28:13.172Z"
   },
   {
    "duration": 14,
    "start_time": "2023-02-17T06:28:13.220Z"
   },
   {
    "duration": 4,
    "start_time": "2023-02-17T06:28:13.235Z"
   },
   {
    "duration": 25,
    "start_time": "2023-02-17T06:28:13.241Z"
   },
   {
    "duration": 315,
    "start_time": "2023-02-17T06:28:13.268Z"
   },
   {
    "duration": 722,
    "start_time": "2023-02-17T06:28:13.587Z"
   },
   {
    "duration": 22,
    "start_time": "2023-02-17T06:28:14.311Z"
   },
   {
    "duration": 6,
    "start_time": "2023-02-17T06:28:14.335Z"
   },
   {
    "duration": 28,
    "start_time": "2023-02-17T06:28:14.343Z"
   },
   {
    "duration": 17,
    "start_time": "2023-02-17T06:28:14.373Z"
   },
   {
    "duration": 54,
    "start_time": "2023-02-17T06:28:14.392Z"
   },
   {
    "duration": 19,
    "start_time": "2023-02-17T06:28:14.448Z"
   },
   {
    "duration": 82,
    "start_time": "2023-02-17T06:28:14.469Z"
   },
   {
    "duration": 21,
    "start_time": "2023-02-17T06:28:14.552Z"
   },
   {
    "duration": 36,
    "start_time": "2023-02-17T06:28:14.575Z"
   },
   {
    "duration": 13,
    "start_time": "2023-02-17T06:28:14.613Z"
   },
   {
    "duration": 47,
    "start_time": "2023-02-17T06:28:14.628Z"
   },
   {
    "duration": 8,
    "start_time": "2023-02-17T06:28:14.677Z"
   },
   {
    "duration": 27,
    "start_time": "2023-02-17T06:28:14.687Z"
   },
   {
    "duration": 102,
    "start_time": "2023-02-17T06:28:14.716Z"
   },
   {
    "duration": 6,
    "start_time": "2023-02-17T06:28:14.820Z"
   },
   {
    "duration": 11,
    "start_time": "2023-02-17T06:28:14.828Z"
   },
   {
    "duration": 86,
    "start_time": "2023-02-17T06:28:14.841Z"
   },
   {
    "duration": 89,
    "start_time": "2023-02-17T06:28:14.929Z"
   },
   {
    "duration": 104,
    "start_time": "2023-02-17T06:28:15.020Z"
   },
   {
    "duration": 97,
    "start_time": "2023-02-17T06:28:15.125Z"
   },
   {
    "duration": 83,
    "start_time": "2023-02-17T06:28:15.223Z"
   },
   {
    "duration": 80,
    "start_time": "2023-02-17T06:28:15.308Z"
   },
   {
    "duration": 75,
    "start_time": "2023-02-17T06:28:15.399Z"
   },
   {
    "duration": 10,
    "start_time": "2023-02-17T06:28:15.476Z"
   },
   {
    "duration": 33,
    "start_time": "2023-02-17T06:28:15.499Z"
   },
   {
    "duration": 14,
    "start_time": "2023-02-17T06:28:15.534Z"
   },
   {
    "duration": 11,
    "start_time": "2023-02-17T06:28:15.552Z"
   },
   {
    "duration": 123,
    "start_time": "2023-02-17T06:28:15.564Z"
   }
  ],
  "kernelspec": {
   "display_name": "Python 3 (ipykernel)",
   "language": "python",
   "name": "python3"
  },
  "language_info": {
   "codemirror_mode": {
    "name": "ipython",
    "version": 3
   },
   "file_extension": ".py",
   "mimetype": "text/x-python",
   "name": "python",
   "nbconvert_exporter": "python",
   "pygments_lexer": "ipython3",
   "version": "3.9.13"
  },
  "toc": {
   "base_numbering": 1,
   "nav_menu": {},
   "number_sections": false,
   "sideBar": true,
   "skip_h1_title": false,
   "title_cell": "Table of Contents",
   "title_sidebar": "Contents",
   "toc_cell": false,
   "toc_position": {
    "height": "calc(100% - 180px)",
    "left": "10px",
    "top": "150px",
    "width": "262.273px"
   },
   "toc_section_display": true,
   "toc_window_display": true
  }
 },
 "nbformat": 4,
 "nbformat_minor": 5
}
